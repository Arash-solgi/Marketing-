{
 "cells": [
  {
   "cell_type": "code",
   "execution_count": 1,
   "id": "encouraging-adult",
   "metadata": {
    "_cell_guid": "b1076dfc-b9ad-4769-8c92-a6c4dae69d19",
    "_uuid": "8f2839f25d086af736a60e9eeb907d3b93b6e0e5",
    "execution": {
     "iopub.execute_input": "2021-06-01T20:49:41.271292Z",
     "iopub.status.busy": "2021-06-01T20:49:41.269901Z",
     "iopub.status.idle": "2021-06-01T20:49:41.293390Z",
     "shell.execute_reply": "2021-06-01T20:49:41.292674Z",
     "shell.execute_reply.started": "2021-06-01T20:16:09.878748Z"
    },
    "papermill": {
     "duration": 0.063291,
     "end_time": "2021-06-01T20:49:41.293581",
     "exception": false,
     "start_time": "2021-06-01T20:49:41.230290",
     "status": "completed"
    },
    "tags": []
   },
   "outputs": [
    {
     "name": "stdout",
     "output_type": "stream",
     "text": [
      "/kaggle/input/marketing-data/marketing_data.csv\n"
     ]
    }
   ],
   "source": [
    "# This Python 3 environment comes with many helpful analytics libraries installed\n",
    "# It is defined by the kaggle/python Docker image: https://github.com/kaggle/docker-python\n",
    "# For example, here's several helpful packages to load\n",
    "\n",
    "import numpy as np # linear algebra\n",
    "import pandas as pd # data processing, CSV file I/O (e.g. pd.read_csv)\n",
    "\n",
    "# Input data files are available in the read-only \"../input/\" directory\n",
    "# For example, running this (by clicking run or pressing Shift+Enter) will list all files under the input directory\n",
    "\n",
    "import os\n",
    "for dirname, _, filenames in os.walk('/kaggle/input'):\n",
    "    for filename in filenames:\n",
    "        print(os.path.join(dirname, filename))\n",
    "\n",
    "# You can write up to 20GB to the current directory (/kaggle/working/) that gets preserved as output when you create a version using \"Save & Run All\" \n",
    "# You can also write temporary files to /kaggle/temp/, but they won't be saved outside of the current session"
   ]
  },
  {
   "cell_type": "code",
   "execution_count": 2,
   "id": "intermediate-pavilion",
   "metadata": {
    "execution": {
     "iopub.execute_input": "2021-06-01T20:49:41.361282Z",
     "iopub.status.busy": "2021-06-01T20:49:41.360668Z",
     "iopub.status.idle": "2021-06-01T20:49:44.869302Z",
     "shell.execute_reply": "2021-06-01T20:49:44.868811Z",
     "shell.execute_reply.started": "2021-06-01T20:16:09.897524Z"
    },
    "papermill": {
     "duration": 3.543941,
     "end_time": "2021-06-01T20:49:44.869441",
     "exception": false,
     "start_time": "2021-06-01T20:49:41.325500",
     "status": "completed"
    },
    "tags": []
   },
   "outputs": [],
   "source": [
    "import pandas as pd\n",
    "import seaborn as sns\n",
    "import matplotlib.pyplot as plt\n",
    "import  numpy as np\n",
    "import warnings\n",
    "import plotly.express as ex\n",
    "import plotly.graph_objs as go\n",
    "import plotly.figure_factory as ff\n",
    "from plotly.subplots import make_subplots"
   ]
  },
  {
   "cell_type": "code",
   "execution_count": 3,
   "id": "informational-arbor",
   "metadata": {
    "execution": {
     "iopub.execute_input": "2021-06-01T20:49:44.936990Z",
     "iopub.status.busy": "2021-06-01T20:49:44.936376Z",
     "iopub.status.idle": "2021-06-01T20:49:44.993023Z",
     "shell.execute_reply": "2021-06-01T20:49:44.993449Z",
     "shell.execute_reply.started": "2021-06-01T20:16:11.300949Z"
    },
    "papermill": {
     "duration": 0.092572,
     "end_time": "2021-06-01T20:49:44.993603",
     "exception": false,
     "start_time": "2021-06-01T20:49:44.901031",
     "status": "completed"
    },
    "tags": []
   },
   "outputs": [
    {
     "data": {
      "text/html": [
       "<div>\n",
       "<style scoped>\n",
       "    .dataframe tbody tr th:only-of-type {\n",
       "        vertical-align: middle;\n",
       "    }\n",
       "\n",
       "    .dataframe tbody tr th {\n",
       "        vertical-align: top;\n",
       "    }\n",
       "\n",
       "    .dataframe thead th {\n",
       "        text-align: right;\n",
       "    }\n",
       "</style>\n",
       "<table border=\"1\" class=\"dataframe\">\n",
       "  <thead>\n",
       "    <tr style=\"text-align: right;\">\n",
       "      <th></th>\n",
       "      <th>ID</th>\n",
       "      <th>Year_Birth</th>\n",
       "      <th>Education</th>\n",
       "      <th>Marital_Status</th>\n",
       "      <th>Income</th>\n",
       "      <th>Kidhome</th>\n",
       "      <th>Teenhome</th>\n",
       "      <th>Dt_Customer</th>\n",
       "      <th>Recency</th>\n",
       "      <th>MntWines</th>\n",
       "      <th>...</th>\n",
       "      <th>NumStorePurchases</th>\n",
       "      <th>NumWebVisitsMonth</th>\n",
       "      <th>AcceptedCmp3</th>\n",
       "      <th>AcceptedCmp4</th>\n",
       "      <th>AcceptedCmp5</th>\n",
       "      <th>AcceptedCmp1</th>\n",
       "      <th>AcceptedCmp2</th>\n",
       "      <th>Response</th>\n",
       "      <th>Complain</th>\n",
       "      <th>Country</th>\n",
       "    </tr>\n",
       "  </thead>\n",
       "  <tbody>\n",
       "    <tr>\n",
       "      <th>0</th>\n",
       "      <td>1826</td>\n",
       "      <td>1970</td>\n",
       "      <td>Graduation</td>\n",
       "      <td>Divorced</td>\n",
       "      <td>$84,835.00</td>\n",
       "      <td>0</td>\n",
       "      <td>0</td>\n",
       "      <td>6/16/14</td>\n",
       "      <td>0</td>\n",
       "      <td>189</td>\n",
       "      <td>...</td>\n",
       "      <td>6</td>\n",
       "      <td>1</td>\n",
       "      <td>0</td>\n",
       "      <td>0</td>\n",
       "      <td>0</td>\n",
       "      <td>0</td>\n",
       "      <td>0</td>\n",
       "      <td>1</td>\n",
       "      <td>0</td>\n",
       "      <td>SP</td>\n",
       "    </tr>\n",
       "    <tr>\n",
       "      <th>1</th>\n",
       "      <td>1</td>\n",
       "      <td>1961</td>\n",
       "      <td>Graduation</td>\n",
       "      <td>Single</td>\n",
       "      <td>$57,091.00</td>\n",
       "      <td>0</td>\n",
       "      <td>0</td>\n",
       "      <td>6/15/14</td>\n",
       "      <td>0</td>\n",
       "      <td>464</td>\n",
       "      <td>...</td>\n",
       "      <td>7</td>\n",
       "      <td>5</td>\n",
       "      <td>0</td>\n",
       "      <td>0</td>\n",
       "      <td>0</td>\n",
       "      <td>0</td>\n",
       "      <td>1</td>\n",
       "      <td>1</td>\n",
       "      <td>0</td>\n",
       "      <td>CA</td>\n",
       "    </tr>\n",
       "    <tr>\n",
       "      <th>2</th>\n",
       "      <td>10476</td>\n",
       "      <td>1958</td>\n",
       "      <td>Graduation</td>\n",
       "      <td>Married</td>\n",
       "      <td>$67,267.00</td>\n",
       "      <td>0</td>\n",
       "      <td>1</td>\n",
       "      <td>5/13/14</td>\n",
       "      <td>0</td>\n",
       "      <td>134</td>\n",
       "      <td>...</td>\n",
       "      <td>5</td>\n",
       "      <td>2</td>\n",
       "      <td>0</td>\n",
       "      <td>0</td>\n",
       "      <td>0</td>\n",
       "      <td>0</td>\n",
       "      <td>0</td>\n",
       "      <td>0</td>\n",
       "      <td>0</td>\n",
       "      <td>US</td>\n",
       "    </tr>\n",
       "    <tr>\n",
       "      <th>3</th>\n",
       "      <td>1386</td>\n",
       "      <td>1967</td>\n",
       "      <td>Graduation</td>\n",
       "      <td>Together</td>\n",
       "      <td>$32,474.00</td>\n",
       "      <td>1</td>\n",
       "      <td>1</td>\n",
       "      <td>5/11/14</td>\n",
       "      <td>0</td>\n",
       "      <td>10</td>\n",
       "      <td>...</td>\n",
       "      <td>2</td>\n",
       "      <td>7</td>\n",
       "      <td>0</td>\n",
       "      <td>0</td>\n",
       "      <td>0</td>\n",
       "      <td>0</td>\n",
       "      <td>0</td>\n",
       "      <td>0</td>\n",
       "      <td>0</td>\n",
       "      <td>AUS</td>\n",
       "    </tr>\n",
       "    <tr>\n",
       "      <th>4</th>\n",
       "      <td>5371</td>\n",
       "      <td>1989</td>\n",
       "      <td>Graduation</td>\n",
       "      <td>Single</td>\n",
       "      <td>$21,474.00</td>\n",
       "      <td>1</td>\n",
       "      <td>0</td>\n",
       "      <td>4/8/14</td>\n",
       "      <td>0</td>\n",
       "      <td>6</td>\n",
       "      <td>...</td>\n",
       "      <td>2</td>\n",
       "      <td>7</td>\n",
       "      <td>1</td>\n",
       "      <td>0</td>\n",
       "      <td>0</td>\n",
       "      <td>0</td>\n",
       "      <td>0</td>\n",
       "      <td>1</td>\n",
       "      <td>0</td>\n",
       "      <td>SP</td>\n",
       "    </tr>\n",
       "  </tbody>\n",
       "</table>\n",
       "<p>5 rows × 28 columns</p>\n",
       "</div>"
      ],
      "text/plain": [
       "      ID  Year_Birth   Education Marital_Status      Income   Kidhome  \\\n",
       "0   1826        1970  Graduation       Divorced  $84,835.00         0   \n",
       "1      1        1961  Graduation         Single  $57,091.00         0   \n",
       "2  10476        1958  Graduation        Married  $67,267.00         0   \n",
       "3   1386        1967  Graduation       Together  $32,474.00         1   \n",
       "4   5371        1989  Graduation         Single  $21,474.00         1   \n",
       "\n",
       "   Teenhome Dt_Customer  Recency  MntWines  ...  NumStorePurchases  \\\n",
       "0         0     6/16/14        0       189  ...                  6   \n",
       "1         0     6/15/14        0       464  ...                  7   \n",
       "2         1     5/13/14        0       134  ...                  5   \n",
       "3         1     5/11/14        0        10  ...                  2   \n",
       "4         0      4/8/14        0         6  ...                  2   \n",
       "\n",
       "   NumWebVisitsMonth  AcceptedCmp3  AcceptedCmp4  AcceptedCmp5  AcceptedCmp1  \\\n",
       "0                  1             0             0             0             0   \n",
       "1                  5             0             0             0             0   \n",
       "2                  2             0             0             0             0   \n",
       "3                  7             0             0             0             0   \n",
       "4                  7             1             0             0             0   \n",
       "\n",
       "   AcceptedCmp2  Response  Complain  Country  \n",
       "0             0         1         0       SP  \n",
       "1             1         1         0       CA  \n",
       "2             0         0         0       US  \n",
       "3             0         0         0      AUS  \n",
       "4             0         1         0       SP  \n",
       "\n",
       "[5 rows x 28 columns]"
      ]
     },
     "execution_count": 3,
     "metadata": {},
     "output_type": "execute_result"
    }
   ],
   "source": [
    "df=pd.read_csv('../input/marketing-data/marketing_data.csv')\n",
    "df.head(5)"
   ]
  },
  {
   "cell_type": "markdown",
   "id": "pharmaceutical-scratch",
   "metadata": {
    "papermill": {
     "duration": 0.031377,
     "end_time": "2021-06-01T20:49:45.057299",
     "exception": false,
     "start_time": "2021-06-01T20:49:45.025922",
     "status": "completed"
    },
    "tags": []
   },
   "source": [
    "* Id: Id card\n",
    "* Year_Birth: the year of the birth\n",
    "* Education: Eduation\n",
    "* Maritial_status: Maritial_status\n",
    "* income; salary of the year\n",
    "* kidhome: Number of Children in costumers household\n",
    "* teenhome: number of teenagers in costumers household\n",
    "* Dt_Customer: Date of customer's enrollment with the company\n",
    "* Recency: Number of days since customer's last purchase\n",
    "* MntWines: Amount spent on wine in the last 2 years\n",
    "* MntFruits: Amount spent on meat in the last 2 years\n",
    "* MntFishProducts: Amount spent on fish in the last 2 years\n",
    "* MntSweetProducts: Amount spent on sweet in the last 2 years\n",
    "* MntGoldProds: Amount spent on gold in the last 2 years\n",
    "* NumDealsPurchases: Number of deal Purchase \n",
    "* NumWebPurchases: number of people who by with web\n",
    "* NumCatalogPurchases: Number of catalog purchases\n",
    "* NumStorePurchases: Number of store purchases\n",
    "* NumWebVisitsMonth: Number of people who visit the web in this month\n",
    "* AcceptedCmp3: AcceptedCmp3\n",
    "* AcceptedCmp4: AcceptedCmp4\n",
    "* AcceptedCmp5: AcceptedCmp5\n",
    "* AcceptedCmp1: AcceptedCmp1\n",
    "* AcceptedCmp2: AcceptedCmp2\n",
    "* Response: Response \n",
    "* Complain: Complain\n",
    "* Country: Country"
   ]
  },
  {
   "cell_type": "code",
   "execution_count": 4,
   "id": "dangerous-terry",
   "metadata": {
    "execution": {
     "iopub.execute_input": "2021-06-01T20:49:45.144429Z",
     "iopub.status.busy": "2021-06-01T20:49:45.143824Z",
     "iopub.status.idle": "2021-06-01T20:49:45.146690Z",
     "shell.execute_reply": "2021-06-01T20:49:45.147168Z",
     "shell.execute_reply.started": "2021-06-01T20:16:11.351789Z"
    },
    "papermill": {
     "duration": 0.05706,
     "end_time": "2021-06-01T20:49:45.147332",
     "exception": false,
     "start_time": "2021-06-01T20:49:45.090272",
     "status": "completed"
    },
    "tags": []
   },
   "outputs": [
    {
     "name": "stdout",
     "output_type": "stream",
     "text": [
      "<class 'pandas.core.frame.DataFrame'>\n",
      "RangeIndex: 2240 entries, 0 to 2239\n",
      "Data columns (total 28 columns):\n",
      " #   Column               Non-Null Count  Dtype \n",
      "---  ------               --------------  ----- \n",
      " 0   ID                   2240 non-null   int64 \n",
      " 1   Year_Birth           2240 non-null   int64 \n",
      " 2   Education            2240 non-null   object\n",
      " 3   Marital_Status       2240 non-null   object\n",
      " 4    Income              2216 non-null   object\n",
      " 5   Kidhome              2240 non-null   int64 \n",
      " 6   Teenhome             2240 non-null   int64 \n",
      " 7   Dt_Customer          2240 non-null   object\n",
      " 8   Recency              2240 non-null   int64 \n",
      " 9   MntWines             2240 non-null   int64 \n",
      " 10  MntFruits            2240 non-null   int64 \n",
      " 11  MntMeatProducts      2240 non-null   int64 \n",
      " 12  MntFishProducts      2240 non-null   int64 \n",
      " 13  MntSweetProducts     2240 non-null   int64 \n",
      " 14  MntGoldProds         2240 non-null   int64 \n",
      " 15  NumDealsPurchases    2240 non-null   int64 \n",
      " 16  NumWebPurchases      2240 non-null   int64 \n",
      " 17  NumCatalogPurchases  2240 non-null   int64 \n",
      " 18  NumStorePurchases    2240 non-null   int64 \n",
      " 19  NumWebVisitsMonth    2240 non-null   int64 \n",
      " 20  AcceptedCmp3         2240 non-null   int64 \n",
      " 21  AcceptedCmp4         2240 non-null   int64 \n",
      " 22  AcceptedCmp5         2240 non-null   int64 \n",
      " 23  AcceptedCmp1         2240 non-null   int64 \n",
      " 24  AcceptedCmp2         2240 non-null   int64 \n",
      " 25  Response             2240 non-null   int64 \n",
      " 26  Complain             2240 non-null   int64 \n",
      " 27  Country              2240 non-null   object\n",
      "dtypes: int64(23), object(5)\n",
      "memory usage: 490.1+ KB\n"
     ]
    }
   ],
   "source": [
    "df.info()"
   ]
  },
  {
   "cell_type": "code",
   "execution_count": 5,
   "id": "sophisticated-bandwidth",
   "metadata": {
    "execution": {
     "iopub.execute_input": "2021-06-01T20:49:45.215337Z",
     "iopub.status.busy": "2021-06-01T20:49:45.214685Z",
     "iopub.status.idle": "2021-06-01T20:49:45.218768Z",
     "shell.execute_reply": "2021-06-01T20:49:45.218246Z",
     "shell.execute_reply.started": "2021-06-01T20:16:11.374455Z"
    },
    "papermill": {
     "duration": 0.039879,
     "end_time": "2021-06-01T20:49:45.218909",
     "exception": false,
     "start_time": "2021-06-01T20:49:45.179030",
     "status": "completed"
    },
    "tags": []
   },
   "outputs": [
    {
     "data": {
      "text/plain": [
       "(2240, 28)"
      ]
     },
     "execution_count": 5,
     "metadata": {},
     "output_type": "execute_result"
    }
   ],
   "source": [
    "df.shape"
   ]
  },
  {
   "cell_type": "code",
   "execution_count": 6,
   "id": "related-earth",
   "metadata": {
    "execution": {
     "iopub.execute_input": "2021-06-01T20:49:45.301953Z",
     "iopub.status.busy": "2021-06-01T20:49:45.294766Z",
     "iopub.status.idle": "2021-06-01T20:49:45.305507Z",
     "shell.execute_reply": "2021-06-01T20:49:45.305903Z",
     "shell.execute_reply.started": "2021-06-01T20:16:11.383552Z"
    },
    "papermill": {
     "duration": 0.054721,
     "end_time": "2021-06-01T20:49:45.306061",
     "exception": false,
     "start_time": "2021-06-01T20:49:45.251340",
     "status": "completed"
    },
    "tags": []
   },
   "outputs": [
    {
     "data": {
      "text/html": [
       "<div>\n",
       "<style scoped>\n",
       "    .dataframe tbody tr th:only-of-type {\n",
       "        vertical-align: middle;\n",
       "    }\n",
       "\n",
       "    .dataframe tbody tr th {\n",
       "        vertical-align: top;\n",
       "    }\n",
       "\n",
       "    .dataframe thead th {\n",
       "        text-align: right;\n",
       "    }\n",
       "</style>\n",
       "<table border=\"1\" class=\"dataframe\">\n",
       "  <thead>\n",
       "    <tr style=\"text-align: right;\">\n",
       "      <th></th>\n",
       "      <th>Education</th>\n",
       "      <th>Marital_Status</th>\n",
       "      <th>Income</th>\n",
       "      <th>Kidhome</th>\n",
       "      <th>Teenhome</th>\n",
       "      <th>Recency</th>\n",
       "      <th>MntWines</th>\n",
       "      <th>MntFruits</th>\n",
       "      <th>MntMeatProducts</th>\n",
       "      <th>MntFishProducts</th>\n",
       "      <th>...</th>\n",
       "      <th>NumStorePurchases</th>\n",
       "      <th>NumWebVisitsMonth</th>\n",
       "      <th>AcceptedCmp3</th>\n",
       "      <th>AcceptedCmp4</th>\n",
       "      <th>AcceptedCmp5</th>\n",
       "      <th>AcceptedCmp1</th>\n",
       "      <th>AcceptedCmp2</th>\n",
       "      <th>Response</th>\n",
       "      <th>Complain</th>\n",
       "      <th>Country</th>\n",
       "    </tr>\n",
       "  </thead>\n",
       "  <tbody>\n",
       "    <tr>\n",
       "      <th>0</th>\n",
       "      <td>Graduation</td>\n",
       "      <td>Divorced</td>\n",
       "      <td>$84,835.00</td>\n",
       "      <td>0</td>\n",
       "      <td>0</td>\n",
       "      <td>0</td>\n",
       "      <td>189</td>\n",
       "      <td>104</td>\n",
       "      <td>379</td>\n",
       "      <td>111</td>\n",
       "      <td>...</td>\n",
       "      <td>6</td>\n",
       "      <td>1</td>\n",
       "      <td>0</td>\n",
       "      <td>0</td>\n",
       "      <td>0</td>\n",
       "      <td>0</td>\n",
       "      <td>0</td>\n",
       "      <td>1</td>\n",
       "      <td>0</td>\n",
       "      <td>SP</td>\n",
       "    </tr>\n",
       "    <tr>\n",
       "      <th>1</th>\n",
       "      <td>Graduation</td>\n",
       "      <td>Single</td>\n",
       "      <td>$57,091.00</td>\n",
       "      <td>0</td>\n",
       "      <td>0</td>\n",
       "      <td>0</td>\n",
       "      <td>464</td>\n",
       "      <td>5</td>\n",
       "      <td>64</td>\n",
       "      <td>7</td>\n",
       "      <td>...</td>\n",
       "      <td>7</td>\n",
       "      <td>5</td>\n",
       "      <td>0</td>\n",
       "      <td>0</td>\n",
       "      <td>0</td>\n",
       "      <td>0</td>\n",
       "      <td>1</td>\n",
       "      <td>1</td>\n",
       "      <td>0</td>\n",
       "      <td>CA</td>\n",
       "    </tr>\n",
       "    <tr>\n",
       "      <th>2</th>\n",
       "      <td>Graduation</td>\n",
       "      <td>Married</td>\n",
       "      <td>$67,267.00</td>\n",
       "      <td>0</td>\n",
       "      <td>1</td>\n",
       "      <td>0</td>\n",
       "      <td>134</td>\n",
       "      <td>11</td>\n",
       "      <td>59</td>\n",
       "      <td>15</td>\n",
       "      <td>...</td>\n",
       "      <td>5</td>\n",
       "      <td>2</td>\n",
       "      <td>0</td>\n",
       "      <td>0</td>\n",
       "      <td>0</td>\n",
       "      <td>0</td>\n",
       "      <td>0</td>\n",
       "      <td>0</td>\n",
       "      <td>0</td>\n",
       "      <td>US</td>\n",
       "    </tr>\n",
       "    <tr>\n",
       "      <th>3</th>\n",
       "      <td>Graduation</td>\n",
       "      <td>Together</td>\n",
       "      <td>$32,474.00</td>\n",
       "      <td>1</td>\n",
       "      <td>1</td>\n",
       "      <td>0</td>\n",
       "      <td>10</td>\n",
       "      <td>0</td>\n",
       "      <td>1</td>\n",
       "      <td>0</td>\n",
       "      <td>...</td>\n",
       "      <td>2</td>\n",
       "      <td>7</td>\n",
       "      <td>0</td>\n",
       "      <td>0</td>\n",
       "      <td>0</td>\n",
       "      <td>0</td>\n",
       "      <td>0</td>\n",
       "      <td>0</td>\n",
       "      <td>0</td>\n",
       "      <td>AUS</td>\n",
       "    </tr>\n",
       "    <tr>\n",
       "      <th>4</th>\n",
       "      <td>Graduation</td>\n",
       "      <td>Single</td>\n",
       "      <td>$21,474.00</td>\n",
       "      <td>1</td>\n",
       "      <td>0</td>\n",
       "      <td>0</td>\n",
       "      <td>6</td>\n",
       "      <td>16</td>\n",
       "      <td>24</td>\n",
       "      <td>11</td>\n",
       "      <td>...</td>\n",
       "      <td>2</td>\n",
       "      <td>7</td>\n",
       "      <td>1</td>\n",
       "      <td>0</td>\n",
       "      <td>0</td>\n",
       "      <td>0</td>\n",
       "      <td>0</td>\n",
       "      <td>1</td>\n",
       "      <td>0</td>\n",
       "      <td>SP</td>\n",
       "    </tr>\n",
       "  </tbody>\n",
       "</table>\n",
       "<p>5 rows × 25 columns</p>\n",
       "</div>"
      ],
      "text/plain": [
       "    Education Marital_Status      Income   Kidhome  Teenhome  Recency  \\\n",
       "0  Graduation       Divorced  $84,835.00         0         0        0   \n",
       "1  Graduation         Single  $57,091.00         0         0        0   \n",
       "2  Graduation        Married  $67,267.00         0         1        0   \n",
       "3  Graduation       Together  $32,474.00         1         1        0   \n",
       "4  Graduation         Single  $21,474.00         1         0        0   \n",
       "\n",
       "   MntWines  MntFruits  MntMeatProducts  MntFishProducts  ...  \\\n",
       "0       189        104              379              111  ...   \n",
       "1       464          5               64                7  ...   \n",
       "2       134         11               59               15  ...   \n",
       "3        10          0                1                0  ...   \n",
       "4         6         16               24               11  ...   \n",
       "\n",
       "   NumStorePurchases  NumWebVisitsMonth  AcceptedCmp3  AcceptedCmp4  \\\n",
       "0                  6                  1             0             0   \n",
       "1                  7                  5             0             0   \n",
       "2                  5                  2             0             0   \n",
       "3                  2                  7             0             0   \n",
       "4                  2                  7             1             0   \n",
       "\n",
       "   AcceptedCmp5  AcceptedCmp1  AcceptedCmp2  Response  Complain  Country  \n",
       "0             0             0             0         1         0       SP  \n",
       "1             0             0             1         1         0       CA  \n",
       "2             0             0             0         0         0       US  \n",
       "3             0             0             0         0         0      AUS  \n",
       "4             0             0             0         1         0       SP  \n",
       "\n",
       "[5 rows x 25 columns]"
      ]
     },
     "execution_count": 6,
     "metadata": {},
     "output_type": "execute_result"
    }
   ],
   "source": [
    "df.drop(columns=['ID','Year_Birth','Dt_Customer'],axis=1,inplace=True)\n",
    "df.head()"
   ]
  },
  {
   "cell_type": "code",
   "execution_count": 7,
   "id": "individual-manor",
   "metadata": {
    "execution": {
     "iopub.execute_input": "2021-06-01T20:49:45.377488Z",
     "iopub.status.busy": "2021-06-01T20:49:45.374684Z",
     "iopub.status.idle": "2021-06-01T20:49:45.446219Z",
     "shell.execute_reply": "2021-06-01T20:49:45.445734Z",
     "shell.execute_reply.started": "2021-06-01T20:16:11.410430Z"
    },
    "papermill": {
     "duration": 0.107435,
     "end_time": "2021-06-01T20:49:45.446346",
     "exception": false,
     "start_time": "2021-06-01T20:49:45.338911",
     "status": "completed"
    },
    "tags": []
   },
   "outputs": [
    {
     "data": {
      "text/html": [
       "<div>\n",
       "<style scoped>\n",
       "    .dataframe tbody tr th:only-of-type {\n",
       "        vertical-align: middle;\n",
       "    }\n",
       "\n",
       "    .dataframe tbody tr th {\n",
       "        vertical-align: top;\n",
       "    }\n",
       "\n",
       "    .dataframe thead th {\n",
       "        text-align: right;\n",
       "    }\n",
       "</style>\n",
       "<table border=\"1\" class=\"dataframe\">\n",
       "  <thead>\n",
       "    <tr style=\"text-align: right;\">\n",
       "      <th></th>\n",
       "      <th>Kidhome</th>\n",
       "      <th>Teenhome</th>\n",
       "      <th>Recency</th>\n",
       "      <th>MntWines</th>\n",
       "      <th>MntFruits</th>\n",
       "      <th>MntMeatProducts</th>\n",
       "      <th>MntFishProducts</th>\n",
       "      <th>MntSweetProducts</th>\n",
       "      <th>MntGoldProds</th>\n",
       "      <th>NumDealsPurchases</th>\n",
       "      <th>...</th>\n",
       "      <th>NumCatalogPurchases</th>\n",
       "      <th>NumStorePurchases</th>\n",
       "      <th>NumWebVisitsMonth</th>\n",
       "      <th>AcceptedCmp3</th>\n",
       "      <th>AcceptedCmp4</th>\n",
       "      <th>AcceptedCmp5</th>\n",
       "      <th>AcceptedCmp1</th>\n",
       "      <th>AcceptedCmp2</th>\n",
       "      <th>Response</th>\n",
       "      <th>Complain</th>\n",
       "    </tr>\n",
       "  </thead>\n",
       "  <tbody>\n",
       "    <tr>\n",
       "      <th>count</th>\n",
       "      <td>2240.000000</td>\n",
       "      <td>2240.000000</td>\n",
       "      <td>2240.000000</td>\n",
       "      <td>2240.000000</td>\n",
       "      <td>2240.000000</td>\n",
       "      <td>2240.000000</td>\n",
       "      <td>2240.000000</td>\n",
       "      <td>2240.000000</td>\n",
       "      <td>2240.000000</td>\n",
       "      <td>2240.000000</td>\n",
       "      <td>...</td>\n",
       "      <td>2240.000000</td>\n",
       "      <td>2240.000000</td>\n",
       "      <td>2240.000000</td>\n",
       "      <td>2240.000000</td>\n",
       "      <td>2240.000000</td>\n",
       "      <td>2240.000000</td>\n",
       "      <td>2240.000000</td>\n",
       "      <td>2240.000000</td>\n",
       "      <td>2240.000000</td>\n",
       "      <td>2240.000000</td>\n",
       "    </tr>\n",
       "    <tr>\n",
       "      <th>mean</th>\n",
       "      <td>0.444196</td>\n",
       "      <td>0.506250</td>\n",
       "      <td>49.109375</td>\n",
       "      <td>303.935714</td>\n",
       "      <td>26.302232</td>\n",
       "      <td>166.950000</td>\n",
       "      <td>37.525446</td>\n",
       "      <td>27.062946</td>\n",
       "      <td>44.021875</td>\n",
       "      <td>2.325000</td>\n",
       "      <td>...</td>\n",
       "      <td>2.662054</td>\n",
       "      <td>5.790179</td>\n",
       "      <td>5.316518</td>\n",
       "      <td>0.072768</td>\n",
       "      <td>0.074554</td>\n",
       "      <td>0.072768</td>\n",
       "      <td>0.064286</td>\n",
       "      <td>0.013393</td>\n",
       "      <td>0.149107</td>\n",
       "      <td>0.009375</td>\n",
       "    </tr>\n",
       "    <tr>\n",
       "      <th>std</th>\n",
       "      <td>0.538398</td>\n",
       "      <td>0.544538</td>\n",
       "      <td>28.962453</td>\n",
       "      <td>336.597393</td>\n",
       "      <td>39.773434</td>\n",
       "      <td>225.715373</td>\n",
       "      <td>54.628979</td>\n",
       "      <td>41.280498</td>\n",
       "      <td>52.167439</td>\n",
       "      <td>1.932238</td>\n",
       "      <td>...</td>\n",
       "      <td>2.923101</td>\n",
       "      <td>3.250958</td>\n",
       "      <td>2.426645</td>\n",
       "      <td>0.259813</td>\n",
       "      <td>0.262728</td>\n",
       "      <td>0.259813</td>\n",
       "      <td>0.245316</td>\n",
       "      <td>0.114976</td>\n",
       "      <td>0.356274</td>\n",
       "      <td>0.096391</td>\n",
       "    </tr>\n",
       "    <tr>\n",
       "      <th>min</th>\n",
       "      <td>0.000000</td>\n",
       "      <td>0.000000</td>\n",
       "      <td>0.000000</td>\n",
       "      <td>0.000000</td>\n",
       "      <td>0.000000</td>\n",
       "      <td>0.000000</td>\n",
       "      <td>0.000000</td>\n",
       "      <td>0.000000</td>\n",
       "      <td>0.000000</td>\n",
       "      <td>0.000000</td>\n",
       "      <td>...</td>\n",
       "      <td>0.000000</td>\n",
       "      <td>0.000000</td>\n",
       "      <td>0.000000</td>\n",
       "      <td>0.000000</td>\n",
       "      <td>0.000000</td>\n",
       "      <td>0.000000</td>\n",
       "      <td>0.000000</td>\n",
       "      <td>0.000000</td>\n",
       "      <td>0.000000</td>\n",
       "      <td>0.000000</td>\n",
       "    </tr>\n",
       "    <tr>\n",
       "      <th>25%</th>\n",
       "      <td>0.000000</td>\n",
       "      <td>0.000000</td>\n",
       "      <td>24.000000</td>\n",
       "      <td>23.750000</td>\n",
       "      <td>1.000000</td>\n",
       "      <td>16.000000</td>\n",
       "      <td>3.000000</td>\n",
       "      <td>1.000000</td>\n",
       "      <td>9.000000</td>\n",
       "      <td>1.000000</td>\n",
       "      <td>...</td>\n",
       "      <td>0.000000</td>\n",
       "      <td>3.000000</td>\n",
       "      <td>3.000000</td>\n",
       "      <td>0.000000</td>\n",
       "      <td>0.000000</td>\n",
       "      <td>0.000000</td>\n",
       "      <td>0.000000</td>\n",
       "      <td>0.000000</td>\n",
       "      <td>0.000000</td>\n",
       "      <td>0.000000</td>\n",
       "    </tr>\n",
       "    <tr>\n",
       "      <th>50%</th>\n",
       "      <td>0.000000</td>\n",
       "      <td>0.000000</td>\n",
       "      <td>49.000000</td>\n",
       "      <td>173.500000</td>\n",
       "      <td>8.000000</td>\n",
       "      <td>67.000000</td>\n",
       "      <td>12.000000</td>\n",
       "      <td>8.000000</td>\n",
       "      <td>24.000000</td>\n",
       "      <td>2.000000</td>\n",
       "      <td>...</td>\n",
       "      <td>2.000000</td>\n",
       "      <td>5.000000</td>\n",
       "      <td>6.000000</td>\n",
       "      <td>0.000000</td>\n",
       "      <td>0.000000</td>\n",
       "      <td>0.000000</td>\n",
       "      <td>0.000000</td>\n",
       "      <td>0.000000</td>\n",
       "      <td>0.000000</td>\n",
       "      <td>0.000000</td>\n",
       "    </tr>\n",
       "    <tr>\n",
       "      <th>75%</th>\n",
       "      <td>1.000000</td>\n",
       "      <td>1.000000</td>\n",
       "      <td>74.000000</td>\n",
       "      <td>504.250000</td>\n",
       "      <td>33.000000</td>\n",
       "      <td>232.000000</td>\n",
       "      <td>50.000000</td>\n",
       "      <td>33.000000</td>\n",
       "      <td>56.000000</td>\n",
       "      <td>3.000000</td>\n",
       "      <td>...</td>\n",
       "      <td>4.000000</td>\n",
       "      <td>8.000000</td>\n",
       "      <td>7.000000</td>\n",
       "      <td>0.000000</td>\n",
       "      <td>0.000000</td>\n",
       "      <td>0.000000</td>\n",
       "      <td>0.000000</td>\n",
       "      <td>0.000000</td>\n",
       "      <td>0.000000</td>\n",
       "      <td>0.000000</td>\n",
       "    </tr>\n",
       "    <tr>\n",
       "      <th>max</th>\n",
       "      <td>2.000000</td>\n",
       "      <td>2.000000</td>\n",
       "      <td>99.000000</td>\n",
       "      <td>1493.000000</td>\n",
       "      <td>199.000000</td>\n",
       "      <td>1725.000000</td>\n",
       "      <td>259.000000</td>\n",
       "      <td>263.000000</td>\n",
       "      <td>362.000000</td>\n",
       "      <td>15.000000</td>\n",
       "      <td>...</td>\n",
       "      <td>28.000000</td>\n",
       "      <td>13.000000</td>\n",
       "      <td>20.000000</td>\n",
       "      <td>1.000000</td>\n",
       "      <td>1.000000</td>\n",
       "      <td>1.000000</td>\n",
       "      <td>1.000000</td>\n",
       "      <td>1.000000</td>\n",
       "      <td>1.000000</td>\n",
       "      <td>1.000000</td>\n",
       "    </tr>\n",
       "  </tbody>\n",
       "</table>\n",
       "<p>8 rows × 21 columns</p>\n",
       "</div>"
      ],
      "text/plain": [
       "           Kidhome     Teenhome      Recency     MntWines    MntFruits  \\\n",
       "count  2240.000000  2240.000000  2240.000000  2240.000000  2240.000000   \n",
       "mean      0.444196     0.506250    49.109375   303.935714    26.302232   \n",
       "std       0.538398     0.544538    28.962453   336.597393    39.773434   \n",
       "min       0.000000     0.000000     0.000000     0.000000     0.000000   \n",
       "25%       0.000000     0.000000    24.000000    23.750000     1.000000   \n",
       "50%       0.000000     0.000000    49.000000   173.500000     8.000000   \n",
       "75%       1.000000     1.000000    74.000000   504.250000    33.000000   \n",
       "max       2.000000     2.000000    99.000000  1493.000000   199.000000   \n",
       "\n",
       "       MntMeatProducts  MntFishProducts  MntSweetProducts  MntGoldProds  \\\n",
       "count      2240.000000      2240.000000       2240.000000   2240.000000   \n",
       "mean        166.950000        37.525446         27.062946     44.021875   \n",
       "std         225.715373        54.628979         41.280498     52.167439   \n",
       "min           0.000000         0.000000          0.000000      0.000000   \n",
       "25%          16.000000         3.000000          1.000000      9.000000   \n",
       "50%          67.000000        12.000000          8.000000     24.000000   \n",
       "75%         232.000000        50.000000         33.000000     56.000000   \n",
       "max        1725.000000       259.000000        263.000000    362.000000   \n",
       "\n",
       "       NumDealsPurchases  ...  NumCatalogPurchases  NumStorePurchases  \\\n",
       "count        2240.000000  ...          2240.000000        2240.000000   \n",
       "mean            2.325000  ...             2.662054           5.790179   \n",
       "std             1.932238  ...             2.923101           3.250958   \n",
       "min             0.000000  ...             0.000000           0.000000   \n",
       "25%             1.000000  ...             0.000000           3.000000   \n",
       "50%             2.000000  ...             2.000000           5.000000   \n",
       "75%             3.000000  ...             4.000000           8.000000   \n",
       "max            15.000000  ...            28.000000          13.000000   \n",
       "\n",
       "       NumWebVisitsMonth  AcceptedCmp3  AcceptedCmp4  AcceptedCmp5  \\\n",
       "count        2240.000000   2240.000000   2240.000000   2240.000000   \n",
       "mean            5.316518      0.072768      0.074554      0.072768   \n",
       "std             2.426645      0.259813      0.262728      0.259813   \n",
       "min             0.000000      0.000000      0.000000      0.000000   \n",
       "25%             3.000000      0.000000      0.000000      0.000000   \n",
       "50%             6.000000      0.000000      0.000000      0.000000   \n",
       "75%             7.000000      0.000000      0.000000      0.000000   \n",
       "max            20.000000      1.000000      1.000000      1.000000   \n",
       "\n",
       "       AcceptedCmp1  AcceptedCmp2     Response     Complain  \n",
       "count   2240.000000   2240.000000  2240.000000  2240.000000  \n",
       "mean       0.064286      0.013393     0.149107     0.009375  \n",
       "std        0.245316      0.114976     0.356274     0.096391  \n",
       "min        0.000000      0.000000     0.000000     0.000000  \n",
       "25%        0.000000      0.000000     0.000000     0.000000  \n",
       "50%        0.000000      0.000000     0.000000     0.000000  \n",
       "75%        0.000000      0.000000     0.000000     0.000000  \n",
       "max        1.000000      1.000000     1.000000     1.000000  \n",
       "\n",
       "[8 rows x 21 columns]"
      ]
     },
     "execution_count": 7,
     "metadata": {},
     "output_type": "execute_result"
    }
   ],
   "source": [
    "df.describe()"
   ]
  },
  {
   "cell_type": "code",
   "execution_count": 8,
   "id": "partial-trash",
   "metadata": {
    "execution": {
     "iopub.execute_input": "2021-06-01T20:49:45.521633Z",
     "iopub.status.busy": "2021-06-01T20:49:45.521080Z",
     "iopub.status.idle": "2021-06-01T20:49:45.527658Z",
     "shell.execute_reply": "2021-06-01T20:49:45.527249Z",
     "shell.execute_reply.started": "2021-06-01T20:16:11.485598Z"
    },
    "papermill": {
     "duration": 0.04759,
     "end_time": "2021-06-01T20:49:45.527789",
     "exception": false,
     "start_time": "2021-06-01T20:49:45.480199",
     "status": "completed"
    },
    "tags": []
   },
   "outputs": [
    {
     "data": {
      "text/plain": [
       "Kidhome                  0.444196\n",
       "Teenhome                 0.506250\n",
       "Recency                 49.109375\n",
       "MntWines               303.935714\n",
       "MntFruits               26.302232\n",
       "MntMeatProducts        166.950000\n",
       "MntFishProducts         37.525446\n",
       "MntSweetProducts        27.062946\n",
       "MntGoldProds            44.021875\n",
       "NumDealsPurchases        2.325000\n",
       "NumWebPurchases          4.084821\n",
       "NumCatalogPurchases      2.662054\n",
       "NumStorePurchases        5.790179\n",
       "NumWebVisitsMonth        5.316518\n",
       "AcceptedCmp3             0.072768\n",
       "AcceptedCmp4             0.074554\n",
       "AcceptedCmp5             0.072768\n",
       "AcceptedCmp1             0.064286\n",
       "AcceptedCmp2             0.013393\n",
       "Response                 0.149107\n",
       "Complain                 0.009375\n",
       "dtype: float64"
      ]
     },
     "execution_count": 8,
     "metadata": {},
     "output_type": "execute_result"
    }
   ],
   "source": [
    "## sum of the numbers and divide to number by amount of the numbers\n",
    "df.mean()"
   ]
  },
  {
   "cell_type": "code",
   "execution_count": 9,
   "id": "continuing-appendix",
   "metadata": {
    "execution": {
     "iopub.execute_input": "2021-06-01T20:49:45.600340Z",
     "iopub.status.busy": "2021-06-01T20:49:45.599735Z",
     "iopub.status.idle": "2021-06-01T20:49:45.607945Z",
     "shell.execute_reply": "2021-06-01T20:49:45.608370Z",
     "shell.execute_reply.started": "2021-06-01T20:16:11.499878Z"
    },
    "papermill": {
     "duration": 0.047099,
     "end_time": "2021-06-01T20:49:45.608532",
     "exception": false,
     "start_time": "2021-06-01T20:49:45.561433",
     "status": "completed"
    },
    "tags": []
   },
   "outputs": [
    {
     "data": {
      "text/plain": [
       "Kidhome                  0.0\n",
       "Teenhome                 0.0\n",
       "Recency                 49.0\n",
       "MntWines               173.5\n",
       "MntFruits                8.0\n",
       "MntMeatProducts         67.0\n",
       "MntFishProducts         12.0\n",
       "MntSweetProducts         8.0\n",
       "MntGoldProds            24.0\n",
       "NumDealsPurchases        2.0\n",
       "NumWebPurchases          4.0\n",
       "NumCatalogPurchases      2.0\n",
       "NumStorePurchases        5.0\n",
       "NumWebVisitsMonth        6.0\n",
       "AcceptedCmp3             0.0\n",
       "AcceptedCmp4             0.0\n",
       "AcceptedCmp5             0.0\n",
       "AcceptedCmp1             0.0\n",
       "AcceptedCmp2             0.0\n",
       "Response                 0.0\n",
       "Complain                 0.0\n",
       "dtype: float64"
      ]
     },
     "execution_count": 9,
     "metadata": {},
     "output_type": "execute_result"
    }
   ],
   "source": [
    "#Middle of the point\n",
    "df.median()"
   ]
  },
  {
   "cell_type": "code",
   "execution_count": 10,
   "id": "graphic-soundtrack",
   "metadata": {
    "execution": {
     "iopub.execute_input": "2021-06-01T20:49:45.686159Z",
     "iopub.status.busy": "2021-06-01T20:49:45.685559Z",
     "iopub.status.idle": "2021-06-01T20:49:45.688734Z",
     "shell.execute_reply": "2021-06-01T20:49:45.688314Z",
     "shell.execute_reply.started": "2021-06-01T20:16:11.520800Z"
    },
    "papermill": {
     "duration": 0.045791,
     "end_time": "2021-06-01T20:49:45.688870",
     "exception": false,
     "start_time": "2021-06-01T20:49:45.643079",
     "status": "completed"
    },
    "tags": []
   },
   "outputs": [
    {
     "name": "stderr",
     "output_type": "stream",
     "text": [
      "/opt/conda/lib/python3.7/site-packages/ipykernel_launcher.py:4: FutureWarning: The default value of regex will change from True to False in a future version. In addition, single character regular expressions will*not* be treated as literal strings when regex=True.\n",
      "  after removing the cwd from sys.path.\n"
     ]
    }
   ],
   "source": [
    "#we want to clean the some attributes in columns\n",
    "df.columns = df.columns.str.replace(' ', '')\n",
    "\n",
    "df['Income'] = df['Income'].str.replace('$', '')\n",
    "df['Income']=df['Income'].str.replace(',','').astype('float')"
   ]
  },
  {
   "cell_type": "code",
   "execution_count": 11,
   "id": "classical-boost",
   "metadata": {
    "execution": {
     "iopub.execute_input": "2021-06-01T20:49:45.776044Z",
     "iopub.status.busy": "2021-06-01T20:49:45.775219Z",
     "iopub.status.idle": "2021-06-01T20:49:45.779627Z",
     "shell.execute_reply": "2021-06-01T20:49:45.779188Z",
     "shell.execute_reply.started": "2021-06-01T20:16:11.534632Z"
    },
    "papermill": {
     "duration": 0.057063,
     "end_time": "2021-06-01T20:49:45.779748",
     "exception": false,
     "start_time": "2021-06-01T20:49:45.722685",
     "status": "completed"
    },
    "tags": []
   },
   "outputs": [
    {
     "data": {
      "text/html": [
       "<div>\n",
       "<style scoped>\n",
       "    .dataframe tbody tr th:only-of-type {\n",
       "        vertical-align: middle;\n",
       "    }\n",
       "\n",
       "    .dataframe tbody tr th {\n",
       "        vertical-align: top;\n",
       "    }\n",
       "\n",
       "    .dataframe thead th {\n",
       "        text-align: right;\n",
       "    }\n",
       "</style>\n",
       "<table border=\"1\" class=\"dataframe\">\n",
       "  <thead>\n",
       "    <tr style=\"text-align: right;\">\n",
       "      <th></th>\n",
       "      <th>Education</th>\n",
       "      <th>Marital_Status</th>\n",
       "      <th>Income</th>\n",
       "      <th>Kidhome</th>\n",
       "      <th>Teenhome</th>\n",
       "      <th>Recency</th>\n",
       "      <th>MntWines</th>\n",
       "      <th>MntFruits</th>\n",
       "      <th>MntMeatProducts</th>\n",
       "      <th>MntFishProducts</th>\n",
       "      <th>...</th>\n",
       "      <th>NumStorePurchases</th>\n",
       "      <th>NumWebVisitsMonth</th>\n",
       "      <th>AcceptedCmp3</th>\n",
       "      <th>AcceptedCmp4</th>\n",
       "      <th>AcceptedCmp5</th>\n",
       "      <th>AcceptedCmp1</th>\n",
       "      <th>AcceptedCmp2</th>\n",
       "      <th>Response</th>\n",
       "      <th>Complain</th>\n",
       "      <th>Country</th>\n",
       "    </tr>\n",
       "  </thead>\n",
       "  <tbody>\n",
       "    <tr>\n",
       "      <th>0</th>\n",
       "      <td>Graduation</td>\n",
       "      <td>Divorced</td>\n",
       "      <td>84835.0</td>\n",
       "      <td>0</td>\n",
       "      <td>0</td>\n",
       "      <td>0</td>\n",
       "      <td>189</td>\n",
       "      <td>104</td>\n",
       "      <td>379</td>\n",
       "      <td>111</td>\n",
       "      <td>...</td>\n",
       "      <td>6</td>\n",
       "      <td>1</td>\n",
       "      <td>0</td>\n",
       "      <td>0</td>\n",
       "      <td>0</td>\n",
       "      <td>0</td>\n",
       "      <td>0</td>\n",
       "      <td>1</td>\n",
       "      <td>0</td>\n",
       "      <td>SP</td>\n",
       "    </tr>\n",
       "    <tr>\n",
       "      <th>1</th>\n",
       "      <td>Graduation</td>\n",
       "      <td>Single</td>\n",
       "      <td>57091.0</td>\n",
       "      <td>0</td>\n",
       "      <td>0</td>\n",
       "      <td>0</td>\n",
       "      <td>464</td>\n",
       "      <td>5</td>\n",
       "      <td>64</td>\n",
       "      <td>7</td>\n",
       "      <td>...</td>\n",
       "      <td>7</td>\n",
       "      <td>5</td>\n",
       "      <td>0</td>\n",
       "      <td>0</td>\n",
       "      <td>0</td>\n",
       "      <td>0</td>\n",
       "      <td>1</td>\n",
       "      <td>1</td>\n",
       "      <td>0</td>\n",
       "      <td>CA</td>\n",
       "    </tr>\n",
       "    <tr>\n",
       "      <th>2</th>\n",
       "      <td>Graduation</td>\n",
       "      <td>Married</td>\n",
       "      <td>67267.0</td>\n",
       "      <td>0</td>\n",
       "      <td>1</td>\n",
       "      <td>0</td>\n",
       "      <td>134</td>\n",
       "      <td>11</td>\n",
       "      <td>59</td>\n",
       "      <td>15</td>\n",
       "      <td>...</td>\n",
       "      <td>5</td>\n",
       "      <td>2</td>\n",
       "      <td>0</td>\n",
       "      <td>0</td>\n",
       "      <td>0</td>\n",
       "      <td>0</td>\n",
       "      <td>0</td>\n",
       "      <td>0</td>\n",
       "      <td>0</td>\n",
       "      <td>US</td>\n",
       "    </tr>\n",
       "    <tr>\n",
       "      <th>3</th>\n",
       "      <td>Graduation</td>\n",
       "      <td>Together</td>\n",
       "      <td>32474.0</td>\n",
       "      <td>1</td>\n",
       "      <td>1</td>\n",
       "      <td>0</td>\n",
       "      <td>10</td>\n",
       "      <td>0</td>\n",
       "      <td>1</td>\n",
       "      <td>0</td>\n",
       "      <td>...</td>\n",
       "      <td>2</td>\n",
       "      <td>7</td>\n",
       "      <td>0</td>\n",
       "      <td>0</td>\n",
       "      <td>0</td>\n",
       "      <td>0</td>\n",
       "      <td>0</td>\n",
       "      <td>0</td>\n",
       "      <td>0</td>\n",
       "      <td>AUS</td>\n",
       "    </tr>\n",
       "    <tr>\n",
       "      <th>4</th>\n",
       "      <td>Graduation</td>\n",
       "      <td>Single</td>\n",
       "      <td>21474.0</td>\n",
       "      <td>1</td>\n",
       "      <td>0</td>\n",
       "      <td>0</td>\n",
       "      <td>6</td>\n",
       "      <td>16</td>\n",
       "      <td>24</td>\n",
       "      <td>11</td>\n",
       "      <td>...</td>\n",
       "      <td>2</td>\n",
       "      <td>7</td>\n",
       "      <td>1</td>\n",
       "      <td>0</td>\n",
       "      <td>0</td>\n",
       "      <td>0</td>\n",
       "      <td>0</td>\n",
       "      <td>1</td>\n",
       "      <td>0</td>\n",
       "      <td>SP</td>\n",
       "    </tr>\n",
       "  </tbody>\n",
       "</table>\n",
       "<p>5 rows × 25 columns</p>\n",
       "</div>"
      ],
      "text/plain": [
       "    Education Marital_Status   Income  Kidhome  Teenhome  Recency  MntWines  \\\n",
       "0  Graduation       Divorced  84835.0        0         0        0       189   \n",
       "1  Graduation         Single  57091.0        0         0        0       464   \n",
       "2  Graduation        Married  67267.0        0         1        0       134   \n",
       "3  Graduation       Together  32474.0        1         1        0        10   \n",
       "4  Graduation         Single  21474.0        1         0        0         6   \n",
       "\n",
       "   MntFruits  MntMeatProducts  MntFishProducts  ...  NumStorePurchases  \\\n",
       "0        104              379              111  ...                  6   \n",
       "1          5               64                7  ...                  7   \n",
       "2         11               59               15  ...                  5   \n",
       "3          0                1                0  ...                  2   \n",
       "4         16               24               11  ...                  2   \n",
       "\n",
       "   NumWebVisitsMonth  AcceptedCmp3  AcceptedCmp4  AcceptedCmp5  AcceptedCmp1  \\\n",
       "0                  1             0             0             0             0   \n",
       "1                  5             0             0             0             0   \n",
       "2                  2             0             0             0             0   \n",
       "3                  7             0             0             0             0   \n",
       "4                  7             1             0             0             0   \n",
       "\n",
       "   AcceptedCmp2  Response  Complain  Country  \n",
       "0             0         1         0       SP  \n",
       "1             1         1         0       CA  \n",
       "2             0         0         0       US  \n",
       "3             0         0         0      AUS  \n",
       "4             0         1         0       SP  \n",
       "\n",
       "[5 rows x 25 columns]"
      ]
     },
     "execution_count": 11,
     "metadata": {},
     "output_type": "execute_result"
    }
   ],
   "source": [
    "df.head(5)"
   ]
  },
  {
   "cell_type": "code",
   "execution_count": 12,
   "id": "developing-extension",
   "metadata": {
    "execution": {
     "iopub.execute_input": "2021-06-01T20:49:45.853078Z",
     "iopub.status.busy": "2021-06-01T20:49:45.852511Z",
     "iopub.status.idle": "2021-06-01T20:49:45.871109Z",
     "shell.execute_reply": "2021-06-01T20:49:45.871561Z",
     "shell.execute_reply.started": "2021-06-01T20:16:11.564044Z"
    },
    "papermill": {
     "duration": 0.057688,
     "end_time": "2021-06-01T20:49:45.871714",
     "exception": false,
     "start_time": "2021-06-01T20:49:45.814026",
     "status": "completed"
    },
    "tags": []
   },
   "outputs": [],
   "source": [
    "#dived the target with 1 and o\n",
    "target=df[df['Response']==1]\n",
    "non_target=df[df['Response']==0]"
   ]
  },
  {
   "cell_type": "code",
   "execution_count": 13,
   "id": "interior-praise",
   "metadata": {
    "execution": {
     "iopub.execute_input": "2021-06-01T20:49:45.945007Z",
     "iopub.status.busy": "2021-06-01T20:49:45.944470Z",
     "iopub.status.idle": "2021-06-01T20:49:45.967153Z",
     "shell.execute_reply": "2021-06-01T20:49:45.967636Z",
     "shell.execute_reply.started": "2021-06-01T20:16:11.581516Z"
    },
    "papermill": {
     "duration": 0.061194,
     "end_time": "2021-06-01T20:49:45.967797",
     "exception": false,
     "start_time": "2021-06-01T20:49:45.906603",
     "status": "completed"
    },
    "tags": []
   },
   "outputs": [],
   "source": [
    "#we use this part for analyzing the data based on response\n",
    "target_cols=['Response']\n",
    "cat_cols=df.nunique()[df.nunique()<6].keys().tolist()\n",
    "cat_cols=[x for x in cat_cols if x not in target_cols]\n",
    "num_col=[x for x in df.columns if x not in cat_cols+ target_cols]"
   ]
  },
  {
   "cell_type": "code",
   "execution_count": 14,
   "id": "painted-north",
   "metadata": {
    "execution": {
     "iopub.execute_input": "2021-06-01T20:49:46.039540Z",
     "iopub.status.busy": "2021-06-01T20:49:46.038817Z",
     "iopub.status.idle": "2021-06-01T20:49:46.044839Z",
     "shell.execute_reply": "2021-06-01T20:49:46.045330Z",
     "shell.execute_reply.started": "2021-06-01T20:16:11.610623Z"
    },
    "papermill": {
     "duration": 0.043245,
     "end_time": "2021-06-01T20:49:46.045481",
     "exception": false,
     "start_time": "2021-06-01T20:49:46.002236",
     "status": "completed"
    },
    "tags": []
   },
   "outputs": [
    {
     "data": {
      "text/plain": [
       "Graduation    1127\n",
       "PhD            486\n",
       "Master         370\n",
       "2n Cycle       203\n",
       "Basic           54\n",
       "Name: Education, dtype: int64"
      ]
     },
     "execution_count": 14,
     "metadata": {},
     "output_type": "execute_result"
    }
   ],
   "source": [
    "#the highest part is for graducation and lowest is for basic\n",
    "df['Education'].value_counts()"
   ]
  },
  {
   "cell_type": "code",
   "execution_count": 15,
   "id": "dental-israeli",
   "metadata": {
    "execution": {
     "iopub.execute_input": "2021-06-01T20:49:46.117616Z",
     "iopub.status.busy": "2021-06-01T20:49:46.117111Z",
     "iopub.status.idle": "2021-06-01T20:49:46.124019Z",
     "shell.execute_reply": "2021-06-01T20:49:46.124437Z",
     "shell.execute_reply.started": "2021-06-01T20:16:11.619919Z"
    },
    "papermill": {
     "duration": 0.044722,
     "end_time": "2021-06-01T20:49:46.124589",
     "exception": false,
     "start_time": "2021-06-01T20:49:46.079867",
     "status": "completed"
    },
    "tags": []
   },
   "outputs": [
    {
     "data": {
      "text/plain": [
       "Married     38.571429\n",
       "Together    25.892857\n",
       "Single      21.428571\n",
       "Divorced    10.357143\n",
       "Widow        3.437500\n",
       "Alone        0.133929\n",
       "Absurd       0.089286\n",
       "YOLO         0.089286\n",
       "Name: Marital_Status, dtype: float64"
      ]
     },
     "execution_count": 15,
     "metadata": {},
     "output_type": "execute_result"
    }
   ],
   "source": [
    "#Most of then people are married and the Yolo has the lowest portion\n",
    "df['Marital_Status'].value_counts(normalize=True)*100"
   ]
  },
  {
   "cell_type": "code",
   "execution_count": 16,
   "id": "worthy-saying",
   "metadata": {
    "execution": {
     "iopub.execute_input": "2021-06-01T20:49:46.196480Z",
     "iopub.status.busy": "2021-06-01T20:49:46.195917Z",
     "iopub.status.idle": "2021-06-01T20:49:46.221350Z",
     "shell.execute_reply": "2021-06-01T20:49:46.220918Z",
     "shell.execute_reply.started": "2021-06-01T20:16:11.635782Z"
    },
    "papermill": {
     "duration": 0.062291,
     "end_time": "2021-06-01T20:49:46.221476",
     "exception": false,
     "start_time": "2021-06-01T20:49:46.159185",
     "status": "completed"
    },
    "tags": []
   },
   "outputs": [
    {
     "data": {
      "text/html": [
       "<div>\n",
       "<style scoped>\n",
       "    .dataframe tbody tr th:only-of-type {\n",
       "        vertical-align: middle;\n",
       "    }\n",
       "\n",
       "    .dataframe tbody tr th {\n",
       "        vertical-align: top;\n",
       "    }\n",
       "\n",
       "    .dataframe thead th {\n",
       "        text-align: right;\n",
       "    }\n",
       "</style>\n",
       "<table border=\"1\" class=\"dataframe\">\n",
       "  <thead>\n",
       "    <tr style=\"text-align: right;\">\n",
       "      <th></th>\n",
       "      <th>Education</th>\n",
       "      <th>Marital_Status</th>\n",
       "      <th>Income</th>\n",
       "      <th>Kidhome</th>\n",
       "      <th>Teenhome</th>\n",
       "      <th>Recency</th>\n",
       "      <th>MntWines</th>\n",
       "      <th>MntFruits</th>\n",
       "      <th>MntMeatProducts</th>\n",
       "      <th>MntFishProducts</th>\n",
       "      <th>...</th>\n",
       "      <th>NumStorePurchases</th>\n",
       "      <th>NumWebVisitsMonth</th>\n",
       "      <th>AcceptedCmp3</th>\n",
       "      <th>AcceptedCmp4</th>\n",
       "      <th>AcceptedCmp5</th>\n",
       "      <th>AcceptedCmp1</th>\n",
       "      <th>AcceptedCmp2</th>\n",
       "      <th>Response</th>\n",
       "      <th>Complain</th>\n",
       "      <th>Country</th>\n",
       "    </tr>\n",
       "  </thead>\n",
       "  <tbody>\n",
       "    <tr>\n",
       "      <th>10</th>\n",
       "      <td>2n Cycle</td>\n",
       "      <td>Married</td>\n",
       "      <td>81044.0</td>\n",
       "      <td>0</td>\n",
       "      <td>0</td>\n",
       "      <td>0</td>\n",
       "      <td>450</td>\n",
       "      <td>26</td>\n",
       "      <td>535</td>\n",
       "      <td>73</td>\n",
       "      <td>...</td>\n",
       "      <td>10</td>\n",
       "      <td>1</td>\n",
       "      <td>0</td>\n",
       "      <td>0</td>\n",
       "      <td>0</td>\n",
       "      <td>0</td>\n",
       "      <td>0</td>\n",
       "      <td>0</td>\n",
       "      <td>0</td>\n",
       "      <td>US</td>\n",
       "    </tr>\n",
       "    <tr>\n",
       "      <th>53</th>\n",
       "      <td>Graduation</td>\n",
       "      <td>Married</td>\n",
       "      <td>90369.0</td>\n",
       "      <td>0</td>\n",
       "      <td>0</td>\n",
       "      <td>2</td>\n",
       "      <td>292</td>\n",
       "      <td>51</td>\n",
       "      <td>981</td>\n",
       "      <td>224</td>\n",
       "      <td>...</td>\n",
       "      <td>6</td>\n",
       "      <td>1</td>\n",
       "      <td>0</td>\n",
       "      <td>0</td>\n",
       "      <td>0</td>\n",
       "      <td>0</td>\n",
       "      <td>0</td>\n",
       "      <td>1</td>\n",
       "      <td>0</td>\n",
       "      <td>SP</td>\n",
       "    </tr>\n",
       "    <tr>\n",
       "      <th>58</th>\n",
       "      <td>Graduation</td>\n",
       "      <td>Married</td>\n",
       "      <td>83715.0</td>\n",
       "      <td>0</td>\n",
       "      <td>0</td>\n",
       "      <td>2</td>\n",
       "      <td>318</td>\n",
       "      <td>8</td>\n",
       "      <td>407</td>\n",
       "      <td>150</td>\n",
       "      <td>...</td>\n",
       "      <td>13</td>\n",
       "      <td>0</td>\n",
       "      <td>0</td>\n",
       "      <td>0</td>\n",
       "      <td>0</td>\n",
       "      <td>0</td>\n",
       "      <td>0</td>\n",
       "      <td>0</td>\n",
       "      <td>0</td>\n",
       "      <td>SA</td>\n",
       "    </tr>\n",
       "    <tr>\n",
       "      <th>67</th>\n",
       "      <td>2n Cycle</td>\n",
       "      <td>Married</td>\n",
       "      <td>82504.0</td>\n",
       "      <td>0</td>\n",
       "      <td>0</td>\n",
       "      <td>2</td>\n",
       "      <td>362</td>\n",
       "      <td>50</td>\n",
       "      <td>431</td>\n",
       "      <td>134</td>\n",
       "      <td>...</td>\n",
       "      <td>7</td>\n",
       "      <td>1</td>\n",
       "      <td>0</td>\n",
       "      <td>0</td>\n",
       "      <td>0</td>\n",
       "      <td>0</td>\n",
       "      <td>0</td>\n",
       "      <td>0</td>\n",
       "      <td>0</td>\n",
       "      <td>IND</td>\n",
       "    </tr>\n",
       "    <tr>\n",
       "      <th>98</th>\n",
       "      <td>Graduation</td>\n",
       "      <td>Married</td>\n",
       "      <td>80011.0</td>\n",
       "      <td>0</td>\n",
       "      <td>1</td>\n",
       "      <td>3</td>\n",
       "      <td>421</td>\n",
       "      <td>76</td>\n",
       "      <td>536</td>\n",
       "      <td>82</td>\n",
       "      <td>...</td>\n",
       "      <td>5</td>\n",
       "      <td>4</td>\n",
       "      <td>0</td>\n",
       "      <td>0</td>\n",
       "      <td>0</td>\n",
       "      <td>0</td>\n",
       "      <td>0</td>\n",
       "      <td>0</td>\n",
       "      <td>0</td>\n",
       "      <td>AUS</td>\n",
       "    </tr>\n",
       "    <tr>\n",
       "      <th>...</th>\n",
       "      <td>...</td>\n",
       "      <td>...</td>\n",
       "      <td>...</td>\n",
       "      <td>...</td>\n",
       "      <td>...</td>\n",
       "      <td>...</td>\n",
       "      <td>...</td>\n",
       "      <td>...</td>\n",
       "      <td>...</td>\n",
       "      <td>...</td>\n",
       "      <td>...</td>\n",
       "      <td>...</td>\n",
       "      <td>...</td>\n",
       "      <td>...</td>\n",
       "      <td>...</td>\n",
       "      <td>...</td>\n",
       "      <td>...</td>\n",
       "      <td>...</td>\n",
       "      <td>...</td>\n",
       "      <td>...</td>\n",
       "      <td>...</td>\n",
       "    </tr>\n",
       "    <tr>\n",
       "      <th>2166</th>\n",
       "      <td>PhD</td>\n",
       "      <td>Married</td>\n",
       "      <td>84618.0</td>\n",
       "      <td>0</td>\n",
       "      <td>0</td>\n",
       "      <td>96</td>\n",
       "      <td>684</td>\n",
       "      <td>100</td>\n",
       "      <td>801</td>\n",
       "      <td>21</td>\n",
       "      <td>...</td>\n",
       "      <td>10</td>\n",
       "      <td>2</td>\n",
       "      <td>0</td>\n",
       "      <td>0</td>\n",
       "      <td>1</td>\n",
       "      <td>0</td>\n",
       "      <td>0</td>\n",
       "      <td>0</td>\n",
       "      <td>0</td>\n",
       "      <td>AUS</td>\n",
       "    </tr>\n",
       "    <tr>\n",
       "      <th>2167</th>\n",
       "      <td>PhD</td>\n",
       "      <td>Married</td>\n",
       "      <td>84618.0</td>\n",
       "      <td>0</td>\n",
       "      <td>0</td>\n",
       "      <td>96</td>\n",
       "      <td>684</td>\n",
       "      <td>100</td>\n",
       "      <td>801</td>\n",
       "      <td>21</td>\n",
       "      <td>...</td>\n",
       "      <td>10</td>\n",
       "      <td>2</td>\n",
       "      <td>0</td>\n",
       "      <td>0</td>\n",
       "      <td>1</td>\n",
       "      <td>0</td>\n",
       "      <td>0</td>\n",
       "      <td>0</td>\n",
       "      <td>0</td>\n",
       "      <td>SP</td>\n",
       "    </tr>\n",
       "    <tr>\n",
       "      <th>2192</th>\n",
       "      <td>Graduation</td>\n",
       "      <td>Married</td>\n",
       "      <td>93404.0</td>\n",
       "      <td>1</td>\n",
       "      <td>2</td>\n",
       "      <td>97</td>\n",
       "      <td>1279</td>\n",
       "      <td>15</td>\n",
       "      <td>287</td>\n",
       "      <td>20</td>\n",
       "      <td>...</td>\n",
       "      <td>7</td>\n",
       "      <td>5</td>\n",
       "      <td>0</td>\n",
       "      <td>1</td>\n",
       "      <td>1</td>\n",
       "      <td>0</td>\n",
       "      <td>0</td>\n",
       "      <td>0</td>\n",
       "      <td>0</td>\n",
       "      <td>CA</td>\n",
       "    </tr>\n",
       "    <tr>\n",
       "      <th>2204</th>\n",
       "      <td>PhD</td>\n",
       "      <td>Married</td>\n",
       "      <td>157243.0</td>\n",
       "      <td>0</td>\n",
       "      <td>1</td>\n",
       "      <td>98</td>\n",
       "      <td>20</td>\n",
       "      <td>2</td>\n",
       "      <td>1582</td>\n",
       "      <td>1</td>\n",
       "      <td>...</td>\n",
       "      <td>0</td>\n",
       "      <td>0</td>\n",
       "      <td>0</td>\n",
       "      <td>0</td>\n",
       "      <td>0</td>\n",
       "      <td>0</td>\n",
       "      <td>0</td>\n",
       "      <td>0</td>\n",
       "      <td>0</td>\n",
       "      <td>IND</td>\n",
       "    </tr>\n",
       "    <tr>\n",
       "      <th>2239</th>\n",
       "      <td>PhD</td>\n",
       "      <td>Married</td>\n",
       "      <td>94871.0</td>\n",
       "      <td>0</td>\n",
       "      <td>2</td>\n",
       "      <td>99</td>\n",
       "      <td>169</td>\n",
       "      <td>24</td>\n",
       "      <td>553</td>\n",
       "      <td>188</td>\n",
       "      <td>...</td>\n",
       "      <td>4</td>\n",
       "      <td>7</td>\n",
       "      <td>0</td>\n",
       "      <td>1</td>\n",
       "      <td>1</td>\n",
       "      <td>0</td>\n",
       "      <td>0</td>\n",
       "      <td>1</td>\n",
       "      <td>0</td>\n",
       "      <td>CA</td>\n",
       "    </tr>\n",
       "  </tbody>\n",
       "</table>\n",
       "<p>78 rows × 25 columns</p>\n",
       "</div>"
      ],
      "text/plain": [
       "       Education Marital_Status    Income  Kidhome  Teenhome  Recency  \\\n",
       "10      2n Cycle        Married   81044.0        0         0        0   \n",
       "53    Graduation        Married   90369.0        0         0        2   \n",
       "58    Graduation        Married   83715.0        0         0        2   \n",
       "67      2n Cycle        Married   82504.0        0         0        2   \n",
       "98    Graduation        Married   80011.0        0         1        3   \n",
       "...          ...            ...       ...      ...       ...      ...   \n",
       "2166         PhD        Married   84618.0        0         0       96   \n",
       "2167         PhD        Married   84618.0        0         0       96   \n",
       "2192  Graduation        Married   93404.0        1         2       97   \n",
       "2204         PhD        Married  157243.0        0         1       98   \n",
       "2239         PhD        Married   94871.0        0         2       99   \n",
       "\n",
       "      MntWines  MntFruits  MntMeatProducts  MntFishProducts  ...  \\\n",
       "10         450         26              535               73  ...   \n",
       "53         292         51              981              224  ...   \n",
       "58         318          8              407              150  ...   \n",
       "67         362         50              431              134  ...   \n",
       "98         421         76              536               82  ...   \n",
       "...        ...        ...              ...              ...  ...   \n",
       "2166       684        100              801               21  ...   \n",
       "2167       684        100              801               21  ...   \n",
       "2192      1279         15              287               20  ...   \n",
       "2204        20          2             1582                1  ...   \n",
       "2239       169         24              553              188  ...   \n",
       "\n",
       "      NumStorePurchases  NumWebVisitsMonth  AcceptedCmp3  AcceptedCmp4  \\\n",
       "10                   10                  1             0             0   \n",
       "53                    6                  1             0             0   \n",
       "58                   13                  0             0             0   \n",
       "67                    7                  1             0             0   \n",
       "98                    5                  4             0             0   \n",
       "...                 ...                ...           ...           ...   \n",
       "2166                 10                  2             0             0   \n",
       "2167                 10                  2             0             0   \n",
       "2192                  7                  5             0             1   \n",
       "2204                  0                  0             0             0   \n",
       "2239                  4                  7             0             1   \n",
       "\n",
       "      AcceptedCmp5  AcceptedCmp1  AcceptedCmp2  Response  Complain  Country  \n",
       "10               0             0             0         0         0       US  \n",
       "53               0             0             0         1         0       SP  \n",
       "58               0             0             0         0         0       SA  \n",
       "67               0             0             0         0         0      IND  \n",
       "98               0             0             0         0         0      AUS  \n",
       "...            ...           ...           ...       ...       ...      ...  \n",
       "2166             1             0             0         0         0      AUS  \n",
       "2167             1             0             0         0         0       SP  \n",
       "2192             1             0             0         0         0       CA  \n",
       "2204             0             0             0         0         0      IND  \n",
       "2239             1             0             0         1         0       CA  \n",
       "\n",
       "[78 rows x 25 columns]"
      ]
     },
     "execution_count": 16,
     "metadata": {},
     "output_type": "execute_result"
    }
   ],
   "source": [
    "#we use filter to understand the number of people who are get married and their salary is more than 80000$\n",
    "df[(df['Marital_Status']=='Married')& (df['Income']>80000)]"
   ]
  },
  {
   "cell_type": "code",
   "execution_count": 17,
   "id": "wired-paraguay",
   "metadata": {
    "execution": {
     "iopub.execute_input": "2021-06-01T20:49:46.304717Z",
     "iopub.status.busy": "2021-06-01T20:49:46.304130Z",
     "iopub.status.idle": "2021-06-01T20:49:46.314706Z",
     "shell.execute_reply": "2021-06-01T20:49:46.315176Z",
     "shell.execute_reply.started": "2021-06-01T20:16:11.673941Z"
    },
    "papermill": {
     "duration": 0.058264,
     "end_time": "2021-06-01T20:49:46.315353",
     "exception": false,
     "start_time": "2021-06-01T20:49:46.257089",
     "status": "completed"
    },
    "tags": []
   },
   "outputs": [
    {
     "data": {
      "text/html": [
       "<div>\n",
       "<style scoped>\n",
       "    .dataframe tbody tr th:only-of-type {\n",
       "        vertical-align: middle;\n",
       "    }\n",
       "\n",
       "    .dataframe tbody tr th {\n",
       "        vertical-align: top;\n",
       "    }\n",
       "\n",
       "    .dataframe thead th {\n",
       "        text-align: right;\n",
       "    }\n",
       "</style>\n",
       "<table border=\"1\" class=\"dataframe\">\n",
       "  <thead>\n",
       "    <tr style=\"text-align: right;\">\n",
       "      <th></th>\n",
       "      <th>Education</th>\n",
       "      <th>Marital_Status</th>\n",
       "      <th>Income</th>\n",
       "      <th>Kidhome</th>\n",
       "      <th>Teenhome</th>\n",
       "      <th>Recency</th>\n",
       "      <th>MntWines</th>\n",
       "      <th>MntFruits</th>\n",
       "      <th>MntMeatProducts</th>\n",
       "      <th>MntFishProducts</th>\n",
       "      <th>...</th>\n",
       "      <th>NumStorePurchases</th>\n",
       "      <th>NumWebVisitsMonth</th>\n",
       "      <th>AcceptedCmp3</th>\n",
       "      <th>AcceptedCmp4</th>\n",
       "      <th>AcceptedCmp5</th>\n",
       "      <th>AcceptedCmp1</th>\n",
       "      <th>AcceptedCmp2</th>\n",
       "      <th>Response</th>\n",
       "      <th>Complain</th>\n",
       "      <th>Country</th>\n",
       "    </tr>\n",
       "  </thead>\n",
       "  <tbody>\n",
       "    <tr>\n",
       "      <th>662</th>\n",
       "      <td>Graduation</td>\n",
       "      <td>Single</td>\n",
       "      <td>37774.0</td>\n",
       "      <td>2</td>\n",
       "      <td>0</td>\n",
       "      <td>28</td>\n",
       "      <td>173</td>\n",
       "      <td>8</td>\n",
       "      <td>107</td>\n",
       "      <td>7</td>\n",
       "      <td>...</td>\n",
       "      <td>3</td>\n",
       "      <td>9</td>\n",
       "      <td>1</td>\n",
       "      <td>0</td>\n",
       "      <td>0</td>\n",
       "      <td>0</td>\n",
       "      <td>0</td>\n",
       "      <td>1</td>\n",
       "      <td>1</td>\n",
       "      <td>SP</td>\n",
       "    </tr>\n",
       "    <tr>\n",
       "      <th>943</th>\n",
       "      <td>PhD</td>\n",
       "      <td>Single</td>\n",
       "      <td>39684.0</td>\n",
       "      <td>1</td>\n",
       "      <td>0</td>\n",
       "      <td>41</td>\n",
       "      <td>19</td>\n",
       "      <td>0</td>\n",
       "      <td>35</td>\n",
       "      <td>6</td>\n",
       "      <td>...</td>\n",
       "      <td>2</td>\n",
       "      <td>7</td>\n",
       "      <td>0</td>\n",
       "      <td>0</td>\n",
       "      <td>0</td>\n",
       "      <td>0</td>\n",
       "      <td>0</td>\n",
       "      <td>1</td>\n",
       "      <td>1</td>\n",
       "      <td>SP</td>\n",
       "    </tr>\n",
       "    <tr>\n",
       "      <th>1298</th>\n",
       "      <td>2n Cycle</td>\n",
       "      <td>Single</td>\n",
       "      <td>83257.0</td>\n",
       "      <td>0</td>\n",
       "      <td>0</td>\n",
       "      <td>56</td>\n",
       "      <td>536</td>\n",
       "      <td>27</td>\n",
       "      <td>590</td>\n",
       "      <td>38</td>\n",
       "      <td>...</td>\n",
       "      <td>12</td>\n",
       "      <td>6</td>\n",
       "      <td>1</td>\n",
       "      <td>0</td>\n",
       "      <td>1</td>\n",
       "      <td>0</td>\n",
       "      <td>0</td>\n",
       "      <td>1</td>\n",
       "      <td>1</td>\n",
       "      <td>SP</td>\n",
       "    </tr>\n",
       "  </tbody>\n",
       "</table>\n",
       "<p>3 rows × 25 columns</p>\n",
       "</div>"
      ],
      "text/plain": [
       "       Education Marital_Status   Income  Kidhome  Teenhome  Recency  \\\n",
       "662   Graduation         Single  37774.0        2         0       28   \n",
       "943          PhD         Single  39684.0        1         0       41   \n",
       "1298    2n Cycle         Single  83257.0        0         0       56   \n",
       "\n",
       "      MntWines  MntFruits  MntMeatProducts  MntFishProducts  ...  \\\n",
       "662        173          8              107                7  ...   \n",
       "943         19          0               35                6  ...   \n",
       "1298       536         27              590               38  ...   \n",
       "\n",
       "      NumStorePurchases  NumWebVisitsMonth  AcceptedCmp3  AcceptedCmp4  \\\n",
       "662                   3                  9             1             0   \n",
       "943                   2                  7             0             0   \n",
       "1298                 12                  6             1             0   \n",
       "\n",
       "      AcceptedCmp5  AcceptedCmp1  AcceptedCmp2  Response  Complain  Country  \n",
       "662              0             0             0         1         1       SP  \n",
       "943              0             0             0         1         1       SP  \n",
       "1298             1             0             0         1         1       SP  \n",
       "\n",
       "[3 rows x 25 columns]"
      ]
     },
     "execution_count": 17,
     "metadata": {},
     "output_type": "execute_result"
    }
   ],
   "source": [
    "df[(df['Complain']==1)&(df['Response']==1)]"
   ]
  },
  {
   "cell_type": "code",
   "execution_count": 18,
   "id": "crazy-remove",
   "metadata": {
    "execution": {
     "iopub.execute_input": "2021-06-01T20:49:46.390117Z",
     "iopub.status.busy": "2021-06-01T20:49:46.389550Z",
     "iopub.status.idle": "2021-06-01T20:49:46.627162Z",
     "shell.execute_reply": "2021-06-01T20:49:46.626596Z",
     "shell.execute_reply.started": "2021-06-01T20:16:11.698830Z"
    },
    "papermill": {
     "duration": 0.275487,
     "end_time": "2021-06-01T20:49:46.627289",
     "exception": false,
     "start_time": "2021-06-01T20:49:46.351802",
     "status": "completed"
    },
    "tags": []
   },
   "outputs": [
    {
     "data": {
      "text/html": [
       "<div>\n",
       "<style scoped>\n",
       "    .dataframe tbody tr th:only-of-type {\n",
       "        vertical-align: middle;\n",
       "    }\n",
       "\n",
       "    .dataframe tbody tr th {\n",
       "        vertical-align: top;\n",
       "    }\n",
       "\n",
       "    .dataframe thead th {\n",
       "        text-align: right;\n",
       "    }\n",
       "</style>\n",
       "<table border=\"1\" class=\"dataframe\">\n",
       "  <thead>\n",
       "    <tr style=\"text-align: right;\">\n",
       "      <th>MntWines</th>\n",
       "      <th>0</th>\n",
       "      <th>1</th>\n",
       "      <th>2</th>\n",
       "      <th>3</th>\n",
       "      <th>4</th>\n",
       "      <th>5</th>\n",
       "      <th>6</th>\n",
       "      <th>7</th>\n",
       "      <th>8</th>\n",
       "      <th>9</th>\n",
       "      <th>...</th>\n",
       "      <th>1379</th>\n",
       "      <th>1394</th>\n",
       "      <th>1396</th>\n",
       "      <th>1449</th>\n",
       "      <th>1459</th>\n",
       "      <th>1462</th>\n",
       "      <th>1478</th>\n",
       "      <th>1486</th>\n",
       "      <th>1492</th>\n",
       "      <th>1493</th>\n",
       "    </tr>\n",
       "    <tr>\n",
       "      <th>Education</th>\n",
       "      <th></th>\n",
       "      <th></th>\n",
       "      <th></th>\n",
       "      <th></th>\n",
       "      <th></th>\n",
       "      <th></th>\n",
       "      <th></th>\n",
       "      <th></th>\n",
       "      <th></th>\n",
       "      <th></th>\n",
       "      <th></th>\n",
       "      <th></th>\n",
       "      <th></th>\n",
       "      <th></th>\n",
       "      <th></th>\n",
       "      <th></th>\n",
       "      <th></th>\n",
       "      <th></th>\n",
       "      <th></th>\n",
       "      <th></th>\n",
       "      <th></th>\n",
       "    </tr>\n",
       "  </thead>\n",
       "  <tbody>\n",
       "    <tr>\n",
       "      <th>2n Cycle</th>\n",
       "      <td>4</td>\n",
       "      <td>6</td>\n",
       "      <td>9</td>\n",
       "      <td>3</td>\n",
       "      <td>6</td>\n",
       "      <td>8</td>\n",
       "      <td>4</td>\n",
       "      <td>3</td>\n",
       "      <td>7</td>\n",
       "      <td>3</td>\n",
       "      <td>...</td>\n",
       "      <td>0</td>\n",
       "      <td>0</td>\n",
       "      <td>0</td>\n",
       "      <td>0</td>\n",
       "      <td>0</td>\n",
       "      <td>0</td>\n",
       "      <td>0</td>\n",
       "      <td>0</td>\n",
       "      <td>0</td>\n",
       "      <td>0</td>\n",
       "    </tr>\n",
       "    <tr>\n",
       "      <th>Basic</th>\n",
       "      <td>6</td>\n",
       "      <td>16</td>\n",
       "      <td>10</td>\n",
       "      <td>3</td>\n",
       "      <td>5</td>\n",
       "      <td>2</td>\n",
       "      <td>4</td>\n",
       "      <td>3</td>\n",
       "      <td>1</td>\n",
       "      <td>1</td>\n",
       "      <td>...</td>\n",
       "      <td>0</td>\n",
       "      <td>0</td>\n",
       "      <td>0</td>\n",
       "      <td>0</td>\n",
       "      <td>0</td>\n",
       "      <td>0</td>\n",
       "      <td>0</td>\n",
       "      <td>0</td>\n",
       "      <td>0</td>\n",
       "      <td>0</td>\n",
       "    </tr>\n",
       "    <tr>\n",
       "      <th>Graduation</th>\n",
       "      <td>3</td>\n",
       "      <td>15</td>\n",
       "      <td>20</td>\n",
       "      <td>21</td>\n",
       "      <td>18</td>\n",
       "      <td>24</td>\n",
       "      <td>19</td>\n",
       "      <td>11</td>\n",
       "      <td>13</td>\n",
       "      <td>14</td>\n",
       "      <td>...</td>\n",
       "      <td>1</td>\n",
       "      <td>1</td>\n",
       "      <td>0</td>\n",
       "      <td>1</td>\n",
       "      <td>0</td>\n",
       "      <td>0</td>\n",
       "      <td>0</td>\n",
       "      <td>0</td>\n",
       "      <td>2</td>\n",
       "      <td>0</td>\n",
       "    </tr>\n",
       "    <tr>\n",
       "      <th>Master</th>\n",
       "      <td>0</td>\n",
       "      <td>0</td>\n",
       "      <td>2</td>\n",
       "      <td>3</td>\n",
       "      <td>1</td>\n",
       "      <td>3</td>\n",
       "      <td>6</td>\n",
       "      <td>3</td>\n",
       "      <td>7</td>\n",
       "      <td>6</td>\n",
       "      <td>...</td>\n",
       "      <td>0</td>\n",
       "      <td>0</td>\n",
       "      <td>0</td>\n",
       "      <td>0</td>\n",
       "      <td>0</td>\n",
       "      <td>0</td>\n",
       "      <td>0</td>\n",
       "      <td>1</td>\n",
       "      <td>0</td>\n",
       "      <td>0</td>\n",
       "    </tr>\n",
       "    <tr>\n",
       "      <th>PhD</th>\n",
       "      <td>0</td>\n",
       "      <td>0</td>\n",
       "      <td>1</td>\n",
       "      <td>0</td>\n",
       "      <td>3</td>\n",
       "      <td>3</td>\n",
       "      <td>4</td>\n",
       "      <td>2</td>\n",
       "      <td>2</td>\n",
       "      <td>4</td>\n",
       "      <td>...</td>\n",
       "      <td>0</td>\n",
       "      <td>0</td>\n",
       "      <td>1</td>\n",
       "      <td>0</td>\n",
       "      <td>1</td>\n",
       "      <td>1</td>\n",
       "      <td>2</td>\n",
       "      <td>0</td>\n",
       "      <td>0</td>\n",
       "      <td>1</td>\n",
       "    </tr>\n",
       "  </tbody>\n",
       "</table>\n",
       "<p>5 rows × 776 columns</p>\n",
       "</div>"
      ],
      "text/plain": [
       "MntWines    0     1     2     3     4     5     6     7     8     9     ...  \\\n",
       "Education                                                               ...   \n",
       "2n Cycle       4     6     9     3     6     8     4     3     7     3  ...   \n",
       "Basic          6    16    10     3     5     2     4     3     1     1  ...   \n",
       "Graduation     3    15    20    21    18    24    19    11    13    14  ...   \n",
       "Master         0     0     2     3     1     3     6     3     7     6  ...   \n",
       "PhD            0     0     1     0     3     3     4     2     2     4  ...   \n",
       "\n",
       "MntWines    1379  1394  1396  1449  1459  1462  1478  1486  1492  1493  \n",
       "Education                                                               \n",
       "2n Cycle       0     0     0     0     0     0     0     0     0     0  \n",
       "Basic          0     0     0     0     0     0     0     0     0     0  \n",
       "Graduation     1     1     0     1     0     0     0     0     2     0  \n",
       "Master         0     0     0     0     0     0     0     1     0     0  \n",
       "PhD            0     0     1     0     1     1     2     0     0     1  \n",
       "\n",
       "[5 rows x 776 columns]"
      ]
     },
     "execution_count": 18,
     "metadata": {},
     "output_type": "execute_result"
    }
   ],
   "source": [
    "df['Education'].unique()\n",
    "Education_MntWines=pd.crosstab(df['Education'],df['MntWines'])\n",
    "Education_MntWines"
   ]
  },
  {
   "cell_type": "code",
   "execution_count": 19,
   "id": "relevant-worry",
   "metadata": {
    "execution": {
     "iopub.execute_input": "2021-06-01T20:49:46.707314Z",
     "iopub.status.busy": "2021-06-01T20:49:46.706433Z",
     "iopub.status.idle": "2021-06-01T20:49:46.723481Z",
     "shell.execute_reply": "2021-06-01T20:49:46.723913Z",
     "shell.execute_reply.started": "2021-06-01T20:16:11.996620Z"
    },
    "papermill": {
     "duration": 0.060418,
     "end_time": "2021-06-01T20:49:46.724072",
     "exception": false,
     "start_time": "2021-06-01T20:49:46.663654",
     "status": "completed"
    },
    "tags": []
   },
   "outputs": [
    {
     "data": {
      "text/html": [
       "<div>\n",
       "<style scoped>\n",
       "    .dataframe tbody tr th:only-of-type {\n",
       "        vertical-align: middle;\n",
       "    }\n",
       "\n",
       "    .dataframe tbody tr th {\n",
       "        vertical-align: top;\n",
       "    }\n",
       "\n",
       "    .dataframe thead th {\n",
       "        text-align: right;\n",
       "    }\n",
       "</style>\n",
       "<table border=\"1\" class=\"dataframe\">\n",
       "  <thead>\n",
       "    <tr style=\"text-align: right;\">\n",
       "      <th>Marital_Status</th>\n",
       "      <th>Absurd</th>\n",
       "      <th>Alone</th>\n",
       "      <th>Divorced</th>\n",
       "      <th>Married</th>\n",
       "      <th>Single</th>\n",
       "      <th>Together</th>\n",
       "      <th>Widow</th>\n",
       "      <th>YOLO</th>\n",
       "    </tr>\n",
       "    <tr>\n",
       "      <th>Response</th>\n",
       "      <th></th>\n",
       "      <th></th>\n",
       "      <th></th>\n",
       "      <th></th>\n",
       "      <th></th>\n",
       "      <th></th>\n",
       "      <th></th>\n",
       "      <th></th>\n",
       "    </tr>\n",
       "  </thead>\n",
       "  <tbody>\n",
       "    <tr>\n",
       "      <th>0</th>\n",
       "      <td>1</td>\n",
       "      <td>2</td>\n",
       "      <td>184</td>\n",
       "      <td>766</td>\n",
       "      <td>374</td>\n",
       "      <td>520</td>\n",
       "      <td>58</td>\n",
       "      <td>1</td>\n",
       "    </tr>\n",
       "    <tr>\n",
       "      <th>1</th>\n",
       "      <td>1</td>\n",
       "      <td>1</td>\n",
       "      <td>48</td>\n",
       "      <td>98</td>\n",
       "      <td>106</td>\n",
       "      <td>60</td>\n",
       "      <td>19</td>\n",
       "      <td>1</td>\n",
       "    </tr>\n",
       "  </tbody>\n",
       "</table>\n",
       "</div>"
      ],
      "text/plain": [
       "Marital_Status  Absurd  Alone  Divorced  Married  Single  Together  Widow  \\\n",
       "Response                                                                    \n",
       "0                    1      2       184      766     374       520     58   \n",
       "1                    1      1        48       98     106        60     19   \n",
       "\n",
       "Marital_Status  YOLO  \n",
       "Response              \n",
       "0                  1  \n",
       "1                  1  "
      ]
     },
     "execution_count": 19,
     "metadata": {},
     "output_type": "execute_result"
    }
   ],
   "source": [
    "df['Response'].unique()\n",
    "Response_Marital_Status=pd.crosstab(df['Response'],df['Marital_Status'])\n",
    "Response_Marital_Status"
   ]
  },
  {
   "cell_type": "code",
   "execution_count": 20,
   "id": "sustainable-angel",
   "metadata": {
    "execution": {
     "iopub.execute_input": "2021-06-01T20:49:46.801130Z",
     "iopub.status.busy": "2021-06-01T20:49:46.800305Z",
     "iopub.status.idle": "2021-06-01T20:49:46.808159Z",
     "shell.execute_reply": "2021-06-01T20:49:46.808553Z",
     "shell.execute_reply.started": "2021-06-01T20:16:12.022988Z"
    },
    "papermill": {
     "duration": 0.04747,
     "end_time": "2021-06-01T20:49:46.808716",
     "exception": false,
     "start_time": "2021-06-01T20:49:46.761246",
     "status": "completed"
    },
    "tags": []
   },
   "outputs": [],
   "source": [
    "df['Total Spent'] = (df['MntFishProducts'] + df['MntWines'] + df['MntSweetProducts']\n",
    "                       + df['MntFruits'] + df['MntMeatProducts'] + df['MntGoldProds'] )\n",
    "df['Total Purchase']=(df['NumDealsPurchases']+df['NumWebPurchases']+df['NumStorePurchases']+df['NumCatalogPurchases'])"
   ]
  },
  {
   "cell_type": "code",
   "execution_count": 21,
   "id": "selected-interim",
   "metadata": {
    "execution": {
     "iopub.execute_input": "2021-06-01T20:49:46.886119Z",
     "iopub.status.busy": "2021-06-01T20:49:46.885294Z",
     "iopub.status.idle": "2021-06-01T20:49:46.903528Z",
     "shell.execute_reply": "2021-06-01T20:49:46.903917Z",
     "shell.execute_reply.started": "2021-06-01T20:16:12.034082Z"
    },
    "papermill": {
     "duration": 0.058078,
     "end_time": "2021-06-01T20:49:46.904078",
     "exception": false,
     "start_time": "2021-06-01T20:49:46.846000",
     "status": "completed"
    },
    "tags": []
   },
   "outputs": [
    {
     "data": {
      "text/html": [
       "<div>\n",
       "<style scoped>\n",
       "    .dataframe tbody tr th:only-of-type {\n",
       "        vertical-align: middle;\n",
       "    }\n",
       "\n",
       "    .dataframe tbody tr th {\n",
       "        vertical-align: top;\n",
       "    }\n",
       "\n",
       "    .dataframe thead th {\n",
       "        text-align: right;\n",
       "    }\n",
       "</style>\n",
       "<table border=\"1\" class=\"dataframe\">\n",
       "  <thead>\n",
       "    <tr style=\"text-align: right;\">\n",
       "      <th></th>\n",
       "      <th>Education</th>\n",
       "      <th>Marital_Status</th>\n",
       "      <th>Income</th>\n",
       "      <th>Kidhome</th>\n",
       "      <th>Teenhome</th>\n",
       "      <th>Recency</th>\n",
       "      <th>MntWines</th>\n",
       "      <th>MntFruits</th>\n",
       "      <th>MntMeatProducts</th>\n",
       "      <th>MntFishProducts</th>\n",
       "      <th>...</th>\n",
       "      <th>AcceptedCmp3</th>\n",
       "      <th>AcceptedCmp4</th>\n",
       "      <th>AcceptedCmp5</th>\n",
       "      <th>AcceptedCmp1</th>\n",
       "      <th>AcceptedCmp2</th>\n",
       "      <th>Response</th>\n",
       "      <th>Complain</th>\n",
       "      <th>Country</th>\n",
       "      <th>Total Spent</th>\n",
       "      <th>Total Purchase</th>\n",
       "    </tr>\n",
       "  </thead>\n",
       "  <tbody>\n",
       "    <tr>\n",
       "      <th>0</th>\n",
       "      <td>Graduation</td>\n",
       "      <td>Divorced</td>\n",
       "      <td>84835.0</td>\n",
       "      <td>0</td>\n",
       "      <td>0</td>\n",
       "      <td>0</td>\n",
       "      <td>189</td>\n",
       "      <td>104</td>\n",
       "      <td>379</td>\n",
       "      <td>111</td>\n",
       "      <td>...</td>\n",
       "      <td>0</td>\n",
       "      <td>0</td>\n",
       "      <td>0</td>\n",
       "      <td>0</td>\n",
       "      <td>0</td>\n",
       "      <td>1</td>\n",
       "      <td>0</td>\n",
       "      <td>SP</td>\n",
       "      <td>1190</td>\n",
       "      <td>15</td>\n",
       "    </tr>\n",
       "    <tr>\n",
       "      <th>1</th>\n",
       "      <td>Graduation</td>\n",
       "      <td>Single</td>\n",
       "      <td>57091.0</td>\n",
       "      <td>0</td>\n",
       "      <td>0</td>\n",
       "      <td>0</td>\n",
       "      <td>464</td>\n",
       "      <td>5</td>\n",
       "      <td>64</td>\n",
       "      <td>7</td>\n",
       "      <td>...</td>\n",
       "      <td>0</td>\n",
       "      <td>0</td>\n",
       "      <td>0</td>\n",
       "      <td>0</td>\n",
       "      <td>1</td>\n",
       "      <td>1</td>\n",
       "      <td>0</td>\n",
       "      <td>CA</td>\n",
       "      <td>577</td>\n",
       "      <td>18</td>\n",
       "    </tr>\n",
       "    <tr>\n",
       "      <th>2</th>\n",
       "      <td>Graduation</td>\n",
       "      <td>Married</td>\n",
       "      <td>67267.0</td>\n",
       "      <td>0</td>\n",
       "      <td>1</td>\n",
       "      <td>0</td>\n",
       "      <td>134</td>\n",
       "      <td>11</td>\n",
       "      <td>59</td>\n",
       "      <td>15</td>\n",
       "      <td>...</td>\n",
       "      <td>0</td>\n",
       "      <td>0</td>\n",
       "      <td>0</td>\n",
       "      <td>0</td>\n",
       "      <td>0</td>\n",
       "      <td>0</td>\n",
       "      <td>0</td>\n",
       "      <td>US</td>\n",
       "      <td>251</td>\n",
       "      <td>11</td>\n",
       "    </tr>\n",
       "    <tr>\n",
       "      <th>3</th>\n",
       "      <td>Graduation</td>\n",
       "      <td>Together</td>\n",
       "      <td>32474.0</td>\n",
       "      <td>1</td>\n",
       "      <td>1</td>\n",
       "      <td>0</td>\n",
       "      <td>10</td>\n",
       "      <td>0</td>\n",
       "      <td>1</td>\n",
       "      <td>0</td>\n",
       "      <td>...</td>\n",
       "      <td>0</td>\n",
       "      <td>0</td>\n",
       "      <td>0</td>\n",
       "      <td>0</td>\n",
       "      <td>0</td>\n",
       "      <td>0</td>\n",
       "      <td>0</td>\n",
       "      <td>AUS</td>\n",
       "      <td>11</td>\n",
       "      <td>4</td>\n",
       "    </tr>\n",
       "    <tr>\n",
       "      <th>4</th>\n",
       "      <td>Graduation</td>\n",
       "      <td>Single</td>\n",
       "      <td>21474.0</td>\n",
       "      <td>1</td>\n",
       "      <td>0</td>\n",
       "      <td>0</td>\n",
       "      <td>6</td>\n",
       "      <td>16</td>\n",
       "      <td>24</td>\n",
       "      <td>11</td>\n",
       "      <td>...</td>\n",
       "      <td>1</td>\n",
       "      <td>0</td>\n",
       "      <td>0</td>\n",
       "      <td>0</td>\n",
       "      <td>0</td>\n",
       "      <td>1</td>\n",
       "      <td>0</td>\n",
       "      <td>SP</td>\n",
       "      <td>91</td>\n",
       "      <td>8</td>\n",
       "    </tr>\n",
       "  </tbody>\n",
       "</table>\n",
       "<p>5 rows × 27 columns</p>\n",
       "</div>"
      ],
      "text/plain": [
       "    Education Marital_Status   Income  Kidhome  Teenhome  Recency  MntWines  \\\n",
       "0  Graduation       Divorced  84835.0        0         0        0       189   \n",
       "1  Graduation         Single  57091.0        0         0        0       464   \n",
       "2  Graduation        Married  67267.0        0         1        0       134   \n",
       "3  Graduation       Together  32474.0        1         1        0        10   \n",
       "4  Graduation         Single  21474.0        1         0        0         6   \n",
       "\n",
       "   MntFruits  MntMeatProducts  MntFishProducts  ...  AcceptedCmp3  \\\n",
       "0        104              379              111  ...             0   \n",
       "1          5               64                7  ...             0   \n",
       "2         11               59               15  ...             0   \n",
       "3          0                1                0  ...             0   \n",
       "4         16               24               11  ...             1   \n",
       "\n",
       "   AcceptedCmp4  AcceptedCmp5  AcceptedCmp1  AcceptedCmp2  Response  Complain  \\\n",
       "0             0             0             0             0         1         0   \n",
       "1             0             0             0             1         1         0   \n",
       "2             0             0             0             0         0         0   \n",
       "3             0             0             0             0         0         0   \n",
       "4             0             0             0             0         1         0   \n",
       "\n",
       "   Country  Total Spent  Total Purchase  \n",
       "0       SP         1190              15  \n",
       "1       CA          577              18  \n",
       "2       US          251              11  \n",
       "3      AUS           11               4  \n",
       "4       SP           91               8  \n",
       "\n",
       "[5 rows x 27 columns]"
      ]
     },
     "execution_count": 21,
     "metadata": {},
     "output_type": "execute_result"
    }
   ],
   "source": [
    "df.head(5)"
   ]
  },
  {
   "cell_type": "code",
   "execution_count": 22,
   "id": "federal-steal",
   "metadata": {
    "execution": {
     "iopub.execute_input": "2021-06-01T20:49:46.980792Z",
     "iopub.status.busy": "2021-06-01T20:49:46.979948Z",
     "iopub.status.idle": "2021-06-01T20:49:47.006016Z",
     "shell.execute_reply": "2021-06-01T20:49:47.005495Z",
     "shell.execute_reply.started": "2021-06-01T20:16:12.060036Z"
    },
    "papermill": {
     "duration": 0.065371,
     "end_time": "2021-06-01T20:49:47.006144",
     "exception": false,
     "start_time": "2021-06-01T20:49:46.940773",
     "status": "completed"
    },
    "tags": []
   },
   "outputs": [
    {
     "data": {
      "text/html": [
       "<div>\n",
       "<style scoped>\n",
       "    .dataframe tbody tr th:only-of-type {\n",
       "        vertical-align: middle;\n",
       "    }\n",
       "\n",
       "    .dataframe tbody tr th {\n",
       "        vertical-align: top;\n",
       "    }\n",
       "\n",
       "    .dataframe thead th {\n",
       "        text-align: right;\n",
       "    }\n",
       "</style>\n",
       "<table border=\"1\" class=\"dataframe\">\n",
       "  <thead>\n",
       "    <tr style=\"text-align: right;\">\n",
       "      <th></th>\n",
       "      <th>Marital_Status</th>\n",
       "      <th>Income_Sum</th>\n",
       "      <th>Income_Count</th>\n",
       "      <th>Average of Salary</th>\n",
       "    </tr>\n",
       "  </thead>\n",
       "  <tbody>\n",
       "    <tr>\n",
       "      <th>3</th>\n",
       "      <td>Married</td>\n",
       "      <td>44328307.0</td>\n",
       "      <td>857</td>\n",
       "      <td>51724.978996</td>\n",
       "    </tr>\n",
       "    <tr>\n",
       "      <th>5</th>\n",
       "      <td>Together</td>\n",
       "      <td>30509691.0</td>\n",
       "      <td>573</td>\n",
       "      <td>53245.534031</td>\n",
       "    </tr>\n",
       "    <tr>\n",
       "      <th>4</th>\n",
       "      <td>Single</td>\n",
       "      <td>24018810.0</td>\n",
       "      <td>471</td>\n",
       "      <td>50995.350318</td>\n",
       "    </tr>\n",
       "    <tr>\n",
       "      <th>2</th>\n",
       "      <td>Divorced</td>\n",
       "      <td>12257541.0</td>\n",
       "      <td>232</td>\n",
       "      <td>52834.228448</td>\n",
       "    </tr>\n",
       "    <tr>\n",
       "      <th>6</th>\n",
       "      <td>Widow</td>\n",
       "      <td>4292598.0</td>\n",
       "      <td>76</td>\n",
       "      <td>56481.552632</td>\n",
       "    </tr>\n",
       "    <tr>\n",
       "      <th>0</th>\n",
       "      <td>Absurd</td>\n",
       "      <td>144731.0</td>\n",
       "      <td>2</td>\n",
       "      <td>72365.500000</td>\n",
       "    </tr>\n",
       "    <tr>\n",
       "      <th>1</th>\n",
       "      <td>Alone</td>\n",
       "      <td>131367.0</td>\n",
       "      <td>3</td>\n",
       "      <td>43789.000000</td>\n",
       "    </tr>\n",
       "    <tr>\n",
       "      <th>7</th>\n",
       "      <td>YOLO</td>\n",
       "      <td>96864.0</td>\n",
       "      <td>2</td>\n",
       "      <td>48432.000000</td>\n",
       "    </tr>\n",
       "  </tbody>\n",
       "</table>\n",
       "</div>"
      ],
      "text/plain": [
       "  Marital_Status  Income_Sum  Income_Count  Average of Salary\n",
       "3        Married  44328307.0           857       51724.978996\n",
       "5       Together  30509691.0           573       53245.534031\n",
       "4         Single  24018810.0           471       50995.350318\n",
       "2       Divorced  12257541.0           232       52834.228448\n",
       "6          Widow   4292598.0            76       56481.552632\n",
       "0         Absurd    144731.0             2       72365.500000\n",
       "1          Alone    131367.0             3       43789.000000\n",
       "7           YOLO     96864.0             2       48432.000000"
      ]
     },
     "execution_count": 22,
     "metadata": {},
     "output_type": "execute_result"
    }
   ],
   "source": [
    "#we want to use the groupby with sum and count with Countries\n",
    "df_grouped_sum=df.groupby('Marital_Status',as_index=False)['Income'].agg('sum').rename(columns={'Income':'Income_Sum'})\n",
    "df_grouped_cnt=df.groupby('Marital_Status',as_index=False)['Income'].agg('count').rename(columns={'Income':'Income_Count'})\n",
    "\n",
    "# now we want ro the merge these 2 lines\n",
    "df_grouped_Salary=df_grouped_sum.merge(df_grouped_cnt,left_on='Marital_Status',right_on='Marital_Status',how='inner')\n",
    "#now we want to calculate the average salary\n",
    "df_grouped_Salary.loc[:,'Average of Salary']=df_grouped_Salary['Income_Sum']/df_grouped_Salary['Income_Count']\n",
    "\n",
    "df_grouped_Salary.sort_values('Income_Sum',ascending=False)"
   ]
  },
  {
   "cell_type": "code",
   "execution_count": 23,
   "id": "played-sauce",
   "metadata": {
    "execution": {
     "iopub.execute_input": "2021-06-01T20:49:47.084941Z",
     "iopub.status.busy": "2021-06-01T20:49:47.084389Z",
     "iopub.status.idle": "2021-06-01T20:49:47.106615Z",
     "shell.execute_reply": "2021-06-01T20:49:47.107018Z",
     "shell.execute_reply.started": "2021-06-01T20:16:12.097033Z"
    },
    "papermill": {
     "duration": 0.063168,
     "end_time": "2021-06-01T20:49:47.107181",
     "exception": false,
     "start_time": "2021-06-01T20:49:47.044013",
     "status": "completed"
    },
    "tags": []
   },
   "outputs": [
    {
     "data": {
      "text/html": [
       "<div>\n",
       "<style scoped>\n",
       "    .dataframe tbody tr th:only-of-type {\n",
       "        vertical-align: middle;\n",
       "    }\n",
       "\n",
       "    .dataframe tbody tr th {\n",
       "        vertical-align: top;\n",
       "    }\n",
       "\n",
       "    .dataframe thead th {\n",
       "        text-align: right;\n",
       "    }\n",
       "</style>\n",
       "<table border=\"1\" class=\"dataframe\">\n",
       "  <thead>\n",
       "    <tr style=\"text-align: right;\">\n",
       "      <th></th>\n",
       "      <th>Country</th>\n",
       "      <th>Income_Sum</th>\n",
       "      <th>Income_Count</th>\n",
       "      <th>Average of Salary</th>\n",
       "    </tr>\n",
       "  </thead>\n",
       "  <tbody>\n",
       "    <tr>\n",
       "      <th>6</th>\n",
       "      <td>SP</td>\n",
       "      <td>56360083.0</td>\n",
       "      <td>1093</td>\n",
       "      <td>51564.577310</td>\n",
       "    </tr>\n",
       "    <tr>\n",
       "      <th>5</th>\n",
       "      <td>SA</td>\n",
       "      <td>18477985.0</td>\n",
       "      <td>337</td>\n",
       "      <td>54830.816024</td>\n",
       "    </tr>\n",
       "    <tr>\n",
       "      <th>1</th>\n",
       "      <td>CA</td>\n",
       "      <td>14111464.0</td>\n",
       "      <td>266</td>\n",
       "      <td>53050.616541</td>\n",
       "    </tr>\n",
       "    <tr>\n",
       "      <th>0</th>\n",
       "      <td>AUS</td>\n",
       "      <td>7615230.0</td>\n",
       "      <td>147</td>\n",
       "      <td>51804.285714</td>\n",
       "    </tr>\n",
       "    <tr>\n",
       "      <th>3</th>\n",
       "      <td>IND</td>\n",
       "      <td>7205413.0</td>\n",
       "      <td>147</td>\n",
       "      <td>49016.414966</td>\n",
       "    </tr>\n",
       "    <tr>\n",
       "      <th>2</th>\n",
       "      <td>GER</td>\n",
       "      <td>6142327.0</td>\n",
       "      <td>116</td>\n",
       "      <td>52951.094828</td>\n",
       "    </tr>\n",
       "    <tr>\n",
       "      <th>7</th>\n",
       "      <td>US</td>\n",
       "      <td>5694366.0</td>\n",
       "      <td>107</td>\n",
       "      <td>53218.373832</td>\n",
       "    </tr>\n",
       "    <tr>\n",
       "      <th>4</th>\n",
       "      <td>ME</td>\n",
       "      <td>173041.0</td>\n",
       "      <td>3</td>\n",
       "      <td>57680.333333</td>\n",
       "    </tr>\n",
       "  </tbody>\n",
       "</table>\n",
       "</div>"
      ],
      "text/plain": [
       "  Country  Income_Sum  Income_Count  Average of Salary\n",
       "6      SP  56360083.0          1093       51564.577310\n",
       "5      SA  18477985.0           337       54830.816024\n",
       "1      CA  14111464.0           266       53050.616541\n",
       "0     AUS   7615230.0           147       51804.285714\n",
       "3     IND   7205413.0           147       49016.414966\n",
       "2     GER   6142327.0           116       52951.094828\n",
       "7      US   5694366.0           107       53218.373832\n",
       "4      ME    173041.0             3       57680.333333"
      ]
     },
     "execution_count": 23,
     "metadata": {},
     "output_type": "execute_result"
    }
   ],
   "source": [
    "df_grouped_sum=df.groupby('Country',as_index=False)['Income'].agg('sum').rename(columns={'Income':'Income_Sum'})\n",
    "df_grouped_cnt=df.groupby('Country',as_index=False)['Income'].agg('count').rename(columns={'Income':'Income_Count'})\n",
    "#niw we merge these 2 codes\n",
    "df_grouped_Salary=df_grouped_sum.merge(df_grouped_cnt,left_on='Country',right_on='Country',how='inner')\n",
    "#calculate the average \n",
    "df_grouped_Salary.loc[:,'Average of Salary']=df_grouped_Salary['Income_Sum']/df_grouped_Salary['Income_Count']\n",
    "df_grouped_Salary.sort_values('Income_Sum',ascending=False)"
   ]
  },
  {
   "cell_type": "markdown",
   "id": "appointed-auditor",
   "metadata": {
    "papermill": {
     "duration": 0.037505,
     "end_time": "2021-06-01T20:49:47.183110",
     "exception": false,
     "start_time": "2021-06-01T20:49:47.145605",
     "status": "completed"
    },
    "tags": []
   },
   "source": [
    "# **Data Visualization**"
   ]
  },
  {
   "cell_type": "code",
   "execution_count": 24,
   "id": "portable-episode",
   "metadata": {
    "execution": {
     "iopub.execute_input": "2021-06-01T20:49:47.261335Z",
     "iopub.status.busy": "2021-06-01T20:49:47.260751Z",
     "iopub.status.idle": "2021-06-01T20:49:47.449686Z",
     "shell.execute_reply": "2021-06-01T20:49:47.450145Z",
     "shell.execute_reply.started": "2021-06-01T20:16:12.123989Z"
    },
    "papermill": {
     "duration": 0.229581,
     "end_time": "2021-06-01T20:49:47.450315",
     "exception": false,
     "start_time": "2021-06-01T20:49:47.220734",
     "status": "completed"
    },
    "tags": []
   },
   "outputs": [
    {
     "data": {
      "image/png": "[encoded data removed]",
      "text/plain": [
       "<Figure size 720x360 with 1 Axes>"
      ]
     },
     "metadata": {
      "needs_background": "light"
     },
     "output_type": "display_data"
    }
   ],
   "source": [
    "plt.rcParams['figure.figsize']=(10,5)\n",
    "df['Country'].value_counts().sort_values(ascending=False).plot.bar(color='brown')\n",
    "plt.xlabel('Country distribution')\n",
    "plt.ylabel('count')\n",
    "plt.xticks(rotation=50)\n",
    "plt.show()"
   ]
  },
  {
   "cell_type": "code",
   "execution_count": 25,
   "id": "varying-ethiopia",
   "metadata": {
    "execution": {
     "iopub.execute_input": "2021-06-01T20:49:47.530571Z",
     "iopub.status.busy": "2021-06-01T20:49:47.530019Z",
     "iopub.status.idle": "2021-06-01T20:49:47.669147Z",
     "shell.execute_reply": "2021-06-01T20:49:47.669566Z",
     "shell.execute_reply.started": "2021-06-01T20:16:12.297715Z"
    },
    "papermill": {
     "duration": 0.180554,
     "end_time": "2021-06-01T20:49:47.669730",
     "exception": false,
     "start_time": "2021-06-01T20:49:47.489176",
     "status": "completed"
    },
    "tags": []
   },
   "outputs": [
    {
     "data": {
      "image/png": "[encoded data removed]",
      "text/plain": [
       "<Figure size 1872x432 with 1 Axes>"
      ]
     },
     "metadata": {},
     "output_type": "display_data"
    }
   ],
   "source": [
    "plt.rcParams['figure.figsize']=(26,6)\n",
    "df['Marital_Status'].value_counts().sort_values(ascending=False).plot.pie(y='Marital_Status',autopct=\"%0.1f%%\")\n",
    "plt.title('distribution of the marriage ')\n",
    "plt.axis('off')\n",
    "plt.show() #married has the highest percent with almost 39"
   ]
  },
  {
   "cell_type": "code",
   "execution_count": 26,
   "id": "interpreted-effect",
   "metadata": {
    "execution": {
     "iopub.execute_input": "2021-06-01T20:49:47.751049Z",
     "iopub.status.busy": "2021-06-01T20:49:47.750470Z",
     "iopub.status.idle": "2021-06-01T20:49:47.931005Z",
     "shell.execute_reply": "2021-06-01T20:49:47.930526Z",
     "shell.execute_reply.started": "2021-06-01T20:16:12.449712Z"
    },
    "papermill": {
     "duration": 0.222111,
     "end_time": "2021-06-01T20:49:47.931139",
     "exception": false,
     "start_time": "2021-06-01T20:49:47.709028",
     "status": "completed"
    },
    "tags": []
   },
   "outputs": [
    {
     "name": "stderr",
     "output_type": "stream",
     "text": [
      "/opt/conda/lib/python3.7/site-packages/seaborn/_decorators.py:43: FutureWarning: Pass the following variable as a keyword arg: x. From version 0.12, the only valid positional argument will be `data`, and passing other arguments without an explicit keyword will result in an error or misinterpretation.\n",
      "  FutureWarning\n"
     ]
    },
    {
     "data": {
      "image/png": "[encoded data removed]",
      "text/plain": [
       "<Figure size 720x360 with 1 Axes>"
      ]
     },
     "metadata": {
      "needs_background": "light"
     },
     "output_type": "display_data"
    }
   ],
   "source": [
    "fig,ax=plt.subplots(figsize=(10,5))\n",
    "sns.countplot(df['Response'],hue=df['Country'],ax=ax)\n",
    "plt.xlabel('Response')\n",
    "plt.ylabel('counts')\n",
    "plt.xticks(rotation=40)\n",
    "plt.show()"
   ]
  },
  {
   "cell_type": "code",
   "execution_count": 27,
   "id": "informative-training",
   "metadata": {
    "execution": {
     "iopub.execute_input": "2021-06-01T20:49:48.021224Z",
     "iopub.status.busy": "2021-06-01T20:49:48.020010Z",
     "iopub.status.idle": "2021-06-01T20:49:48.209776Z",
     "shell.execute_reply": "2021-06-01T20:49:48.210248Z",
     "shell.execute_reply.started": "2021-06-01T20:16:12.654866Z"
    },
    "papermill": {
     "duration": 0.237834,
     "end_time": "2021-06-01T20:49:48.210410",
     "exception": false,
     "start_time": "2021-06-01T20:49:47.972576",
     "status": "completed"
    },
    "tags": []
   },
   "outputs": [
    {
     "data": {
      "image/png": "[encoded data removed]",
      "text/plain": [
       "<Figure size 1872x432 with 1 Axes>"
      ]
     },
     "metadata": {
      "needs_background": "light"
     },
     "output_type": "display_data"
    },
    {
     "data": {
      "text/plain": [
       "<Figure size 720x360 with 0 Axes>"
      ]
     },
     "metadata": {},
     "output_type": "display_data"
    }
   ],
   "source": [
    "sns.countplot(data=df,y='Education',hue='Response',palette='rocket_r')\n",
    "plt.title('distribute the education with the responses')\n",
    "plt.figure(figsize=(10,5))\n",
    "plt.show()"
   ]
  },
  {
   "cell_type": "code",
   "execution_count": 28,
   "id": "lovely-democrat",
   "metadata": {
    "execution": {
     "iopub.execute_input": "2021-06-01T20:49:48.298830Z",
     "iopub.status.busy": "2021-06-01T20:49:48.297972Z",
     "iopub.status.idle": "2021-06-01T20:49:48.477444Z",
     "shell.execute_reply": "2021-06-01T20:49:48.477882Z",
     "shell.execute_reply.started": "2021-06-01T20:16:12.872951Z"
    },
    "papermill": {
     "duration": 0.225733,
     "end_time": "2021-06-01T20:49:48.478042",
     "exception": false,
     "start_time": "2021-06-01T20:49:48.252309",
     "status": "completed"
    },
    "tags": []
   },
   "outputs": [
    {
     "data": {
      "text/plain": [
       "<AxesSubplot:xlabel='Response', ylabel='Total Purchase'>"
      ]
     },
     "execution_count": 28,
     "metadata": {},
     "output_type": "execute_result"
    },
    {
     "data": {
      "image/png": "[encoded data removed]",
      "text/plain": [
       "<Figure size 1872x432 with 1 Axes>"
      ]
     },
     "metadata": {
      "needs_background": "light"
     },
     "output_type": "display_data"
    }
   ],
   "source": [
    "# in the graph below, the total purchase for the response one is more that zero\n",
    "sns.violinplot(y='Total Purchase',x='Response',data=df,color='purple')"
   ]
  },
  {
   "cell_type": "code",
   "execution_count": 29,
   "id": "dirty-protection",
   "metadata": {
    "execution": {
     "iopub.execute_input": "2021-06-01T20:49:48.570277Z",
     "iopub.status.busy": "2021-06-01T20:49:48.569723Z",
     "iopub.status.idle": "2021-06-01T20:49:49.476905Z",
     "shell.execute_reply": "2021-06-01T20:49:49.475998Z",
     "shell.execute_reply.started": "2021-06-01T20:16:13.062379Z"
    },
    "papermill": {
     "duration": 0.956385,
     "end_time": "2021-06-01T20:49:49.477042",
     "exception": false,
     "start_time": "2021-06-01T20:49:48.520657",
     "status": "completed"
    },
    "tags": []
   },
   "outputs": [
    {
     "name": "stderr",
     "output_type": "stream",
     "text": [
      "/opt/conda/lib/python3.7/site-packages/seaborn/_decorators.py:43: FutureWarning: Pass the following variables as keyword args: x, y. From version 0.12, the only valid positional argument will be `data`, and passing other arguments without an explicit keyword will result in an error or misinterpretation.\n",
      "  FutureWarning\n"
     ]
    },
    {
     "data": {
      "text/plain": [
       "<seaborn.axisgrid.FacetGrid at 0x7f84d3bbc810>"
      ]
     },
     "execution_count": 29,
     "metadata": {},
     "output_type": "execute_result"
    },
    {
     "data": {
      "image/png": "[encoded data removed]",
      "text/plain": [
       "<Figure size 360x360 with 1 Axes>"
      ]
     },
     "metadata": {
      "needs_background": "light"
     },
     "output_type": "display_data"
    }
   ],
   "source": [
    "# in the graph, as you see, the highest part is for total purchase more than 40 and Income about 160000$\n",
    "sns.relplot('Total Purchase','Income',data=df,color='red',kind='line')"
   ]
  },
  {
   "cell_type": "code",
   "execution_count": 30,
   "id": "fixed-improvement",
   "metadata": {
    "execution": {
     "iopub.execute_input": "2021-06-01T20:49:49.591236Z",
     "iopub.status.busy": "2021-06-01T20:49:49.575691Z",
     "iopub.status.idle": "2021-06-01T20:49:49.747363Z",
     "shell.execute_reply": "2021-06-01T20:49:49.747814Z",
     "shell.execute_reply.started": "2021-06-01T20:16:14.355865Z"
    },
    "papermill": {
     "duration": 0.227108,
     "end_time": "2021-06-01T20:49:49.747985",
     "exception": false,
     "start_time": "2021-06-01T20:49:49.520877",
     "status": "completed"
    },
    "tags": []
   },
   "outputs": [
    {
     "name": "stderr",
     "output_type": "stream",
     "text": [
      "/opt/conda/lib/python3.7/site-packages/seaborn/_decorators.py:43: FutureWarning: Pass the following variables as keyword args: x, y. From version 0.12, the only valid positional argument will be `data`, and passing other arguments without an explicit keyword will result in an error or misinterpretation.\n",
      "  FutureWarning\n"
     ]
    },
    {
     "data": {
      "image/png": "[encoded data removed]",
      "text/plain": [
       "<Figure size 1872x432 with 1 Axes>"
      ]
     },
     "metadata": {
      "needs_background": "light"
     },
     "output_type": "display_data"
    }
   ],
   "source": [
    "sns.scatterplot('Country','Total Spent',data=df,color='orange')\n",
    "plt.show()# the highest spent is for spain and singapore and the lowest is for Mexico"
   ]
  },
  {
   "cell_type": "code",
   "execution_count": 31,
   "id": "comparable-algorithm",
   "metadata": {
    "execution": {
     "iopub.execute_input": "2021-06-01T20:49:49.844796Z",
     "iopub.status.busy": "2021-06-01T20:49:49.844201Z",
     "iopub.status.idle": "2021-06-01T20:49:50.124227Z",
     "shell.execute_reply": "2021-06-01T20:49:50.124658Z",
     "shell.execute_reply.started": "2021-06-01T20:16:14.546128Z"
    },
    "papermill": {
     "duration": 0.330322,
     "end_time": "2021-06-01T20:49:50.124861",
     "exception": false,
     "start_time": "2021-06-01T20:49:49.794539",
     "status": "completed"
    },
    "tags": []
   },
   "outputs": [
    {
     "name": "stderr",
     "output_type": "stream",
     "text": [
      "/opt/conda/lib/python3.7/site-packages/seaborn/distributions.py:2557: FutureWarning: `distplot` is a deprecated function and will be removed in a future version. Please adapt your code to use either `displot` (a figure-level function with similar flexibility) or `histplot` (an axes-level function for histograms).\n",
      "  warnings.warn(msg, FutureWarning)\n"
     ]
    },
    {
     "data": {
      "text/plain": [
       "<AxesSubplot:xlabel='Income', ylabel='Density'>"
      ]
     },
     "execution_count": 31,
     "metadata": {},
     "output_type": "execute_result"
    },
    {
     "data": {
      "image/png": "[encoded data removed]",
      "text/plain": [
       "<Figure size 1872x432 with 1 Axes>"
      ]
     },
     "metadata": {
      "needs_background": "light"
     },
     "output_type": "display_data"
    }
   ],
   "source": [
    "#the range of the income \n",
    "sns.distplot(df['Income'], color = 'aqua')"
   ]
  },
  {
   "cell_type": "code",
   "execution_count": 32,
   "id": "stunning-beach",
   "metadata": {
    "execution": {
     "iopub.execute_input": "2021-06-01T20:49:50.381722Z",
     "iopub.status.busy": "2021-06-01T20:49:50.381169Z",
     "iopub.status.idle": "2021-06-01T20:49:52.612168Z",
     "shell.execute_reply": "2021-06-01T20:49:52.611565Z",
     "shell.execute_reply.started": "2021-06-01T20:16:14.847794Z"
    },
    "papermill": {
     "duration": 2.43914,
     "end_time": "2021-06-01T20:49:52.612292",
     "exception": false,
     "start_time": "2021-06-01T20:49:50.173152",
     "status": "completed"
    },
    "tags": []
   },
   "outputs": [
    {
     "name": "stderr",
     "output_type": "stream",
     "text": [
      "/opt/conda/lib/python3.7/site-packages/seaborn/_decorators.py:43: FutureWarning: Pass the following variables as keyword args: x, y. From version 0.12, the only valid positional argument will be `data`, and passing other arguments without an explicit keyword will result in an error or misinterpretation.\n",
      "  FutureWarning\n"
     ]
    },
    {
     "data": {
      "text/plain": [
       "<seaborn.axisgrid.JointGrid at 0x7f84d38efc10>"
      ]
     },
     "execution_count": 32,
     "metadata": {},
     "output_type": "execute_result"
    },
    {
     "data": {
      "image/png": "[encoded data removed]",
      "text/plain": [
       "<Figure size 432x432 with 3 Axes>"
      ]
     },
     "metadata": {
      "needs_background": "light"
     },
     "output_type": "display_data"
    }
   ],
   "source": [
    "#the total purchase feom zero to 10 and toal spent from zero to 500 has the highest portion\n",
    "sns.jointplot('Total Purchase','Total Spent',data=df,color='pink',kind='kde')"
   ]
  },
  {
   "cell_type": "code",
   "execution_count": 33,
   "id": "aerial-conducting",
   "metadata": {
    "execution": {
     "iopub.execute_input": "2021-06-01T20:49:52.715776Z",
     "iopub.status.busy": "2021-06-01T20:49:52.715220Z",
     "iopub.status.idle": "2021-06-01T20:49:53.097803Z",
     "shell.execute_reply": "2021-06-01T20:49:53.097269Z",
     "shell.execute_reply.started": "2021-06-01T20:16:17.417937Z"
    },
    "papermill": {
     "duration": 0.43718,
     "end_time": "2021-06-01T20:49:53.097947",
     "exception": false,
     "start_time": "2021-06-01T20:49:52.660767",
     "status": "completed"
    },
    "tags": []
   },
   "outputs": [
    {
     "name": "stderr",
     "output_type": "stream",
     "text": [
      "/opt/conda/lib/python3.7/site-packages/seaborn/_decorators.py:43: FutureWarning: Pass the following variables as keyword args: x, y. From version 0.12, the only valid positional argument will be `data`, and passing other arguments without an explicit keyword will result in an error or misinterpretation.\n",
      "  FutureWarning\n"
     ]
    },
    {
     "data": {
      "text/plain": [
       "Text(0.5, 0, 'Total Amount Spent  ')"
      ]
     },
     "execution_count": 33,
     "metadata": {},
     "output_type": "execute_result"
    },
    {
     "data": {
      "image/png": "[encoded data removed]",
      "text/plain": [
       "<Figure size 1872x432 with 1 Axes>"
      ]
     },
     "metadata": {
      "needs_background": "light"
     },
     "output_type": "display_data"
    }
   ],
   "source": [
    "sns.regplot('Total Spent','Income',data=df,color='gold')\n",
    "plt.xlabel('Total Amount Spent  ')"
   ]
  },
  {
   "cell_type": "code",
   "execution_count": 34,
   "id": "moral-water",
   "metadata": {
    "execution": {
     "iopub.execute_input": "2021-06-01T20:49:53.225018Z",
     "iopub.status.busy": "2021-06-01T20:49:53.223142Z",
     "iopub.status.idle": "2021-06-01T20:49:53.414545Z",
     "shell.execute_reply": "2021-06-01T20:49:53.414120Z",
     "shell.execute_reply.started": "2021-06-01T20:16:17.817631Z"
    },
    "papermill": {
     "duration": 0.265457,
     "end_time": "2021-06-01T20:49:53.414675",
     "exception": false,
     "start_time": "2021-06-01T20:49:53.149218",
     "status": "completed"
    },
    "tags": []
   },
   "outputs": [
    {
     "name": "stderr",
     "output_type": "stream",
     "text": [
      "/opt/conda/lib/python3.7/site-packages/seaborn/distributions.py:2557: FutureWarning: `distplot` is a deprecated function and will be removed in a future version. Please adapt your code to use either `displot` (a figure-level function with similar flexibility) or `histplot` (an axes-level function for histograms).\n",
      "  warnings.warn(msg, FutureWarning)\n"
     ]
    },
    {
     "data": {
      "text/plain": [
       "<AxesSubplot:ylabel='Density'>"
      ]
     },
     "execution_count": 34,
     "metadata": {},
     "output_type": "execute_result"
    },
    {
     "data": {
      "image/png": "[encoded data removed]",
      "text/plain": [
       "<Figure size 1872x432 with 1 Axes>"
      ]
     },
     "metadata": {
      "needs_background": "light"
     },
     "output_type": "display_data"
    }
   ],
   "source": [
    "sns.distplot(x=df['Recency'],color='m')"
   ]
  },
  {
   "cell_type": "code",
   "execution_count": 35,
   "id": "rotary-savings",
   "metadata": {
    "execution": {
     "iopub.execute_input": "2021-06-01T20:49:53.527466Z",
     "iopub.status.busy": "2021-06-01T20:49:53.524700Z",
     "iopub.status.idle": "2021-06-01T20:49:53.735454Z",
     "shell.execute_reply": "2021-06-01T20:49:53.735839Z",
     "shell.execute_reply.started": "2021-06-01T20:16:18.042187Z"
    },
    "papermill": {
     "duration": 0.269495,
     "end_time": "2021-06-01T20:49:53.736025",
     "exception": false,
     "start_time": "2021-06-01T20:49:53.466530",
     "status": "completed"
    },
    "tags": []
   },
   "outputs": [
    {
     "data": {
      "text/plain": [
       "<AxesSubplot:xlabel='Total Purchase', ylabel='Count'>"
      ]
     },
     "execution_count": 35,
     "metadata": {},
     "output_type": "execute_result"
    },
    {
     "data": {
      "image/png": "[encoded data removed]",
      "text/plain": [
       "<Figure size 1872x432 with 1 Axes>"
      ]
     },
     "metadata": {
      "needs_background": "light"
     },
     "output_type": "display_data"
    }
   ],
   "source": [
    "sns.histplot(df['Total Purchase'],kde=True,color='silver')"
   ]
  },
  {
   "cell_type": "code",
   "execution_count": 36,
   "id": "bearing-gender",
   "metadata": {
    "execution": {
     "iopub.execute_input": "2021-06-01T20:49:53.846402Z",
     "iopub.status.busy": "2021-06-01T20:49:53.845515Z",
     "iopub.status.idle": "2021-06-01T20:49:54.007301Z",
     "shell.execute_reply": "2021-06-01T20:49:54.007695Z",
     "shell.execute_reply.started": "2021-06-01T20:16:18.276082Z"
    },
    "papermill": {
     "duration": 0.218648,
     "end_time": "2021-06-01T20:49:54.007889",
     "exception": false,
     "start_time": "2021-06-01T20:49:53.789241",
     "status": "completed"
    },
    "tags": []
   },
   "outputs": [
    {
     "data": {
      "image/png": "[encoded data removed]",
      "text/plain": [
       "<Figure size 720x360 with 1 Axes>"
      ]
     },
     "metadata": {},
     "output_type": "display_data"
    }
   ],
   "source": [
    "pm = df[['Total Purchase', 'Country']].groupby(['Country']).agg([sum])\n",
    "\n",
    "sns.set_palette('Spectral')\n",
    "plt.figure(figsize=(10,5))\n",
    "plt.pie(pm['Total Purchase']['sum'], labels = pm.index, explode = (0, 0.5, 0, 0.3, 1, 0, 0, 0.5),  shadow = True, autopct = '%1.1f%%')\n",
    "plt.show()"
   ]
  },
  {
   "cell_type": "code",
   "execution_count": 37,
   "id": "eastern-railway",
   "metadata": {
    "execution": {
     "iopub.execute_input": "2021-06-01T20:49:54.120653Z",
     "iopub.status.busy": "2021-06-01T20:49:54.119778Z",
     "iopub.status.idle": "2021-06-01T20:49:54.300096Z",
     "shell.execute_reply": "2021-06-01T20:49:54.299216Z",
     "shell.execute_reply.started": "2021-06-01T20:16:18.455481Z"
    },
    "papermill": {
     "duration": 0.238535,
     "end_time": "2021-06-01T20:49:54.300273",
     "exception": false,
     "start_time": "2021-06-01T20:49:54.061738",
     "status": "completed"
    },
    "tags": []
   },
   "outputs": [
    {
     "data": {
      "image/png": "[encoded data removed]",
      "text/plain": [
       "<Figure size 720x432 with 1 Axes>"
      ]
     },
     "metadata": {},
     "output_type": "display_data"
    }
   ],
   "source": [
    "pm=df[['Total Spent', 'Marital_Status']].groupby(['Marital_Status']).agg([sum])\n",
    "\n",
    "sns.set_palette('viridis_r')\n",
    "plt.figure(figsize=(10,6))\n",
    "plt.pie(pm['Total Spent']['sum'], labels=pm.index, explode=(0, 0.5, 0, 0.3, 1, 0, 0, 0.5), shadow=True,autopct='%1.1f%%')\n",
    "plt.show()"
   ]
  },
  {
   "cell_type": "code",
   "execution_count": 38,
   "id": "strong-monthly",
   "metadata": {
    "execution": {
     "iopub.execute_input": "2021-06-01T20:49:54.447465Z",
     "iopub.status.busy": "2021-06-01T20:49:54.446710Z",
     "iopub.status.idle": "2021-06-01T20:49:54.472373Z",
     "shell.execute_reply": "2021-06-01T20:49:54.471788Z",
     "shell.execute_reply.started": "2021-06-01T20:16:18.645756Z"
    },
    "papermill": {
     "duration": 0.09078,
     "end_time": "2021-06-01T20:49:54.472500",
     "exception": false,
     "start_time": "2021-06-01T20:49:54.381720",
     "status": "completed"
    },
    "tags": []
   },
   "outputs": [
    {
     "data": {
      "text/html": [
       "        <script type=\"text/javascript\">\n",
       "        window.PlotlyConfig = {MathJaxConfig: 'local'};\n",
       "        if (window.MathJax) {MathJax.Hub.Config({SVG: {font: \"STIX-Web\"}});}\n",
       "        if (typeof require !== 'undefined') {\n",
       "        require.undef(\"plotly\");\n",
       "        requirejs.config({\n",
       "            paths: {\n",
       "                'plotly': ['https://cdn.plot.ly/plotly-latest.min']\n",
       "            }\n",
       "        });\n",
       "        require(['plotly'], function(Plotly) {\n",
       "            window._Plotly = Plotly;\n",
       "        });\n",
       "        }\n",
       "        </script>\n",
       "        "
      ]
     },
     "metadata": {},
     "output_type": "display_data"
    }
   ],
   "source": [
    "# now we want to use target and non target with some graphs\n",
    "import plotly.offline as py\n",
    "py.init_notebook_mode(connected=True)\n",
    "def plot_pie(column):\n",
    "    df1= go.Pie(values=target[column].value_counts().values.tolist(),\n",
    "                    labels  = target[column].value_counts().keys().tolist(),\n",
    "                    hoverinfo = \"label+percent+name\",\n",
    "                    domain  = dict(x = [0,.48]),\n",
    "                    name    = \"Target Marketing\",\n",
    "                    marker  = dict(line = dict(width = 2,\n",
    "                                               color = \"rgb(243,243,243)\")\n",
    "                                  ),\n",
    "                    hole    = .6\n",
    "                   ) \n",
    "    \n",
    "    df2=go.Pie(values  = non_target[column].value_counts().values.tolist(),\n",
    "                    labels  = non_target[column].value_counts().keys().tolist(),\n",
    "                    hoverinfo = \"label+percent+name\",\n",
    "                    marker  = dict(line = dict(width = 2,\n",
    "                                               color = \"rgb(243,243,243)\")\n",
    "                                  ),\n",
    "                    domain  = dict(x = [.52,1]),\n",
    "                    hole    = .6,\n",
    "                    name    = \"Non Target Marketing\" \n",
    "                   )\n",
    "    \n",
    "    \n",
    "    layout= go.Layout(dict(title = column + \" distribution in marketing attrition \",\n",
    "                            plot_bgcolor  = \"rgb(243,243,243)\",\n",
    "                            paper_bgcolor = \"rgb(243,243,243)\",\n",
    "                            annotations = [dict(text = \"Target Marketing\",\n",
    "                                                font = dict(size = 14),\n",
    "                                                showarrow = False,\n",
    "                                                x = .20, y = .5),\n",
    "                                           dict(text = \"Non Target Marketing\",\n",
    "                                                font = dict(size = 14),\n",
    "                                                showarrow = False,\n",
    "                                                x = .83,y = .4\n",
    "                                               )\n",
    "                                          ]\n",
    "                           )\n",
    "                      )\n",
    "    \n",
    "    df = [df1,df2]\n",
    "    fig  = go.Figure(data = df,layout = layout)\n",
    "    py.iplot(fig)"
   ]
  },
  {
   "cell_type": "code",
   "execution_count": 39,
   "id": "residential-serial",
   "metadata": {
    "execution": {
     "iopub.execute_input": "2021-06-01T20:49:54.590837Z",
     "iopub.status.busy": "2021-06-01T20:49:54.590122Z",
     "iopub.status.idle": "2021-06-01T20:49:55.474199Z",
     "shell.execute_reply": "2021-06-01T20:49:55.473250Z",
     "shell.execute_reply.started": "2021-06-01T20:16:18.665967Z"
    },
    "papermill": {
     "duration": 0.946259,
     "end_time": "2021-06-01T20:49:55.474350",
     "exception": false,
     "start_time": "2021-06-01T20:49:54.528091",
     "status": "completed"
    },
    "tags": []
   },
   "outputs": [
    {
     "data": {
      "application/vnd.plotly.v1+json": {
       "config": {
        "linkText": "Export to plot.ly",
        "plotlyServerURL": "https://plot.ly",
        "showLink": false
       },
       "data": [
        {
         "domain": {
          "x": [
           0,
           0.48
          ]
         },
         "hole": 0.6,
         "hoverinfo": "label+percent+name",
         "labels": [
          "Graduation",
          "PhD",
          "Master",
          "2n Cycle",
          "Basic"
         ],
         "marker": {
          "line": {
           "color": "rgb(243,243,243)",
           "width": 2
          }
         },
         "name": "Target Marketing",
         "type": "pie",
         "values": [
          152,
          101,
          57,
          22,
          2
         ]
        },
        {
         "domain": {
          "x": [
           0.52,
           1
          ]
         },
         "hole": 0.6,
         "hoverinfo": "label+percent+name",
         "labels": [
          "Graduation",
          "PhD",
          "Master",
          "2n Cycle",
          "Basic"
         ],
         "marker": {
          "line": {
           "color": "rgb(243,243,243)",
           "width": 2
          }
         },
         "name": "Non Target Marketing",
         "type": "pie",
         "values": [
          975,
          385,
          313,
          181,
          52
         ]
        }
       ],
       "layout": {
        "annotations": [
         {
          "font": {
           "size": 14
          },
          "showarrow": false,
          "text": "Target Marketing",
          "x": 0.2,
          "y": 0.5
         },
         {
          "font": {
           "size": 14
          },
          "showarrow": false,
          "text": "Non Target Marketing",
          "x": 0.83,
          "y": 0.4
         }
        ],
        "paper_bgcolor": "rgb(243,243,243)",
        "plot_bgcolor": "rgb(243,243,243)",
        "template": {
         "data": {
          "bar": [
           {
            "error_x": {
             "color": "#2a3f5f"
            },
            "error_y": {
             "color": "#2a3f5f"
            },
            "marker": {
             "line": {
              "color": "#E5ECF6",
              "width": 0.5
             }
            },
            "type": "bar"
           }
          ],
          "barpolar": [
           {
            "marker": {
             "line": {
              "color": "#E5ECF6",
              "width": 0.5
             }
            },
            "type": "barpolar"
           }
          ],
          "carpet": [
           {
            "aaxis": {
             "endlinecolor": "#2a3f5f",
             "gridcolor": "white",
             "linecolor": "white",
             "minorgridcolor": "white",
             "startlinecolor": "#2a3f5f"
            },
            "baxis": {
             "endlinecolor": "#2a3f5f",
             "gridcolor": "white",
             "linecolor": "white",
             "minorgridcolor": "white",
             "startlinecolor": "#2a3f5f"
            },
            "type": "carpet"
           }
          ],
          "choropleth": [
           {
            "colorbar": {
             "outlinewidth": 0,
             "ticks": ""
            },
            "type": "choropleth"
           }
          ],
          "contour": [
           {
            "colorbar": {
             "outlinewidth": 0,
             "ticks": ""
            },
            "colorscale": [
             [
              0.0,
              "#0d0887"
             ],
             [
              0.1111111111111111,
              "#46039f"
             ],
             [
              0.2222222222222222,
              "#7201a8"
             ],
             [
              0.3333333333333333,
              "#9c179e"
             ],
             [
              0.4444444444444444,
              "#bd3786"
             ],
             [
              0.5555555555555556,
              "#d8576b"
             ],
             [
              0.6666666666666666,
              "#ed7953"
             ],
             [
              0.7777777777777778,
              "#fb9f3a"
             ],
             [
              0.8888888888888888,
              "#fdca26"
             ],
             [
              1.0,
              "#f0f921"
             ]
            ],
            "type": "contour"
           }
          ],
          "contourcarpet": [
           {
            "colorbar": {
             "outlinewidth": 0,
             "ticks": ""
            },
            "type": "contourcarpet"
           }
          ],
          "heatmap": [
           {
            "colorbar": {
             "outlinewidth": 0,
             "ticks": ""
            },
            "colorscale": [
             [
              0.0,
              "#0d0887"
             ],
             [
              0.1111111111111111,
              "#46039f"
             ],
             [
              0.2222222222222222,
              "#7201a8"
             ],
             [
              0.3333333333333333,
              "#9c179e"
             ],
             [
              0.4444444444444444,
              "#bd3786"
             ],
             [
              0.5555555555555556,
              "#d8576b"
             ],
             [
              0.6666666666666666,
              "#ed7953"
             ],
             [
              0.7777777777777778,
              "#fb9f3a"
             ],
             [
              0.8888888888888888,
              "#fdca26"
             ],
             [
              1.0,
              "#f0f921"
             ]
            ],
            "type": "heatmap"
           }
          ],
          "heatmapgl": [
           {
            "colorbar": {
             "outlinewidth": 0,
             "ticks": ""
            },
            "colorscale": [
             [
              0.0,
              "#0d0887"
             ],
             [
              0.1111111111111111,
              "#46039f"
             ],
             [
              0.2222222222222222,
              "#7201a8"
             ],
             [
              0.3333333333333333,
              "#9c179e"
             ],
             [
              0.4444444444444444,
              "#bd3786"
             ],
             [
              0.5555555555555556,
              "#d8576b"
             ],
             [
              0.6666666666666666,
              "#ed7953"
             ],
             [
              0.7777777777777778,
              "#fb9f3a"
             ],
             [
              0.8888888888888888,
              "#fdca26"
             ],
             [
              1.0,
              "#f0f921"
             ]
            ],
            "type": "heatmapgl"
           }
          ],
          "histogram": [
           {
            "marker": {
             "colorbar": {
              "outlinewidth": 0,
              "ticks": ""
             }
            },
            "type": "histogram"
           }
          ],
          "histogram2d": [
           {
            "colorbar": {
             "outlinewidth": 0,
             "ticks": ""
            },
            "colorscale": [
             [
              0.0,
              "#0d0887"
             ],
             [
              0.1111111111111111,
              "#46039f"
             ],
             [
              0.2222222222222222,
              "#7201a8"
             ],
             [
              0.3333333333333333,
              "#9c179e"
             ],
             [
              0.4444444444444444,
              "#bd3786"
             ],
             [
              0.5555555555555556,
              "#d8576b"
             ],
             [
              0.6666666666666666,
              "#ed7953"
             ],
             [
              0.7777777777777778,
              "#fb9f3a"
             ],
             [
              0.8888888888888888,
              "#fdca26"
             ],
             [
              1.0,
              "#f0f921"
             ]
            ],
            "type": "histogram2d"
           }
          ],
          "histogram2dcontour": [
           {
            "colorbar": {
             "outlinewidth": 0,
             "ticks": ""
            },
            "colorscale": [
             [
              0.0,
              "#0d0887"
             ],
             [
              0.1111111111111111,
              "#46039f"
             ],
             [
              0.2222222222222222,
              "#7201a8"
             ],
             [
              0.3333333333333333,
              "#9c179e"
             ],
             [
              0.4444444444444444,
              "#bd3786"
             ],
             [
              0.5555555555555556,
              "#d8576b"
             ],
             [
              0.6666666666666666,
              "#ed7953"
             ],
             [
              0.7777777777777778,
              "#fb9f3a"
             ],
             [
              0.8888888888888888,
              "#fdca26"
             ],
             [
              1.0,
              "#f0f921"
             ]
            ],
            "type": "histogram2dcontour"
           }
          ],
          "mesh3d": [
           {
            "colorbar": {
             "outlinewidth": 0,
             "ticks": ""
            },
            "type": "mesh3d"
           }
          ],
          "parcoords": [
           {
            "line": {
             "colorbar": {
              "outlinewidth": 0,
              "ticks": ""
             }
            },
            "type": "parcoords"
           }
          ],
          "pie": [
           {
            "automargin": true,
            "type": "pie"
           }
          ],
          "scatter": [
           {
            "marker": {
             "colorbar": {
              "outlinewidth": 0,
              "ticks": ""
             }
            },
            "type": "scatter"
           }
          ],
          "scatter3d": [
           {
            "line": {
             "colorbar": {
              "outlinewidth": 0,
              "ticks": ""
             }
            },
            "marker": {
             "colorbar": {
              "outlinewidth": 0,
              "ticks": ""
             }
            },
            "type": "scatter3d"
           }
          ],
          "scattercarpet": [
           {
            "marker": {
             "colorbar": {
              "outlinewidth": 0,
              "ticks": ""
             }
            },
            "type": "scattercarpet"
           }
          ],
          "scattergeo": [
           {
            "marker": {
             "colorbar": {
              "outlinewidth": 0,
              "ticks": ""
             }
            },
            "type": "scattergeo"
           }
          ],
          "scattergl": [
           {
            "marker": {
             "colorbar": {
              "outlinewidth": 0,
              "ticks": ""
             }
            },
            "type": "scattergl"
           }
          ],
          "scattermapbox": [
           {
            "marker": {
             "colorbar": {
              "outlinewidth": 0,
              "ticks": ""
             }
            },
            "type": "scattermapbox"
           }
          ],
          "scatterpolar": [
           {
            "marker": {
             "colorbar": {
              "outlinewidth": 0,
              "ticks": ""
             }
            },
            "type": "scatterpolar"
           }
          ],
          "scatterpolargl": [
           {
            "marker": {
             "colorbar": {
              "outlinewidth": 0,
              "ticks": ""
             }
            },
            "type": "scatterpolargl"
           }
          ],
          "scatterternary": [
           {
            "marker": {
             "colorbar": {
              "outlinewidth": 0,
              "ticks": ""
             }
            },
            "type": "scatterternary"
           }
          ],
          "surface": [
           {
            "colorbar": {
             "outlinewidth": 0,
             "ticks": ""
            },
            "colorscale": [
             [
              0.0,
              "#0d0887"
             ],
             [
              0.1111111111111111,
              "#46039f"
             ],
             [
              0.2222222222222222,
              "#7201a8"
             ],
             [
              0.3333333333333333,
              "#9c179e"
             ],
             [
              0.4444444444444444,
              "#bd3786"
             ],
             [
              0.5555555555555556,
              "#d8576b"
             ],
             [
              0.6666666666666666,
              "#ed7953"
             ],
             [
              0.7777777777777778,
              "#fb9f3a"
             ],
             [
              0.8888888888888888,
              "#fdca26"
             ],
             [
              1.0,
              "#f0f921"
             ]
            ],
            "type": "surface"
           }
          ],
          "table": [
           {
            "cells": {
             "fill": {
              "color": "#EBF0F8"
             },
             "line": {
              "color": "white"
             }
            },
            "header": {
             "fill": {
              "color": "#C8D4E3"
             },
             "line": {
              "color": "white"
             }
            },
            "type": "table"
           }
          ]
         },
         "layout": {
          "annotationdefaults": {
           "arrowcolor": "#2a3f5f",
           "arrowhead": 0,
           "arrowwidth": 1
          },
          "autotypenumbers": "strict",
          "coloraxis": {
           "colorbar": {
            "outlinewidth": 0,
            "ticks": ""
           }
          },
          "colorscale": {
           "diverging": [
            [
             0,
             "#8e0152"
            ],
            [
             0.1,
             "#c51b7d"
            ],
            [
             0.2,
             "#de77ae"
            ],
            [
             0.3,
             "#f1b6da"
            ],
            [
             0.4,
             "#fde0ef"
            ],
            [
             0.5,
             "#f7f7f7"
            ],
            [
             0.6,
             "#e6f5d0"
            ],
            [
             0.7,
             "#b8e186"
            ],
            [
             0.8,
             "#7fbc41"
            ],
            [
             0.9,
             "#4d9221"
            ],
            [
             1,
             "#276419"
            ]
           ],
           "sequential": [
            [
             0.0,
             "#0d0887"
            ],
            [
             0.1111111111111111,
             "#46039f"
            ],
            [
             0.2222222222222222,
             "#7201a8"
            ],
            [
             0.3333333333333333,
             "#9c179e"
            ],
            [
             0.4444444444444444,
             "#bd3786"
            ],
            [
             0.5555555555555556,
             "#d8576b"
            ],
            [
             0.6666666666666666,
             "#ed7953"
            ],
            [
             0.7777777777777778,
             "#fb9f3a"
            ],
            [
             0.8888888888888888,
             "#fdca26"
            ],
            [
             1.0,
             "#f0f921"
            ]
           ],
           "sequentialminus": [
            [
             0.0,
             "#0d0887"
            ],
            [
             0.1111111111111111,
             "#46039f"
            ],
            [
             0.2222222222222222,
             "#7201a8"
            ],
            [
             0.3333333333333333,
             "#9c179e"
            ],
            [
             0.4444444444444444,
             "#bd3786"
            ],
            [
             0.5555555555555556,
             "#d8576b"
            ],
            [
             0.6666666666666666,
             "#ed7953"
            ],
            [
             0.7777777777777778,
             "#fb9f3a"
            ],
            [
             0.8888888888888888,
             "#fdca26"
            ],
            [
             1.0,
             "#f0f921"
            ]
           ]
          },
          "colorway": [
           "#636efa",
           "#EF553B",
           "#00cc96",
           "#ab63fa",
           "#FFA15A",
           "#19d3f3",
           "#FF6692",
           "#B6E880",
           "#FF97FF",
           "#FECB52"
          ],
          "font": {
           "color": "#2a3f5f"
          },
          "geo": {
           "bgcolor": "white",
           "lakecolor": "white",
           "landcolor": "#E5ECF6",
           "showlakes": true,
           "showland": true,
           "subunitcolor": "white"
          },
          "hoverlabel": {
           "align": "left"
          },
          "hovermode": "closest",
          "mapbox": {
           "style": "light"
          },
          "paper_bgcolor": "white",
          "plot_bgcolor": "#E5ECF6",
          "polar": {
           "angularaxis": {
            "gridcolor": "white",
            "linecolor": "white",
            "ticks": ""
           },
           "bgcolor": "#E5ECF6",
           "radialaxis": {
            "gridcolor": "white",
            "linecolor": "white",
            "ticks": ""
           }
          },
          "scene": {
           "xaxis": {
            "backgroundcolor": "#E5ECF6",
            "gridcolor": "white",
            "gridwidth": 2,
            "linecolor": "white",
            "showbackground": true,
            "ticks": "",
            "zerolinecolor": "white"
           },
           "yaxis": {
            "backgroundcolor": "#E5ECF6",
            "gridcolor": "white",
            "gridwidth": 2,
            "linecolor": "white",
            "showbackground": true,
            "ticks": "",
            "zerolinecolor": "white"
           },
           "zaxis": {
            "backgroundcolor": "#E5ECF6",
            "gridcolor": "white",
            "gridwidth": 2,
            "linecolor": "white",
            "showbackground": true,
            "ticks": "",
            "zerolinecolor": "white"
           }
          },
          "shapedefaults": {
           "line": {
            "color": "#2a3f5f"
           }
          },
          "ternary": {
           "aaxis": {
            "gridcolor": "white",
            "linecolor": "white",
            "ticks": ""
           },
           "baxis": {
            "gridcolor": "white",
            "linecolor": "white",
            "ticks": ""
           },
           "bgcolor": "#E5ECF6",
           "caxis": {
            "gridcolor": "white",
            "linecolor": "white",
            "ticks": ""
           }
          },
          "title": {
           "x": 0.05
          },
          "xaxis": {
           "automargin": true,
           "gridcolor": "white",
           "linecolor": "white",
           "ticks": "",
           "title": {
            "standoff": 15
           },
           "zerolinecolor": "white",
           "zerolinewidth": 2
          },
          "yaxis": {
           "automargin": true,
           "gridcolor": "white",
           "linecolor": "white",
           "ticks": "",
           "title": {
            "standoff": 15
           },
           "zerolinecolor": "white",
           "zerolinewidth": 2
          }
         }
        },
        "title": {
         "text": "Education distribution in marketing attrition "
        }
       }
      },
      "text/html": [
       "<div>                            <div id=\"4d98a464-df5a-497c-bfae-47f602228fc9\" class=\"plotly-graph-div\" style=\"height:525px; width:100%;\"></div>            <script type=\"text/javascript\">                require([\"plotly\"], function(Plotly) {                    window.PLOTLYENV=window.PLOTLYENV || {};                                    if (document.getElementById(\"4d98a464-df5a-497c-bfae-47f602228fc9\")) {                    Plotly.newPlot(                        \"4d98a464-df5a-497c-bfae-47f602228fc9\",                        [{\"domain\": {\"x\": [0, 0.48]}, \"hole\": 0.6, \"hoverinfo\": \"label+percent+name\", \"labels\": [\"Graduation\", \"PhD\", \"Master\", \"2n Cycle\", \"Basic\"], \"marker\": {\"line\": {\"color\": \"rgb(243,243,243)\", \"width\": 2}}, \"name\": \"Target Marketing\", \"type\": \"pie\", \"values\": [152, 101, 57, 22, 2]}, {\"domain\": {\"x\": [0.52, 1]}, \"hole\": 0.6, \"hoverinfo\": \"label+percent+name\", \"labels\": [\"Graduation\", \"PhD\", \"Master\", \"2n Cycle\", \"Basic\"], \"marker\": {\"line\": {\"color\": \"rgb(243,243,243)\", \"width\": 2}}, \"name\": \"Non Target Marketing\", \"type\": \"pie\", \"values\": [975, 385, 313, 181, 52]}],                        {\"annotations\": [{\"font\": {\"size\": 14}, \"showarrow\": false, \"text\": \"Target Marketing\", \"x\": 0.2, \"y\": 0.5}, {\"font\": {\"size\": 14}, \"showarrow\": false, \"text\": \"Non Target Marketing\", \"x\": 0.83, \"y\": 0.4}], \"paper_bgcolor\": \"rgb(243,243,243)\", \"plot_bgcolor\": \"rgb(243,243,243)\", \"template\": {\"data\": {\"bar\": [{\"error_x\": {\"color\": \"#2a3f5f\"}, \"error_y\": {\"color\": \"#2a3f5f\"}, \"marker\": {\"line\": {\"color\": \"#E5ECF6\", \"width\": 0.5}}, \"type\": \"bar\"}], \"barpolar\": [{\"marker\": {\"line\": {\"color\": \"#E5ECF6\", \"width\": 0.5}}, \"type\": \"barpolar\"}], \"carpet\": [{\"aaxis\": {\"endlinecolor\": \"#2a3f5f\", \"gridcolor\": \"white\", \"linecolor\": \"white\", \"minorgridcolor\": \"white\", \"startlinecolor\": \"#2a3f5f\"}, \"baxis\": {\"endlinecolor\": \"#2a3f5f\", \"gridcolor\": \"white\", \"linecolor\": \"white\", \"minorgridcolor\": \"white\", \"startlinecolor\": \"#2a3f5f\"}, \"type\": \"carpet\"}], \"choropleth\": [{\"colorbar\": {\"outlinewidth\": 0, \"ticks\": \"\"}, \"type\": \"choropleth\"}], \"contour\": [{\"colorbar\": {\"outlinewidth\": 0, \"ticks\": \"\"}, \"colorscale\": [[0.0, \"#0d0887\"], [0.1111111111111111, \"#46039f\"], [0.2222222222222222, \"#7201a8\"], [0.3333333333333333, \"#9c179e\"], [0.4444444444444444, \"#bd3786\"], [0.5555555555555556, \"#d8576b\"], [0.6666666666666666, \"#ed7953\"], [0.7777777777777778, \"#fb9f3a\"], [0.8888888888888888, \"#fdca26\"], [1.0, \"#f0f921\"]], \"type\": \"contour\"}], \"contourcarpet\": [{\"colorbar\": {\"outlinewidth\": 0, \"ticks\": \"\"}, \"type\": \"contourcarpet\"}], \"heatmap\": [{\"colorbar\": {\"outlinewidth\": 0, \"ticks\": \"\"}, \"colorscale\": [[0.0, \"#0d0887\"], [0.1111111111111111, \"#46039f\"], [0.2222222222222222, \"#7201a8\"], [0.3333333333333333, \"#9c179e\"], [0.4444444444444444, \"#bd3786\"], [0.5555555555555556, \"#d8576b\"], [0.6666666666666666, \"#ed7953\"], [0.7777777777777778, \"#fb9f3a\"], [0.8888888888888888, \"#fdca26\"], [1.0, \"#f0f921\"]], \"type\": \"heatmap\"}], \"heatmapgl\": [{\"colorbar\": {\"outlinewidth\": 0, \"ticks\": \"\"}, \"colorscale\": [[0.0, \"#0d0887\"], [0.1111111111111111, \"#46039f\"], [0.2222222222222222, \"#7201a8\"], [0.3333333333333333, \"#9c179e\"], [0.4444444444444444, \"#bd3786\"], [0.5555555555555556, \"#d8576b\"], [0.6666666666666666, \"#ed7953\"], [0.7777777777777778, \"#fb9f3a\"], [0.8888888888888888, \"#fdca26\"], [1.0, \"#f0f921\"]], \"type\": \"heatmapgl\"}], \"histogram\": [{\"marker\": {\"colorbar\": {\"outlinewidth\": 0, \"ticks\": \"\"}}, \"type\": \"histogram\"}], \"histogram2d\": [{\"colorbar\": {\"outlinewidth\": 0, \"ticks\": \"\"}, \"colorscale\": [[0.0, \"#0d0887\"], [0.1111111111111111, \"#46039f\"], [0.2222222222222222, \"#7201a8\"], [0.3333333333333333, \"#9c179e\"], [0.4444444444444444, \"#bd3786\"], [0.5555555555555556, \"#d8576b\"], [0.6666666666666666, \"#ed7953\"], [0.7777777777777778, \"#fb9f3a\"], [0.8888888888888888, \"#fdca26\"], [1.0, \"#f0f921\"]], \"type\": \"histogram2d\"}], \"histogram2dcontour\": [{\"colorbar\": {\"outlinewidth\": 0, \"ticks\": \"\"}, \"colorscale\": [[0.0, \"#0d0887\"], [0.1111111111111111, \"#46039f\"], [0.2222222222222222, \"#7201a8\"], [0.3333333333333333, \"#9c179e\"], [0.4444444444444444, \"#bd3786\"], [0.5555555555555556, \"#d8576b\"], [0.6666666666666666, \"#ed7953\"], [0.7777777777777778, \"#fb9f3a\"], [0.8888888888888888, \"#fdca26\"], [1.0, \"#f0f921\"]], \"type\": \"histogram2dcontour\"}], \"mesh3d\": [{\"colorbar\": {\"outlinewidth\": 0, \"ticks\": \"\"}, \"type\": \"mesh3d\"}], \"parcoords\": [{\"line\": {\"colorbar\": {\"outlinewidth\": 0, \"ticks\": \"\"}}, \"type\": \"parcoords\"}], \"pie\": [{\"automargin\": true, \"type\": \"pie\"}], \"scatter\": [{\"marker\": {\"colorbar\": {\"outlinewidth\": 0, \"ticks\": \"\"}}, \"type\": \"scatter\"}], \"scatter3d\": [{\"line\": {\"colorbar\": {\"outlinewidth\": 0, \"ticks\": \"\"}}, \"marker\": {\"colorbar\": {\"outlinewidth\": 0, \"ticks\": \"\"}}, \"type\": \"scatter3d\"}], \"scattercarpet\": [{\"marker\": {\"colorbar\": {\"outlinewidth\": 0, \"ticks\": \"\"}}, \"type\": \"scattercarpet\"}], \"scattergeo\": [{\"marker\": {\"colorbar\": {\"outlinewidth\": 0, \"ticks\": \"\"}}, \"type\": \"scattergeo\"}], \"scattergl\": [{\"marker\": {\"colorbar\": {\"outlinewidth\": 0, \"ticks\": \"\"}}, \"type\": \"scattergl\"}], \"scattermapbox\": [{\"marker\": {\"colorbar\": {\"outlinewidth\": 0, \"ticks\": \"\"}}, \"type\": \"scattermapbox\"}], \"scatterpolar\": [{\"marker\": {\"colorbar\": {\"outlinewidth\": 0, \"ticks\": \"\"}}, \"type\": \"scatterpolar\"}], \"scatterpolargl\": [{\"marker\": {\"colorbar\": {\"outlinewidth\": 0, \"ticks\": \"\"}}, \"type\": \"scatterpolargl\"}], \"scatterternary\": [{\"marker\": {\"colorbar\": {\"outlinewidth\": 0, \"ticks\": \"\"}}, \"type\": \"scatterternary\"}], \"surface\": [{\"colorbar\": {\"outlinewidth\": 0, \"ticks\": \"\"}, \"colorscale\": [[0.0, \"#0d0887\"], [0.1111111111111111, \"#46039f\"], [0.2222222222222222, \"#7201a8\"], [0.3333333333333333, \"#9c179e\"], [0.4444444444444444, \"#bd3786\"], [0.5555555555555556, \"#d8576b\"], [0.6666666666666666, \"#ed7953\"], [0.7777777777777778, \"#fb9f3a\"], [0.8888888888888888, \"#fdca26\"], [1.0, \"#f0f921\"]], \"type\": \"surface\"}], \"table\": [{\"cells\": {\"fill\": {\"color\": \"#EBF0F8\"}, \"line\": {\"color\": \"white\"}}, \"header\": {\"fill\": {\"color\": \"#C8D4E3\"}, \"line\": {\"color\": \"white\"}}, \"type\": \"table\"}]}, \"layout\": {\"annotationdefaults\": {\"arrowcolor\": \"#2a3f5f\", \"arrowhead\": 0, \"arrowwidth\": 1}, \"autotypenumbers\": \"strict\", \"coloraxis\": {\"colorbar\": {\"outlinewidth\": 0, \"ticks\": \"\"}}, \"colorscale\": {\"diverging\": [[0, \"#8e0152\"], [0.1, \"#c51b7d\"], [0.2, \"#de77ae\"], [0.3, \"#f1b6da\"], [0.4, \"#fde0ef\"], [0.5, \"#f7f7f7\"], [0.6, \"#e6f5d0\"], [0.7, \"#b8e186\"], [0.8, \"#7fbc41\"], [0.9, \"#4d9221\"], [1, \"#276419\"]], \"sequential\": [[0.0, \"#0d0887\"], [0.1111111111111111, \"#46039f\"], [0.2222222222222222, \"#7201a8\"], [0.3333333333333333, \"#9c179e\"], [0.4444444444444444, \"#bd3786\"], [0.5555555555555556, \"#d8576b\"], [0.6666666666666666, \"#ed7953\"], [0.7777777777777778, \"#fb9f3a\"], [0.8888888888888888, \"#fdca26\"], [1.0, \"#f0f921\"]], \"sequentialminus\": [[0.0, \"#0d0887\"], [0.1111111111111111, \"#46039f\"], [0.2222222222222222, \"#7201a8\"], [0.3333333333333333, \"#9c179e\"], [0.4444444444444444, \"#bd3786\"], [0.5555555555555556, \"#d8576b\"], [0.6666666666666666, \"#ed7953\"], [0.7777777777777778, \"#fb9f3a\"], [0.8888888888888888, \"#fdca26\"], [1.0, \"#f0f921\"]]}, \"colorway\": [\"#636efa\", \"#EF553B\", \"#00cc96\", \"#ab63fa\", \"#FFA15A\", \"#19d3f3\", \"#FF6692\", \"#B6E880\", \"#FF97FF\", \"#FECB52\"], \"font\": {\"color\": \"#2a3f5f\"}, \"geo\": {\"bgcolor\": \"white\", \"lakecolor\": \"white\", \"landcolor\": \"#E5ECF6\", \"showlakes\": true, \"showland\": true, \"subunitcolor\": \"white\"}, \"hoverlabel\": {\"align\": \"left\"}, \"hovermode\": \"closest\", \"mapbox\": {\"style\": \"light\"}, \"paper_bgcolor\": \"white\", \"plot_bgcolor\": \"#E5ECF6\", \"polar\": {\"angularaxis\": {\"gridcolor\": \"white\", \"linecolor\": \"white\", \"ticks\": \"\"}, \"bgcolor\": \"#E5ECF6\", \"radialaxis\": {\"gridcolor\": \"white\", \"linecolor\": \"white\", \"ticks\": \"\"}}, \"scene\": {\"xaxis\": {\"backgroundcolor\": \"#E5ECF6\", \"gridcolor\": \"white\", \"gridwidth\": 2, \"linecolor\": \"white\", \"showbackground\": true, \"ticks\": \"\", \"zerolinecolor\": \"white\"}, \"yaxis\": {\"backgroundcolor\": \"#E5ECF6\", \"gridcolor\": \"white\", \"gridwidth\": 2, \"linecolor\": \"white\", \"showbackground\": true, \"ticks\": \"\", \"zerolinecolor\": \"white\"}, \"zaxis\": {\"backgroundcolor\": \"#E5ECF6\", \"gridcolor\": \"white\", \"gridwidth\": 2, \"linecolor\": \"white\", \"showbackground\": true, \"ticks\": \"\", \"zerolinecolor\": \"white\"}}, \"shapedefaults\": {\"line\": {\"color\": \"#2a3f5f\"}}, \"ternary\": {\"aaxis\": {\"gridcolor\": \"white\", \"linecolor\": \"white\", \"ticks\": \"\"}, \"baxis\": {\"gridcolor\": \"white\", \"linecolor\": \"white\", \"ticks\": \"\"}, \"bgcolor\": \"#E5ECF6\", \"caxis\": {\"gridcolor\": \"white\", \"linecolor\": \"white\", \"ticks\": \"\"}}, \"title\": {\"x\": 0.05}, \"xaxis\": {\"automargin\": true, \"gridcolor\": \"white\", \"linecolor\": \"white\", \"ticks\": \"\", \"title\": {\"standoff\": 15}, \"zerolinecolor\": \"white\", \"zerolinewidth\": 2}, \"yaxis\": {\"automargin\": true, \"gridcolor\": \"white\", \"linecolor\": \"white\", \"ticks\": \"\", \"title\": {\"standoff\": 15}, \"zerolinecolor\": \"white\", \"zerolinewidth\": 2}}}, \"title\": {\"text\": \"Education distribution in marketing attrition \"}},                        {\"responsive\": true}                    ).then(function(){\n",
       "                            \n",
       "var gd = document.getElementById('4d98a464-df5a-497c-bfae-47f602228fc9');\n",
       "var x = new MutationObserver(function (mutations, observer) {{\n",
       "        var display = window.getComputedStyle(gd).display;\n",
       "        if (!display || display === 'none') {{\n",
       "            console.log([gd, 'removed!']);\n",
       "            Plotly.purge(gd);\n",
       "            observer.disconnect();\n",
       "        }}\n",
       "}});\n",
       "\n",
       "// Listen for the removal of the full notebook cells\n",
       "var notebookContainer = gd.closest('#notebook-container');\n",
       "if (notebookContainer) {{\n",
       "    x.observe(notebookContainer, {childList: true});\n",
       "}}\n",
       "\n",
       "// Listen for the clearing of the current output cell\n",
       "var outputEl = gd.closest('.output');\n",
       "if (outputEl) {{\n",
       "    x.observe(outputEl, {childList: true});\n",
       "}}\n",
       "\n",
       "                        })                };                });            </script>        </div>"
      ]
     },
     "metadata": {},
     "output_type": "display_data"
    }
   ],
   "source": [
    "plot_pie(cat_cols[0])"
   ]
  },
  {
   "cell_type": "markdown",
   "id": "invalid-comparison",
   "metadata": {
    "papermill": {
     "duration": 0.06056,
     "end_time": "2021-06-01T20:49:55.596213",
     "exception": false,
     "start_time": "2021-06-01T20:49:55.535653",
     "status": "completed"
    },
    "tags": []
   },
   "source": [
    "* As you see, for target marketing the highest portion is for Graduatio and for non target(zero) the highest one is also for Graduation."
   ]
  },
  {
   "cell_type": "code",
   "execution_count": 40,
   "id": "intelligent-pricing",
   "metadata": {
    "execution": {
     "iopub.execute_input": "2021-06-01T20:49:55.721338Z",
     "iopub.status.busy": "2021-06-01T20:49:55.720781Z",
     "iopub.status.idle": "2021-06-01T20:49:55.752233Z",
     "shell.execute_reply": "2021-06-01T20:49:55.752611Z",
     "shell.execute_reply.started": "2021-06-01T20:16:18.863456Z"
    },
    "papermill": {
     "duration": 0.09548,
     "end_time": "2021-06-01T20:49:55.752784",
     "exception": false,
     "start_time": "2021-06-01T20:49:55.657304",
     "status": "completed"
    },
    "tags": []
   },
   "outputs": [
    {
     "data": {
      "application/vnd.plotly.v1+json": {
       "config": {
        "linkText": "Export to plot.ly",
        "plotlyServerURL": "https://plot.ly",
        "showLink": false
       },
       "data": [
        {
         "domain": {
          "x": [
           0,
           0.48
          ]
         },
         "hole": 0.6,
         "hoverinfo": "label+percent+name",
         "labels": [
          0,
          1
         ],
         "marker": {
          "line": {
           "color": "rgb(243,243,243)",
           "width": 2
          }
         },
         "name": "Target Marketing",
         "type": "pie",
         "values": [
          331,
          3
         ]
        },
        {
         "domain": {
          "x": [
           0.52,
           1
          ]
         },
         "hole": 0.6,
         "hoverinfo": "label+percent+name",
         "labels": [
          0,
          1
         ],
         "marker": {
          "line": {
           "color": "rgb(243,243,243)",
           "width": 2
          }
         },
         "name": "Non Target Marketing",
         "type": "pie",
         "values": [
          1888,
          18
         ]
        }
       ],
       "layout": {
        "annotations": [
         {
          "font": {
           "size": 14
          },
          "showarrow": false,
          "text": "Target Marketing",
          "x": 0.2,
          "y": 0.5
         },
         {
          "font": {
           "size": 14
          },
          "showarrow": false,
          "text": "Non Target Marketing",
          "x": 0.83,
          "y": 0.4
         }
        ],
        "paper_bgcolor": "rgb(243,243,243)",
        "plot_bgcolor": "rgb(243,243,243)",
        "template": {
         "data": {
          "bar": [
           {
            "error_x": {
             "color": "#2a3f5f"
            },
            "error_y": {
             "color": "#2a3f5f"
            },
            "marker": {
             "line": {
              "color": "#E5ECF6",
              "width": 0.5
             }
            },
            "type": "bar"
           }
          ],
          "barpolar": [
           {
            "marker": {
             "line": {
              "color": "#E5ECF6",
              "width": 0.5
             }
            },
            "type": "barpolar"
           }
          ],
          "carpet": [
           {
            "aaxis": {
             "endlinecolor": "#2a3f5f",
             "gridcolor": "white",
             "linecolor": "white",
             "minorgridcolor": "white",
             "startlinecolor": "#2a3f5f"
            },
            "baxis": {
             "endlinecolor": "#2a3f5f",
             "gridcolor": "white",
             "linecolor": "white",
             "minorgridcolor": "white",
             "startlinecolor": "#2a3f5f"
            },
            "type": "carpet"
           }
          ],
          "choropleth": [
           {
            "colorbar": {
             "outlinewidth": 0,
             "ticks": ""
            },
            "type": "choropleth"
           }
          ],
          "contour": [
           {
            "colorbar": {
             "outlinewidth": 0,
             "ticks": ""
            },
            "colorscale": [
             [
              0.0,
              "#0d0887"
             ],
             [
              0.1111111111111111,
              "#46039f"
             ],
             [
              0.2222222222222222,
              "#7201a8"
             ],
             [
              0.3333333333333333,
              "#9c179e"
             ],
             [
              0.4444444444444444,
              "#bd3786"
             ],
             [
              0.5555555555555556,
              "#d8576b"
             ],
             [
              0.6666666666666666,
              "#ed7953"
             ],
             [
              0.7777777777777778,
              "#fb9f3a"
             ],
             [
              0.8888888888888888,
              "#fdca26"
             ],
             [
              1.0,
              "#f0f921"
             ]
            ],
            "type": "contour"
           }
          ],
          "contourcarpet": [
           {
            "colorbar": {
             "outlinewidth": 0,
             "ticks": ""
            },
            "type": "contourcarpet"
           }
          ],
          "heatmap": [
           {
            "colorbar": {
             "outlinewidth": 0,
             "ticks": ""
            },
            "colorscale": [
             [
              0.0,
              "#0d0887"
             ],
             [
              0.1111111111111111,
              "#46039f"
             ],
             [
              0.2222222222222222,
              "#7201a8"
             ],
             [
              0.3333333333333333,
              "#9c179e"
             ],
             [
              0.4444444444444444,
              "#bd3786"
             ],
             [
              0.5555555555555556,
              "#d8576b"
             ],
             [
              0.6666666666666666,
              "#ed7953"
             ],
             [
              0.7777777777777778,
              "#fb9f3a"
             ],
             [
              0.8888888888888888,
              "#fdca26"
             ],
             [
              1.0,
              "#f0f921"
             ]
            ],
            "type": "heatmap"
           }
          ],
          "heatmapgl": [
           {
            "colorbar": {
             "outlinewidth": 0,
             "ticks": ""
            },
            "colorscale": [
             [
              0.0,
              "#0d0887"
             ],
             [
              0.1111111111111111,
              "#46039f"
             ],
             [
              0.2222222222222222,
              "#7201a8"
             ],
             [
              0.3333333333333333,
              "#9c179e"
             ],
             [
              0.4444444444444444,
              "#bd3786"
             ],
             [
              0.5555555555555556,
              "#d8576b"
             ],
             [
              0.6666666666666666,
              "#ed7953"
             ],
             [
              0.7777777777777778,
              "#fb9f3a"
             ],
             [
              0.8888888888888888,
              "#fdca26"
             ],
             [
              1.0,
              "#f0f921"
             ]
            ],
            "type": "heatmapgl"
           }
          ],
          "histogram": [
           {
            "marker": {
             "colorbar": {
              "outlinewidth": 0,
              "ticks": ""
             }
            },
            "type": "histogram"
           }
          ],
          "histogram2d": [
           {
            "colorbar": {
             "outlinewidth": 0,
             "ticks": ""
            },
            "colorscale": [
             [
              0.0,
              "#0d0887"
             ],
             [
              0.1111111111111111,
              "#46039f"
             ],
             [
              0.2222222222222222,
              "#7201a8"
             ],
             [
              0.3333333333333333,
              "#9c179e"
             ],
             [
              0.4444444444444444,
              "#bd3786"
             ],
             [
              0.5555555555555556,
              "#d8576b"
             ],
             [
              0.6666666666666666,
              "#ed7953"
             ],
             [
              0.7777777777777778,
              "#fb9f3a"
             ],
             [
              0.8888888888888888,
              "#fdca26"
             ],
             [
              1.0,
              "#f0f921"
             ]
            ],
            "type": "histogram2d"
           }
          ],
          "histogram2dcontour": [
           {
            "colorbar": {
             "outlinewidth": 0,
             "ticks": ""
            },
            "colorscale": [
             [
              0.0,
              "#0d0887"
             ],
             [
              0.1111111111111111,
              "#46039f"
             ],
             [
              0.2222222222222222,
              "#7201a8"
             ],
             [
              0.3333333333333333,
              "#9c179e"
             ],
             [
              0.4444444444444444,
              "#bd3786"
             ],
             [
              0.5555555555555556,
              "#d8576b"
             ],
             [
              0.6666666666666666,
              "#ed7953"
             ],
             [
              0.7777777777777778,
              "#fb9f3a"
             ],
             [
              0.8888888888888888,
              "#fdca26"
             ],
             [
              1.0,
              "#f0f921"
             ]
            ],
            "type": "histogram2dcontour"
           }
          ],
          "mesh3d": [
           {
            "colorbar": {
             "outlinewidth": 0,
             "ticks": ""
            },
            "type": "mesh3d"
           }
          ],
          "parcoords": [
           {
            "line": {
             "colorbar": {
              "outlinewidth": 0,
              "ticks": ""
             }
            },
            "type": "parcoords"
           }
          ],
          "pie": [
           {
            "automargin": true,
            "type": "pie"
           }
          ],
          "scatter": [
           {
            "marker": {
             "colorbar": {
              "outlinewidth": 0,
              "ticks": ""
             }
            },
            "type": "scatter"
           }
          ],
          "scatter3d": [
           {
            "line": {
             "colorbar": {
              "outlinewidth": 0,
              "ticks": ""
             }
            },
            "marker": {
             "colorbar": {
              "outlinewidth": 0,
              "ticks": ""
             }
            },
            "type": "scatter3d"
           }
          ],
          "scattercarpet": [
           {
            "marker": {
             "colorbar": {
              "outlinewidth": 0,
              "ticks": ""
             }
            },
            "type": "scattercarpet"
           }
          ],
          "scattergeo": [
           {
            "marker": {
             "colorbar": {
              "outlinewidth": 0,
              "ticks": ""
             }
            },
            "type": "scattergeo"
           }
          ],
          "scattergl": [
           {
            "marker": {
             "colorbar": {
              "outlinewidth": 0,
              "ticks": ""
             }
            },
            "type": "scattergl"
           }
          ],
          "scattermapbox": [
           {
            "marker": {
             "colorbar": {
              "outlinewidth": 0,
              "ticks": ""
             }
            },
            "type": "scattermapbox"
           }
          ],
          "scatterpolar": [
           {
            "marker": {
             "colorbar": {
              "outlinewidth": 0,
              "ticks": ""
             }
            },
            "type": "scatterpolar"
           }
          ],
          "scatterpolargl": [
           {
            "marker": {
             "colorbar": {
              "outlinewidth": 0,
              "ticks": ""
             }
            },
            "type": "scatterpolargl"
           }
          ],
          "scatterternary": [
           {
            "marker": {
             "colorbar": {
              "outlinewidth": 0,
              "ticks": ""
             }
            },
            "type": "scatterternary"
           }
          ],
          "surface": [
           {
            "colorbar": {
             "outlinewidth": 0,
             "ticks": ""
            },
            "colorscale": [
             [
              0.0,
              "#0d0887"
             ],
             [
              0.1111111111111111,
              "#46039f"
             ],
             [
              0.2222222222222222,
              "#7201a8"
             ],
             [
              0.3333333333333333,
              "#9c179e"
             ],
             [
              0.4444444444444444,
              "#bd3786"
             ],
             [
              0.5555555555555556,
              "#d8576b"
             ],
             [
              0.6666666666666666,
              "#ed7953"
             ],
             [
              0.7777777777777778,
              "#fb9f3a"
             ],
             [
              0.8888888888888888,
              "#fdca26"
             ],
             [
              1.0,
              "#f0f921"
             ]
            ],
            "type": "surface"
           }
          ],
          "table": [
           {
            "cells": {
             "fill": {
              "color": "#EBF0F8"
             },
             "line": {
              "color": "white"
             }
            },
            "header": {
             "fill": {
              "color": "#C8D4E3"
             },
             "line": {
              "color": "white"
             }
            },
            "type": "table"
           }
          ]
         },
         "layout": {
          "annotationdefaults": {
           "arrowcolor": "#2a3f5f",
           "arrowhead": 0,
           "arrowwidth": 1
          },
          "autotypenumbers": "strict",
          "coloraxis": {
           "colorbar": {
            "outlinewidth": 0,
            "ticks": ""
           }
          },
          "colorscale": {
           "diverging": [
            [
             0,
             "#8e0152"
            ],
            [
             0.1,
             "#c51b7d"
            ],
            [
             0.2,
             "#de77ae"
            ],
            [
             0.3,
             "#f1b6da"
            ],
            [
             0.4,
             "#fde0ef"
            ],
            [
             0.5,
             "#f7f7f7"
            ],
            [
             0.6,
             "#e6f5d0"
            ],
            [
             0.7,
             "#b8e186"
            ],
            [
             0.8,
             "#7fbc41"
            ],
            [
             0.9,
             "#4d9221"
            ],
            [
             1,
             "#276419"
            ]
           ],
           "sequential": [
            [
             0.0,
             "#0d0887"
            ],
            [
             0.1111111111111111,
             "#46039f"
            ],
            [
             0.2222222222222222,
             "#7201a8"
            ],
            [
             0.3333333333333333,
             "#9c179e"
            ],
            [
             0.4444444444444444,
             "#bd3786"
            ],
            [
             0.5555555555555556,
             "#d8576b"
            ],
            [
             0.6666666666666666,
             "#ed7953"
            ],
            [
             0.7777777777777778,
             "#fb9f3a"
            ],
            [
             0.8888888888888888,
             "#fdca26"
            ],
            [
             1.0,
             "#f0f921"
            ]
           ],
           "sequentialminus": [
            [
             0.0,
             "#0d0887"
            ],
            [
             0.1111111111111111,
             "#46039f"
            ],
            [
             0.2222222222222222,
             "#7201a8"
            ],
            [
             0.3333333333333333,
             "#9c179e"
            ],
            [
             0.4444444444444444,
             "#bd3786"
            ],
            [
             0.5555555555555556,
             "#d8576b"
            ],
            [
             0.6666666666666666,
             "#ed7953"
            ],
            [
             0.7777777777777778,
             "#fb9f3a"
            ],
            [
             0.8888888888888888,
             "#fdca26"
            ],
            [
             1.0,
             "#f0f921"
            ]
           ]
          },
          "colorway": [
           "#636efa",
           "#EF553B",
           "#00cc96",
           "#ab63fa",
           "#FFA15A",
           "#19d3f3",
           "#FF6692",
           "#B6E880",
           "#FF97FF",
           "#FECB52"
          ],
          "font": {
           "color": "#2a3f5f"
          },
          "geo": {
           "bgcolor": "white",
           "lakecolor": "white",
           "landcolor": "#E5ECF6",
           "showlakes": true,
           "showland": true,
           "subunitcolor": "white"
          },
          "hoverlabel": {
           "align": "left"
          },
          "hovermode": "closest",
          "mapbox": {
           "style": "light"
          },
          "paper_bgcolor": "white",
          "plot_bgcolor": "#E5ECF6",
          "polar": {
           "angularaxis": {
            "gridcolor": "white",
            "linecolor": "white",
            "ticks": ""
           },
           "bgcolor": "#E5ECF6",
           "radialaxis": {
            "gridcolor": "white",
            "linecolor": "white",
            "ticks": ""
           }
          },
          "scene": {
           "xaxis": {
            "backgroundcolor": "#E5ECF6",
            "gridcolor": "white",
            "gridwidth": 2,
            "linecolor": "white",
            "showbackground": true,
            "ticks": "",
            "zerolinecolor": "white"
           },
           "yaxis": {
            "backgroundcolor": "#E5ECF6",
            "gridcolor": "white",
            "gridwidth": 2,
            "linecolor": "white",
            "showbackground": true,
            "ticks": "",
            "zerolinecolor": "white"
           },
           "zaxis": {
            "backgroundcolor": "#E5ECF6",
            "gridcolor": "white",
            "gridwidth": 2,
            "linecolor": "white",
            "showbackground": true,
            "ticks": "",
            "zerolinecolor": "white"
           }
          },
          "shapedefaults": {
           "line": {
            "color": "#2a3f5f"
           }
          },
          "ternary": {
           "aaxis": {
            "gridcolor": "white",
            "linecolor": "white",
            "ticks": ""
           },
           "baxis": {
            "gridcolor": "white",
            "linecolor": "white",
            "ticks": ""
           },
           "bgcolor": "#E5ECF6",
           "caxis": {
            "gridcolor": "white",
            "linecolor": "white",
            "ticks": ""
           }
          },
          "title": {
           "x": 0.05
          },
          "xaxis": {
           "automargin": true,
           "gridcolor": "white",
           "linecolor": "white",
           "ticks": "",
           "title": {
            "standoff": 15
           },
           "zerolinecolor": "white",
           "zerolinewidth": 2
          },
          "yaxis": {
           "automargin": true,
           "gridcolor": "white",
           "linecolor": "white",
           "ticks": "",
           "title": {
            "standoff": 15
           },
           "zerolinecolor": "white",
           "zerolinewidth": 2
          }
         }
        },
        "title": {
         "text": "Complain distribution in marketing attrition "
        }
       }
      },
      "text/html": [
       "<div>                            <div id=\"bc2d5f8f-21d4-47b6-be3e-a6af7b88b507\" class=\"plotly-graph-div\" style=\"height:525px; width:100%;\"></div>            <script type=\"text/javascript\">                require([\"plotly\"], function(Plotly) {                    window.PLOTLYENV=window.PLOTLYENV || {};                                    if (document.getElementById(\"bc2d5f8f-21d4-47b6-be3e-a6af7b88b507\")) {                    Plotly.newPlot(                        \"bc2d5f8f-21d4-47b6-be3e-a6af7b88b507\",                        [{\"domain\": {\"x\": [0, 0.48]}, \"hole\": 0.6, \"hoverinfo\": \"label+percent+name\", \"labels\": [0, 1], \"marker\": {\"line\": {\"color\": \"rgb(243,243,243)\", \"width\": 2}}, \"name\": \"Target Marketing\", \"type\": \"pie\", \"values\": [331, 3]}, {\"domain\": {\"x\": [0.52, 1]}, \"hole\": 0.6, \"hoverinfo\": \"label+percent+name\", \"labels\": [0, 1], \"marker\": {\"line\": {\"color\": \"rgb(243,243,243)\", \"width\": 2}}, \"name\": \"Non Target Marketing\", \"type\": \"pie\", \"values\": [1888, 18]}],                        {\"annotations\": [{\"font\": {\"size\": 14}, \"showarrow\": false, \"text\": \"Target Marketing\", \"x\": 0.2, \"y\": 0.5}, {\"font\": {\"size\": 14}, \"showarrow\": false, \"text\": \"Non Target Marketing\", \"x\": 0.83, \"y\": 0.4}], \"paper_bgcolor\": \"rgb(243,243,243)\", \"plot_bgcolor\": \"rgb(243,243,243)\", \"template\": {\"data\": {\"bar\": [{\"error_x\": {\"color\": \"#2a3f5f\"}, \"error_y\": {\"color\": \"#2a3f5f\"}, \"marker\": {\"line\": {\"color\": \"#E5ECF6\", \"width\": 0.5}}, \"type\": \"bar\"}], \"barpolar\": [{\"marker\": {\"line\": {\"color\": \"#E5ECF6\", \"width\": 0.5}}, \"type\": \"barpolar\"}], \"carpet\": [{\"aaxis\": {\"endlinecolor\": \"#2a3f5f\", \"gridcolor\": \"white\", \"linecolor\": \"white\", \"minorgridcolor\": \"white\", \"startlinecolor\": \"#2a3f5f\"}, \"baxis\": {\"endlinecolor\": \"#2a3f5f\", \"gridcolor\": \"white\", \"linecolor\": \"white\", \"minorgridcolor\": \"white\", \"startlinecolor\": \"#2a3f5f\"}, \"type\": \"carpet\"}], \"choropleth\": [{\"colorbar\": {\"outlinewidth\": 0, \"ticks\": \"\"}, \"type\": \"choropleth\"}], \"contour\": [{\"colorbar\": {\"outlinewidth\": 0, \"ticks\": \"\"}, \"colorscale\": [[0.0, \"#0d0887\"], [0.1111111111111111, \"#46039f\"], [0.2222222222222222, \"#7201a8\"], [0.3333333333333333, \"#9c179e\"], [0.4444444444444444, \"#bd3786\"], [0.5555555555555556, \"#d8576b\"], [0.6666666666666666, \"#ed7953\"], [0.7777777777777778, \"#fb9f3a\"], [0.8888888888888888, \"#fdca26\"], [1.0, \"#f0f921\"]], \"type\": \"contour\"}], \"contourcarpet\": [{\"colorbar\": {\"outlinewidth\": 0, \"ticks\": \"\"}, \"type\": \"contourcarpet\"}], \"heatmap\": [{\"colorbar\": {\"outlinewidth\": 0, \"ticks\": \"\"}, \"colorscale\": [[0.0, \"#0d0887\"], [0.1111111111111111, \"#46039f\"], [0.2222222222222222, \"#7201a8\"], [0.3333333333333333, \"#9c179e\"], [0.4444444444444444, \"#bd3786\"], [0.5555555555555556, \"#d8576b\"], [0.6666666666666666, \"#ed7953\"], [0.7777777777777778, \"#fb9f3a\"], [0.8888888888888888, \"#fdca26\"], [1.0, \"#f0f921\"]], \"type\": \"heatmap\"}], \"heatmapgl\": [{\"colorbar\": {\"outlinewidth\": 0, \"ticks\": \"\"}, \"colorscale\": [[0.0, \"#0d0887\"], [0.1111111111111111, \"#46039f\"], [0.2222222222222222, \"#7201a8\"], [0.3333333333333333, \"#9c179e\"], [0.4444444444444444, \"#bd3786\"], [0.5555555555555556, \"#d8576b\"], [0.6666666666666666, \"#ed7953\"], [0.7777777777777778, \"#fb9f3a\"], [0.8888888888888888, \"#fdca26\"], [1.0, \"#f0f921\"]], \"type\": \"heatmapgl\"}], \"histogram\": [{\"marker\": {\"colorbar\": {\"outlinewidth\": 0, \"ticks\": \"\"}}, \"type\": \"histogram\"}], \"histogram2d\": [{\"colorbar\": {\"outlinewidth\": 0, \"ticks\": \"\"}, \"colorscale\": [[0.0, \"#0d0887\"], [0.1111111111111111, \"#46039f\"], [0.2222222222222222, \"#7201a8\"], [0.3333333333333333, \"#9c179e\"], [0.4444444444444444, \"#bd3786\"], [0.5555555555555556, \"#d8576b\"], [0.6666666666666666, \"#ed7953\"], [0.7777777777777778, \"#fb9f3a\"], [0.8888888888888888, \"#fdca26\"], [1.0, \"#f0f921\"]], \"type\": \"histogram2d\"}], \"histogram2dcontour\": [{\"colorbar\": {\"outlinewidth\": 0, \"ticks\": \"\"}, \"colorscale\": [[0.0, \"#0d0887\"], [0.1111111111111111, \"#46039f\"], [0.2222222222222222, \"#7201a8\"], [0.3333333333333333, \"#9c179e\"], [0.4444444444444444, \"#bd3786\"], [0.5555555555555556, \"#d8576b\"], [0.6666666666666666, \"#ed7953\"], [0.7777777777777778, \"#fb9f3a\"], [0.8888888888888888, \"#fdca26\"], [1.0, \"#f0f921\"]], \"type\": \"histogram2dcontour\"}], \"mesh3d\": [{\"colorbar\": {\"outlinewidth\": 0, \"ticks\": \"\"}, \"type\": \"mesh3d\"}], \"parcoords\": [{\"line\": {\"colorbar\": {\"outlinewidth\": 0, \"ticks\": \"\"}}, \"type\": \"parcoords\"}], \"pie\": [{\"automargin\": true, \"type\": \"pie\"}], \"scatter\": [{\"marker\": {\"colorbar\": {\"outlinewidth\": 0, \"ticks\": \"\"}}, \"type\": \"scatter\"}], \"scatter3d\": [{\"line\": {\"colorbar\": {\"outlinewidth\": 0, \"ticks\": \"\"}}, \"marker\": {\"colorbar\": {\"outlinewidth\": 0, \"ticks\": \"\"}}, \"type\": \"scatter3d\"}], \"scattercarpet\": [{\"marker\": {\"colorbar\": {\"outlinewidth\": 0, \"ticks\": \"\"}}, \"type\": \"scattercarpet\"}], \"scattergeo\": [{\"marker\": {\"colorbar\": {\"outlinewidth\": 0, \"ticks\": \"\"}}, \"type\": \"scattergeo\"}], \"scattergl\": [{\"marker\": {\"colorbar\": {\"outlinewidth\": 0, \"ticks\": \"\"}}, \"type\": \"scattergl\"}], \"scattermapbox\": [{\"marker\": {\"colorbar\": {\"outlinewidth\": 0, \"ticks\": \"\"}}, \"type\": \"scattermapbox\"}], \"scatterpolar\": [{\"marker\": {\"colorbar\": {\"outlinewidth\": 0, \"ticks\": \"\"}}, \"type\": \"scatterpolar\"}], \"scatterpolargl\": [{\"marker\": {\"colorbar\": {\"outlinewidth\": 0, \"ticks\": \"\"}}, \"type\": \"scatterpolargl\"}], \"scatterternary\": [{\"marker\": {\"colorbar\": {\"outlinewidth\": 0, \"ticks\": \"\"}}, \"type\": \"scatterternary\"}], \"surface\": [{\"colorbar\": {\"outlinewidth\": 0, \"ticks\": \"\"}, \"colorscale\": [[0.0, \"#0d0887\"], [0.1111111111111111, \"#46039f\"], [0.2222222222222222, \"#7201a8\"], [0.3333333333333333, \"#9c179e\"], [0.4444444444444444, \"#bd3786\"], [0.5555555555555556, \"#d8576b\"], [0.6666666666666666, \"#ed7953\"], [0.7777777777777778, \"#fb9f3a\"], [0.8888888888888888, \"#fdca26\"], [1.0, \"#f0f921\"]], \"type\": \"surface\"}], \"table\": [{\"cells\": {\"fill\": {\"color\": \"#EBF0F8\"}, \"line\": {\"color\": \"white\"}}, \"header\": {\"fill\": {\"color\": \"#C8D4E3\"}, \"line\": {\"color\": \"white\"}}, \"type\": \"table\"}]}, \"layout\": {\"annotationdefaults\": {\"arrowcolor\": \"#2a3f5f\", \"arrowhead\": 0, \"arrowwidth\": 1}, \"autotypenumbers\": \"strict\", \"coloraxis\": {\"colorbar\": {\"outlinewidth\": 0, \"ticks\": \"\"}}, \"colorscale\": {\"diverging\": [[0, \"#8e0152\"], [0.1, \"#c51b7d\"], [0.2, \"#de77ae\"], [0.3, \"#f1b6da\"], [0.4, \"#fde0ef\"], [0.5, \"#f7f7f7\"], [0.6, \"#e6f5d0\"], [0.7, \"#b8e186\"], [0.8, \"#7fbc41\"], [0.9, \"#4d9221\"], [1, \"#276419\"]], \"sequential\": [[0.0, \"#0d0887\"], [0.1111111111111111, \"#46039f\"], [0.2222222222222222, \"#7201a8\"], [0.3333333333333333, \"#9c179e\"], [0.4444444444444444, \"#bd3786\"], [0.5555555555555556, \"#d8576b\"], [0.6666666666666666, \"#ed7953\"], [0.7777777777777778, \"#fb9f3a\"], [0.8888888888888888, \"#fdca26\"], [1.0, \"#f0f921\"]], \"sequentialminus\": [[0.0, \"#0d0887\"], [0.1111111111111111, \"#46039f\"], [0.2222222222222222, \"#7201a8\"], [0.3333333333333333, \"#9c179e\"], [0.4444444444444444, \"#bd3786\"], [0.5555555555555556, \"#d8576b\"], [0.6666666666666666, \"#ed7953\"], [0.7777777777777778, \"#fb9f3a\"], [0.8888888888888888, \"#fdca26\"], [1.0, \"#f0f921\"]]}, \"colorway\": [\"#636efa\", \"#EF553B\", \"#00cc96\", \"#ab63fa\", \"#FFA15A\", \"#19d3f3\", \"#FF6692\", \"#B6E880\", \"#FF97FF\", \"#FECB52\"], \"font\": {\"color\": \"#2a3f5f\"}, \"geo\": {\"bgcolor\": \"white\", \"lakecolor\": \"white\", \"landcolor\": \"#E5ECF6\", \"showlakes\": true, \"showland\": true, \"subunitcolor\": \"white\"}, \"hoverlabel\": {\"align\": \"left\"}, \"hovermode\": \"closest\", \"mapbox\": {\"style\": \"light\"}, \"paper_bgcolor\": \"white\", \"plot_bgcolor\": \"#E5ECF6\", \"polar\": {\"angularaxis\": {\"gridcolor\": \"white\", \"linecolor\": \"white\", \"ticks\": \"\"}, \"bgcolor\": \"#E5ECF6\", \"radialaxis\": {\"gridcolor\": \"white\", \"linecolor\": \"white\", \"ticks\": \"\"}}, \"scene\": {\"xaxis\": {\"backgroundcolor\": \"#E5ECF6\", \"gridcolor\": \"white\", \"gridwidth\": 2, \"linecolor\": \"white\", \"showbackground\": true, \"ticks\": \"\", \"zerolinecolor\": \"white\"}, \"yaxis\": {\"backgroundcolor\": \"#E5ECF6\", \"gridcolor\": \"white\", \"gridwidth\": 2, \"linecolor\": \"white\", \"showbackground\": true, \"ticks\": \"\", \"zerolinecolor\": \"white\"}, \"zaxis\": {\"backgroundcolor\": \"#E5ECF6\", \"gridcolor\": \"white\", \"gridwidth\": 2, \"linecolor\": \"white\", \"showbackground\": true, \"ticks\": \"\", \"zerolinecolor\": \"white\"}}, \"shapedefaults\": {\"line\": {\"color\": \"#2a3f5f\"}}, \"ternary\": {\"aaxis\": {\"gridcolor\": \"white\", \"linecolor\": \"white\", \"ticks\": \"\"}, \"baxis\": {\"gridcolor\": \"white\", \"linecolor\": \"white\", \"ticks\": \"\"}, \"bgcolor\": \"#E5ECF6\", \"caxis\": {\"gridcolor\": \"white\", \"linecolor\": \"white\", \"ticks\": \"\"}}, \"title\": {\"x\": 0.05}, \"xaxis\": {\"automargin\": true, \"gridcolor\": \"white\", \"linecolor\": \"white\", \"ticks\": \"\", \"title\": {\"standoff\": 15}, \"zerolinecolor\": \"white\", \"zerolinewidth\": 2}, \"yaxis\": {\"automargin\": true, \"gridcolor\": \"white\", \"linecolor\": \"white\", \"ticks\": \"\", \"title\": {\"standoff\": 15}, \"zerolinecolor\": \"white\", \"zerolinewidth\": 2}}}, \"title\": {\"text\": \"Complain distribution in marketing attrition \"}},                        {\"responsive\": true}                    ).then(function(){\n",
       "                            \n",
       "var gd = document.getElementById('bc2d5f8f-21d4-47b6-be3e-a6af7b88b507');\n",
       "var x = new MutationObserver(function (mutations, observer) {{\n",
       "        var display = window.getComputedStyle(gd).display;\n",
       "        if (!display || display === 'none') {{\n",
       "            console.log([gd, 'removed!']);\n",
       "            Plotly.purge(gd);\n",
       "            observer.disconnect();\n",
       "        }}\n",
       "}});\n",
       "\n",
       "// Listen for the removal of the full notebook cells\n",
       "var notebookContainer = gd.closest('#notebook-container');\n",
       "if (notebookContainer) {{\n",
       "    x.observe(notebookContainer, {childList: true});\n",
       "}}\n",
       "\n",
       "// Listen for the clearing of the current output cell\n",
       "var outputEl = gd.closest('.output');\n",
       "if (outputEl) {{\n",
       "    x.observe(outputEl, {childList: true});\n",
       "}}\n",
       "\n",
       "                        })                };                });            </script>        </div>"
      ]
     },
     "metadata": {},
     "output_type": "display_data"
    }
   ],
   "source": [
    "plot_pie(cat_cols[8])"
   ]
  },
  {
   "cell_type": "markdown",
   "id": "micro-emergency",
   "metadata": {
    "papermill": {
     "duration": 0.06488,
     "end_time": "2021-06-01T20:49:55.883549",
     "exception": false,
     "start_time": "2021-06-01T20:49:55.818669",
     "status": "completed"
    },
    "tags": []
   },
   "source": [
    "# we want to use histogarm for analyzing the continuous variables¶"
   ]
  },
  {
   "cell_type": "code",
   "execution_count": 41,
   "id": "lesser-campaign",
   "metadata": {
    "execution": {
     "iopub.execute_input": "2021-06-01T20:49:56.018073Z",
     "iopub.status.busy": "2021-06-01T20:49:56.017404Z",
     "iopub.status.idle": "2021-06-01T20:49:56.023780Z",
     "shell.execute_reply": "2021-06-01T20:49:56.024245Z",
     "shell.execute_reply.started": "2021-06-01T20:16:18.908039Z"
    },
    "papermill": {
     "duration": 0.075922,
     "end_time": "2021-06-01T20:49:56.024407",
     "exception": false,
     "start_time": "2021-06-01T20:49:55.948485",
     "status": "completed"
    },
    "tags": []
   },
   "outputs": [],
   "source": [
    "def histogram(column):\n",
    "    df1=go.Histogram(x=target[column],\n",
    "                     name='Target Marketting',\n",
    "                     histnorm=\"percent\",\n",
    "                     marker=dict(line=dict(width=.3,\n",
    "                                           color='black'\n",
    "                                          \n",
    "                                        )\n",
    "                                ),\n",
    "                     \n",
    "                    opacity=.8\n",
    "                    )\n",
    "    \n",
    "    \n",
    "    df2=go.Histogram(x=non_target[column],\n",
    "                    name='Non Target Marketting',\n",
    "                    histnorm='percent',\n",
    "                    marker=dict(line=dict(width=.3,color='black'\n",
    "                                          \n",
    "                                          )\n",
    "                                ),\n",
    "                     opacity=.8\n",
    "                    )\n",
    "    \n",
    "    data=[df1,df2]\n",
    "    \n",
    "    layout=go.Layout(dict(title=column+\"Distribution in costumer attrition\",\n",
    "                          plot_bgcolor=\"rgb(243,243,243)\",\n",
    "                          paper_bgcolor=\"rgb(243,243,243)\",\n",
    "                          xaxis=dict(gridcolor=\"rgb(255,255,255)\",\n",
    "                                     title=column,\n",
    "                                     zerolinewidth=1,\n",
    "                                     ticklen=5,\n",
    "                                     gridwidth=2\n",
    "                                    ),\n",
    "                          yaxis=dict(gridcolor=\"rgb(255,255,255)\",\n",
    "                                     title=\"percent\",\n",
    "                                     zerolinewidth=1,\n",
    "                                     ticklen=5,\n",
    "                                     gridwidth=2\n",
    "                                    \n",
    "                                    ),\n",
    "                         )\n",
    "                    )\n",
    "    fig=go.Figure(data=data,layout=layout)\n",
    "    py.iplot(fig)\n",
    " "
   ]
  },
  {
   "cell_type": "code",
   "execution_count": 42,
   "id": "express-wages",
   "metadata": {
    "execution": {
     "iopub.execute_input": "2021-06-01T20:49:56.160046Z",
     "iopub.status.busy": "2021-06-01T20:49:56.159383Z",
     "iopub.status.idle": "2021-06-01T20:49:56.223500Z",
     "shell.execute_reply": "2021-06-01T20:49:56.223955Z",
     "shell.execute_reply.started": "2021-06-01T20:16:18.919328Z"
    },
    "papermill": {
     "duration": 0.133408,
     "end_time": "2021-06-01T20:49:56.224110",
     "exception": false,
     "start_time": "2021-06-01T20:49:56.090702",
     "status": "completed"
    },
    "tags": []
   },
   "outputs": [
    {
     "data": {
      "application/vnd.plotly.v1+json": {
       "config": {
        "linkText": "Export to plot.ly",
        "plotlyServerURL": "https://plot.ly",
        "showLink": false
       },
       "data": [
        {
         "histnorm": "percent",
         "marker": {
          "line": {
           "color": "black",
           "width": 0.3
          }
         },
         "name": "Target Marketting",
         "opacity": 0.8,
         "type": "histogram",
         "x": [
          84835.0,
          57091.0,
          21474.0,
          71691.0,
          63564.0,
          67786.0,
          54809.0,
          46374.0,
          95169.0,
          84865.0,
          21359.0,
          81698.0,
          25959.0,
          64260.0,
          72967.0,
          14796.0,
          90369.0,
          47139.0,
          60597.0,
          53367.0,
          34728.0,
          38578.0,
          79174.0,
          27242.0,
          34213.0,
          72335.0,
          50388.0,
          71604.0,
          47570.0,
          54998.0,
          63211.0,
          48432.0,
          48432.0,
          62845.0,
          65220.0,
          96547.0,
          45203.0,
          65104.0,
          81698.0,
          74004.0,
          21355.0,
          102692.0,
          18890.0,
          49912.0,
          49912.0,
          85683.0,
          70321.0,
          55424.0,
          83528.0,
          42586.0,
          42586.0,
          9722.0,
          86836.0,
          19444.0,
          72968.0,
          73687.0,
          64090.0,
          71670.0,
          34600.0,
          34600.0,
          48752.0,
          46610.0,
          45576.0,
          37126.0,
          84169.0,
          84169.0,
          39763.0,
          42720.0,
          43776.0,
          56046.0,
          16653.0,
          86429.0,
          33569.0,
          50501.0,
          69372.0,
          35178.0,
          35178.0,
          75693.0,
          69109.0,
          69109.0,
          64713.0,
          55521.0,
          43795.0,
          46049.0,
          35641.0,
          29435.0,
          78499.0,
          70515.0,
          17459.0,
          75777.0,
          75777.0,
          31626.0,
          83917.0,
          41021.0,
          79456.0,
          78789.0,
          32557.0,
          27190.0,
          36145.0,
          78394.0,
          60208.0,
          78687.0,
          78569.0,
          20981.0,
          36790.0,
          83145.0,
          76412.0,
          21888.0,
          25509.0,
          25509.0,
          33051.0,
          36781.0,
          93790.0,
          24762.0,
          75345.0,
          36715.0,
          80763.0,
          60585.0,
          75261.0,
          81300.0,
          64497.0,
          81361.0,
          37406.0,
          57136.0,
          83003.0,
          88194.0,
          76982.0,
          64509.0,
          30351.0,
          87305.0,
          27213.0,
          7500.0,
          38513.0,
          80952.0,
          44051.0,
          80141.0,
          74538.0,
          38808.0,
          30396.0,
          65169.0,
          22585.0,
          42000.0,
          42000.0,
          82800.0,
          82800.0,
          31353.0,
          36262.0,
          52278.0,
          7500.0,
          88097.0,
          80589.0,
          56337.0,
          92163.0,
          42160.0,
          82584.0,
          32233.0,
          90247.0,
          32218.0,
          61996.0,
          82733.0,
          42564.0,
          70971.0,
          37774.0,
          90638.0,
          95529.0,
          22979.0,
          82326.0,
          77520.0,
          22669.0,
          69867.0,
          70287.0,
          37070.0,
          37070.0,
          83512.0,
          42162.0,
          69267.0,
          68281.0,
          90273.0,
          40887.0,
          26518.0,
          91065.0,
          75251.0,
          53374.0,
          87195.0,
          92955.0,
          56534.0,
          78579.0,
          78825.0,
          25545.0,
          49667.0,
          89616.0,
          105471.0,
          78427.0,
          22518.0,
          39660.0,
          35860.0,
          35860.0,
          79607.0,
          69759.0,
          82347.0,
          78028.0,
          51569.0,
          62972.0,
          73892.0,
          80134.0,
          80134.0,
          68126.0,
          52869.0,
          26576.0,
          75825.0,
          39684.0,
          53378.0,
          63998.0,
          64849.0,
          81205.0,
          36957.0,
          89572.0,
          57107.0,
          76467.0,
          72025.0,
          75759.0,
          36130.0,
          19514.0,
          91712.0,
          23957.0,
          34596.0,
          63342.0,
          82014.0,
          37929.0,
          30983.0,
          15345.0,
          40442.0,
          48948.0,
          48948.0,
          63120.0,
          55517.0,
          36864.0,
          82582.0,
          28647.0,
          39552.0,
          102160.0,
          72066.0,
          54959.0,
          82384.0,
          57333.0,
          62220.0,
          73356.0,
          60714.0,
          31385.0,
          83257.0,
          42014.0,
          42014.0,
          91700.0,
          79244.0,
          82017.0,
          58138.0,
          96843.0,
          82333.0,
          72643.0,
          15287.0,
          15287.0,
          81929.0,
          87771.0,
          87771.0,
          73803.0,
          87679.0,
          94384.0,
          94384.0,
          54356.0,
          69969.0,
          72309.0,
          27038.0,
          79800.0,
          38410.0,
          70643.0,
          86979.0,
          39858.0,
          85620.0,
          35196.0,
          101970.0,
          72282.0,
          38097.0,
          64140.0,
          92491.0,
          42207.0,
          14515.0,
          55158.0,
          87188.0,
          84953.0,
          77632.0,
          48240.0,
          79205.0,
          72903.0,
          null,
          25721.0,
          21645.0,
          82025.0,
          48192.0,
          23616.0,
          65706.0,
          83829.0,
          83829.0,
          96876.0,
          83837.0,
          75154.0,
          68117.0,
          83151.0,
          84460.0,
          46854.0,
          64504.0,
          67369.0,
          47175.0,
          56937.0,
          66334.0,
          57091.0,
          91249.0,
          46098.0,
          43300.0,
          85696.0,
          85696.0,
          82332.0,
          60896.0,
          49118.0,
          77870.0,
          91172.0,
          86037.0,
          59754.0,
          86857.0,
          86857.0,
          77766.0,
          77766.0,
          90687.0,
          50611.0,
          94871.0
         ]
        },
        {
         "histnorm": "percent",
         "marker": {
          "line": {
           "color": "black",
           "width": 0.3
          }
         },
         "name": "Non Target Marketting",
         "opacity": 0.8,
         "type": "histogram",
         "x": [
          67267.0,
          32474.0,
          44931.0,
          65324.0,
          65324.0,
          81044.0,
          62499.0,
          26872.0,
          4428.0,
          54809.0,
          32173.0,
          47823.0,
          30523.0,
          36634.0,
          43456.0,
          40662.0,
          49544.0,
          57731.0,
          33168.0,
          54450.0,
          54450.0,
          35340.0,
          73170.0,
          65808.0,
          79529.0,
          34578.0,
          18351.0,
          65370.0,
          39228.0,
          61314.0,
          66465.0,
          39146.0,
          32300.0,
          74806.0,
          48904.0,
          66991.0,
          52195.0,
          18393.0,
          38576.0,
          61905.0,
          83715.0,
          6560.0,
          48330.0,
          38236.0,
          22701.0,
          63915.0,
          82504.0,
          38578.0,
          81975.0,
          43263.0,
          76445.0,
          75276.0,
          79143.0,
          27469.0,
          68695.0,
          68695.0,
          77622.0,
          46102.0,
          31859.0,
          23830.0,
          24639.0,
          27255.0,
          55375.0,
          77037.0,
          24163.0,
          69476.0,
          72063.0,
          58646.0,
          58646.0,
          80011.0,
          60200.0,
          48432.0,
          62845.0,
          74214.0,
          53863.0,
          50447.0,
          37716.0,
          37368.0,
          67225.0,
          65104.0,
          70566.0,
          69096.0,
          71434.0,
          33039.0,
          33039.0,
          46610.0,
          49967.0,
          53359.0,
          49505.0,
          68657.0,
          72071.0,
          72071.0,
          59235.0,
          21994.0,
          21994.0,
          null,
          69209.0,
          31928.0,
          30390.0,
          26304.0,
          85710.0,
          58350.0,
          7500.0,
          20425.0,
          20425.0,
          41437.0,
          79823.0,
          47025.0,
          68397.0,
          38175.0,
          46423.0,
          46423.0,
          30560.0,
          30560.0,
          60152.0,
          29672.0,
          29672.0,
          56181.0,
          24279.0,
          68462.0,
          49094.0,
          59184.0,
          67430.0,
          30522.0,
          31878.0,
          90300.0,
          68092.0,
          53761.0,
          52845.0,
          24027.0,
          7500.0,
          30467.0,
          54549.0,
          69245.0,
          48686.0,
          82716.0,
          35523.0,
          60554.0,
          61559.0,
          67680.0,
          54386.0,
          64108.0,
          69702.0,
          47958.0,
          67716.0,
          15716.0,
          74985.0,
          113734.0,
          57100.0,
          24434.0,
          45160.0,
          33178.0,
          64866.0,
          34176.0,
          50014.0,
          92344.0,
          55282.0,
          48799.0,
          74165.0,
          65275.0,
          36443.0,
          65148.0,
          49431.0,
          32583.0,
          26850.0,
          51287.0,
          43050.0,
          73448.0,
          17256.0,
          25130.0,
          62998.0,
          26907.0,
          26907.0,
          45579.0,
          47320.0,
          70179.0,
          70179.0,
          28072.0,
          58917.0,
          80134.0,
          41411.0,
          null,
          22070.0,
          36408.0,
          34026.0,
          34026.0,
          32414.0,
          59821.0,
          34968.0,
          56320.0,
          70091.0,
          46097.0,
          41003.0,
          44911.0,
          33249.0,
          33249.0,
          42873.0,
          51039.0,
          78952.0,
          79865.0,
          34176.0,
          34176.0,
          65968.0,
          86424.0,
          67272.0,
          77044.0,
          80336.0,
          15759.0,
          26326.0,
          62061.0,
          5305.0,
          71499.0,
          42670.0,
          50870.0,
          35876.0,
          23539.0,
          62466.0,
          62466.0,
          54198.0,
          82170.0,
          61798.0,
          15253.0,
          78285.0,
          62535.0,
          48985.0,
          72940.0,
          157146.0,
          81843.0,
          41883.0,
          45759.0,
          45759.0,
          30279.0,
          30279.0,
          31880.0,
          37401.0,
          37401.0,
          75315.0,
          69263.0,
          57705.0,
          74805.0,
          66426.0,
          51529.0,
          18100.0,
          59601.0,
          74068.0,
          18793.0,
          27421.0,
          30675.0,
          34053.0,
          31788.0,
          45894.0,
          41986.0,
          42769.0,
          58582.0,
          49096.0,
          18929.0,
          18929.0,
          18929.0,
          41580.0,
          31605.0,
          28764.0,
          32146.0,
          22148.0,
          54197.0,
          30477.0,
          11448.0,
          70844.0,
          30828.0,
          62513.0,
          27733.0,
          39435.0,
          20491.0,
          71706.0,
          69063.0,
          24645.0,
          35797.0,
          44078.0,
          26954.0,
          null,
          38887.0,
          65463.0,
          53537.0,
          36230.0,
          49166.0,
          89891.0,
          72828.0,
          75278.0,
          38557.0,
          60161.0,
          69389.0,
          61014.0,
          44319.0,
          53233.0,
          77972.0,
          81361.0,
          25707.0,
          42403.0,
          65704.0,
          39767.0,
          54210.0,
          40794.0,
          89058.0,
          20193.0,
          72099.0,
          43824.0,
          66653.0,
          44359.0,
          79410.0,
          55842.0,
          79946.0,
          80184.0,
          65295.0,
          57100.0,
          29009.0,
          78931.0,
          7500.0,
          56939.0,
          30093.0,
          30351.0,
          38201.0,
          null,
          43974.0,
          38200.0,
          16860.0,
          4861.0,
          38196.0,
          41145.0,
          45688.0,
          77863.0,
          42169.0,
          45906.0,
          35388.0,
          39898.0,
          39898.0,
          86718.0,
          58597.0,
          70356.0,
          46904.0,
          37760.0,
          37760.0,
          61839.0,
          29791.0,
          48918.0,
          48918.0,
          58692.0,
          39356.0,
          76234.0,
          55434.0,
          66835.0,
          66835.0,
          71965.0,
          50002.0,
          53977.0,
          53977.0,
          69930.0,
          62981.0,
          46014.0,
          18227.0,
          65991.0,
          160803.0,
          43783.0,
          65526.0,
          65526.0,
          55956.0,
          55563.0,
          57236.0,
          89694.0,
          57420.0,
          33622.0,
          29999.0,
          31497.0,
          31497.0,
          36802.0,
          61671.0,
          60182.0,
          29732.0,
          45921.0,
          16529.0,
          98777.0,
          98777.0,
          77027.0,
          69139.0,
          69139.0,
          40049.0,
          69755.0,
          null,
          54456.0,
          666666.0,
          60689.0,
          26487.0,
          28164.0,
          64795.0,
          70713.0,
          30801.0,
          83891.0,
          38054.0,
          14045.0,
          44155.0,
          57642.0,
          31353.0,
          41335.0,
          41335.0,
          40737.0,
          19789.0,
          35946.0,
          44551.0,
          71367.0,
          71367.0,
          57957.0,
          50334.0,
          48150.0,
          56796.0,
          56796.0,
          52278.0,
          33444.0,
          20895.0,
          37509.0,
          59041.0,
          43322.0,
          46015.0,
          46015.0,
          34242.0,
          65210.0,
          50520.0,
          90765.0,
          49572.0,
          75437.0,
          44635.0,
          58512.0,
          62000.0,
          54252.0,
          45068.0,
          60474.0,
          60474.0,
          22434.0,
          61416.0,
          58656.0,
          null,
          8940.0,
          26751.0,
          71427.0,
          26646.0,
          19346.0,
          56243.0,
          59892.0,
          71613.0,
          25252.0,
          15862.0,
          38360.0,
          75283.0,
          34941.0,
          61823.0,
          90226.0,
          44989.0,
          44989.0,
          43586.0,
          62882.0,
          57288.0,
          75774.0,
          75774.0,
          84219.0,
          84219.0,
          48877.0,
          60905.0,
          75236.0,
          62551.0,
          70123.0,
          50785.0,
          15315.0,
          15315.0,
          64413.0,
          87171.0,
          30081.0,
          20180.0,
          20180.0,
          55686.0,
          26887.0,
          51537.0,
          72025.0,
          30538.0,
          61618.0,
          77343.0,
          75433.0,
          82571.0,
          60033.0,
          39062.0,
          30023.0,
          30015.0,
          33228.0,
          22574.0,
          22574.0,
          55267.0,
          66886.0,
          72258.0,
          45146.0,
          51250.0,
          32871.0,
          63855.0,
          46344.0,
          50437.0,
          4023.0,
          33279.0,
          42693.0,
          70545.0,
          65486.0,
          77882.0,
          78468.0,
          77226.0,
          90638.0,
          70666.0,
          59052.0,
          13084.0,
          49160.0,
          23272.0,
          49476.0,
          62694.0,
          57906.0,
          71853.0,
          71853.0,
          65031.0,
          30507.0,
          67419.0,
          59462.0,
          53653.0,
          25965.0,
          64950.0,
          44322.0,
          30096.0,
          30096.0,
          56628.0,
          71163.0,
          71022.0,
          42607.0,
          43057.0,
          47808.0,
          29236.0,
          40590.0,
          40590.0,
          40211.0,
          63516.0,
          53034.0,
          79908.0,
          38179.0,
          39922.0,
          39922.0,
          39922.0,
          64191.0,
          41658.0,
          40780.0,
          77568.0,
          66503.0,
          31686.0,
          71322.0,
          27938.0,
          22263.0,
          34633.0,
          162397.0,
          54162.0,
          41769.0,
          44953.0,
          37717.0,
          37717.0,
          40548.0,
          67893.0,
          9548.0,
          92556.0,
          48526.0,
          19414.0,
          79761.0,
          53312.0,
          41039.0,
          88347.0,
          50150.0,
          50150.0,
          10245.0,
          33454.0,
          55914.0,
          37292.0,
          52914.0,
          24884.0,
          67384.0,
          51651.0,
          82497.0,
          32632.0,
          33562.0,
          79146.0,
          79146.0,
          36143.0,
          27159.0,
          41275.0,
          76800.0,
          75794.0,
          30833.0,
          45183.0,
          48070.0,
          30372.0,
          30372.0,
          57036.0,
          66731.0,
          35682.0,
          10979.0,
          10979.0,
          57912.0,
          36026.0,
          35788.0,
          42243.0,
          46086.0,
          61346.0,
          33316.0,
          33316.0,
          21063.0,
          33697.0,
          25804.0,
          72117.0,
          61286.0,
          61286.0,
          65196.0,
          55635.0,
          42021.0,
          35322.0,
          42395.0,
          82427.0,
          44602.0,
          94642.0,
          28359.0,
          55801.0,
          69627.0,
          44964.0,
          30899.0,
          47111.0,
          66000.0,
          46910.0,
          25224.0,
          77382.0,
          28420.0,
          32952.0,
          46149.0,
          83532.0,
          73059.0,
          73059.0,
          35701.0,
          59809.0,
          52203.0,
          35860.0,
          35860.0,
          76842.0,
          15033.0,
          67353.0,
          17003.0,
          65735.0,
          45684.0,
          21918.0,
          51267.0,
          59868.0,
          51373.0,
          46692.0,
          157733.0,
          54432.0,
          51813.0,
          17487.0,
          40706.0,
          62859.0,
          61074.0,
          43638.0,
          58116.0,
          62187.0,
          46344.0,
          77353.0,
          21846.0,
          76532.0,
          70053.0,
          75342.0,
          27590.0,
          51148.0,
          33378.0,
          32644.0,
          33581.0,
          12393.0,
          42710.0,
          82347.0,
          22554.0,
          17323.0,
          62204.0,
          63887.0,
          32727.0,
          29103.0,
          61482.0,
          20587.0,
          20587.0,
          52190.0,
          48186.0,
          19329.0,
          34109.0,
          23477.0,
          47472.0,
          14849.0,
          26224.0,
          27238.0,
          null,
          57967.0,
          72550.0,
          44511.0,
          62972.0,
          77845.0,
          36663.0,
          53204.0,
          21059.0,
          67087.0,
          75114.0,
          42192.0,
          31454.0,
          22775.0,
          22775.0,
          31590.0,
          14188.0,
          18169.0,
          62503.0,
          46734.0,
          57045.0,
          34984.0,
          27803.0,
          69283.0,
          18746.0,
          70924.0,
          70924.0,
          69401.0,
          75012.0,
          85738.0,
          60934.0,
          27161.0,
          64325.0,
          18978.0,
          41124.0,
          37040.0,
          78710.0,
          92910.0,
          36283.0,
          79632.0,
          28587.0,
          88325.0,
          51412.0,
          38593.0,
          27889.0,
          45889.0,
          56575.0,
          16014.0,
          61331.0,
          70893.0,
          2447.0,
          42387.0,
          80617.0,
          54006.0,
          16531.0,
          30843.0,
          18988.0,
          81051.0,
          39747.0,
          34554.0,
          52854.0,
          69084.0,
          69084.0,
          65352.0,
          22063.0,
          47691.0,
          29187.0,
          72504.0,
          33986.0,
          42386.0,
          42386.0,
          13724.0,
          42664.0,
          37334.0,
          78497.0,
          78497.0,
          58821.0,
          58398.0,
          80950.0,
          30732.0,
          null,
          51315.0,
          43602.0,
          38643.0,
          49090.0,
          70617.0,
          67536.0,
          27573.0,
          13533.0,
          50725.0,
          25851.0,
          57113.0,
          62847.0,
          68627.0,
          25271.0,
          63810.0,
          63810.0,
          65488.0,
          36927.0,
          22108.0,
          33183.0,
          23661.0,
          25315.0,
          45938.0,
          66951.0,
          77298.0,
          77298.0,
          43018.0,
          33996.0,
          33996.0,
          54137.0,
          61223.0,
          69674.0,
          49494.0,
          51195.0,
          37284.0,
          37284.0,
          42011.0,
          70044.0,
          46053.0,
          24480.0,
          54233.0,
          56559.0,
          92859.0,
          44010.0,
          80124.0,
          80124.0,
          50183.0,
          64722.0,
          37395.0,
          29543.0,
          19514.0,
          59481.0,
          80144.0,
          59973.0,
          68352.0,
          81169.0,
          61456.0,
          22634.0,
          22634.0,
          33471.0,
          52157.0,
          30298.0,
          56551.0,
          56551.0,
          65487.0,
          65487.0,
          44213.0,
          40344.0,
          57867.0,
          25410.0,
          13260.0,
          42691.0,
          36138.0,
          57136.0,
          58275.0,
          54237.0,
          34596.0,
          74881.0,
          74881.0,
          44267.0,
          68487.0,
          68487.0,
          80982.0,
          69508.0,
          63342.0,
          76320.0,
          64587.0,
          74190.0,
          32765.0,
          null,
          22212.0,
          18358.0,
          26067.0,
          22390.0,
          70440.0,
          60199.0,
          38547.0,
          19107.0,
          16813.0,
          62187.0,
          57811.0,
          50943.0,
          50943.0,
          53201.0,
          54414.0,
          26290.0,
          61250.0,
          28389.0,
          55250.0,
          37758.0,
          37758.0,
          37633.0,
          33629.0,
          36947.0,
          69142.0,
          53154.0,
          65695.0,
          69805.0,
          36975.0,
          26228.0,
          37787.0,
          37087.0,
          57247.0,
          36930.0,
          48721.0,
          43641.0,
          75903.0,
          71391.0,
          16927.0,
          27215.0,
          53858.0,
          43462.0,
          63943.0,
          26816.0,
          75484.0,
          33564.0,
          54348.0,
          54984.0,
          34738.0,
          68118.0,
          68118.0,
          22682.0,
          51948.0,
          25293.0,
          25293.0,
          41551.0,
          56067.0,
          67433.0,
          22010.0,
          64831.0,
          62820.0,
          62820.0,
          78353.0,
          57183.0,
          23478.0,
          30168.0,
          37155.0,
          16581.0,
          41850.0,
          81380.0,
          56386.0,
          25818.0,
          57954.0,
          50300.0,
          38725.0,
          10404.0,
          26868.0,
          72298.0,
          72905.0,
          47025.0,
          29938.0,
          46681.0,
          46681.0,
          29548.0,
          62058.0,
          null,
          36736.0,
          8820.0,
          14918.0,
          56715.0,
          24882.0,
          24882.0,
          64176.0,
          23536.0,
          35246.0,
          28442.0,
          48195.0,
          74116.0,
          78093.0,
          59354.0,
          36301.0,
          77598.0,
          62710.0,
          36317.0,
          42767.0,
          43815.0,
          44421.0,
          null,
          79803.0,
          52569.0,
          82032.0,
          82032.0,
          65685.0,
          65685.0,
          40451.0,
          31163.0,
          31163.0,
          35704.0,
          7500.0,
          36075.0,
          70038.0,
          70038.0,
          71796.0,
          47821.0,
          45503.0,
          37760.0,
          85431.0,
          72635.0,
          72635.0,
          77142.0,
          53172.0,
          36065.0,
          73926.0,
          35790.0,
          68316.0,
          51390.0,
          21675.0,
          48006.0,
          65106.0,
          58401.0,
          29315.0,
          49389.0,
          51717.0,
          46779.0,
          28520.0,
          34377.0,
          46998.0,
          58554.0,
          58554.0,
          80685.0,
          52117.0,
          64014.0,
          64014.0,
          46390.0,
          75507.0,
          75507.0,
          59412.0,
          50616.0,
          35924.0,
          57937.0,
          21255.0,
          58494.0,
          72460.0,
          68682.0,
          68682.0,
          36959.0,
          46463.0,
          61825.0,
          61825.0,
          28691.0,
          28691.0,
          54058.0,
          84196.0,
          38620.0,
          38620.0,
          3502.0,
          47743.0,
          80360.0,
          66303.0,
          52413.0,
          80427.0,
          38823.0,
          76140.0,
          41713.0,
          62670.0,
          70932.0,
          78939.0,
          44512.0,
          63967.0,
          90842.0,
          25358.0,
          null,
          28567.0,
          66373.0,
          66373.0,
          83844.0,
          83844.0,
          83844.0,
          83664.0,
          27450.0,
          54880.0,
          71322.0,
          60000.0,
          65176.0,
          61010.0,
          31089.0,
          20518.0,
          34469.0,
          28332.0,
          33456.0,
          38443.0,
          65333.0,
          82623.0,
          73691.0,
          74485.0,
          65748.0,
          24367.0,
          59354.0,
          58482.0,
          29478.0,
          64474.0,
          31160.0,
          40321.0,
          40321.0,
          55239.0,
          57513.0,
          85693.0,
          71855.0,
          7500.0,
          71969.0,
          28973.0,
          80872.0,
          84117.0,
          38741.0,
          38961.0,
          75922.0,
          56962.0,
          56962.0,
          70165.0,
          65308.0,
          29298.0,
          63246.0,
          33402.0,
          32313.0,
          55284.0,
          51563.0,
          53593.0,
          60432.0,
          66726.0,
          62450.0,
          49514.0,
          43269.0,
          33762.0,
          60894.0,
          50737.0,
          26150.0,
          57304.0,
          71107.0,
          53253.0,
          81320.0,
          87000.0,
          40049.0,
          63684.0,
          69016.0,
          7500.0,
          46094.0,
          85844.0,
          38452.0,
          38452.0,
          80395.0,
          35416.0,
          44124.0,
          50729.0,
          34412.0,
          31158.0,
          34838.0,
          56775.0,
          72159.0,
          8028.0,
          55951.0,
          67911.0,
          67911.0,
          20427.0,
          32303.0,
          55954.0,
          49187.0,
          49854.0,
          63693.0,
          63693.0,
          19510.0,
          52332.0,
          55593.0,
          54591.0,
          74859.0,
          40851.0,
          58607.0,
          7500.0,
          52614.0,
          52614.0,
          67445.0,
          67445.0,
          67445.0,
          36778.0,
          39453.0,
          42731.0,
          40760.0,
          80317.0,
          66636.0,
          54730.0,
          42835.0,
          53843.0,
          79530.0,
          63841.0,
          63841.0,
          63841.0,
          27100.0,
          27100.0,
          50664.0,
          20194.0,
          76618.0,
          45207.0,
          56721.0,
          23763.0,
          37085.0,
          49605.0,
          1730.0,
          34824.0,
          34824.0,
          63206.0,
          26759.0,
          55412.0,
          33590.0,
          70886.0,
          72679.0,
          65073.0,
          44300.0,
          56129.0,
          56129.0,
          38590.0,
          53083.0,
          79689.0,
          34704.0,
          65316.0,
          41014.0,
          19740.0,
          23724.0,
          55212.0,
          55212.0,
          70647.0,
          28071.0,
          54803.0,
          74293.0,
          74293.0,
          35684.0,
          34320.0,
          41967.0,
          49681.0,
          49681.0,
          53187.0,
          86610.0,
          70951.0,
          24206.0,
          55357.0,
          58113.0,
          64355.0,
          82576.0,
          41644.0,
          72570.0,
          30630.0,
          22944.0,
          null,
          82072.0,
          52034.0,
          72354.0,
          28427.0,
          28427.0,
          67381.0,
          23529.0,
          51479.0,
          76068.0,
          22507.0,
          52413.0,
          50116.0,
          76624.0,
          34587.0,
          62159.0,
          66294.0,
          5648.0,
          37235.0,
          23976.0,
          41020.0,
          36108.0,
          57530.0,
          62905.0,
          65846.0,
          34380.0,
          41638.0,
          63207.0,
          28320.0,
          43140.0,
          52531.0,
          40246.0,
          35196.0,
          70596.0,
          70596.0,
          52597.0,
          42394.0,
          81657.0,
          49154.0,
          34074.0,
          null,
          70638.0,
          38136.0,
          67432.0,
          40689.0,
          40689.0,
          44325.0,
          61467.0,
          48178.0,
          16005.0,
          79593.0,
          79593.0,
          61180.0,
          64449.0,
          77437.0,
          17649.0,
          53103.0,
          71819.0,
          74290.0,
          47352.0,
          47352.0,
          46524.0,
          50200.0,
          18222.0,
          77610.0,
          44377.0,
          58684.0,
          66480.0,
          49638.0,
          50616.0,
          26642.0,
          33235.0,
          23228.0,
          36732.0,
          82657.0,
          44392.0,
          16185.0,
          38702.0,
          54072.0,
          61787.0,
          34935.0,
          34935.0,
          59292.0,
          59292.0,
          57959.0,
          46984.0,
          23442.0,
          46757.0,
          80910.0,
          30545.0,
          44802.0,
          79941.0,
          79734.0,
          50353.0,
          77376.0,
          78075.0,
          42473.0,
          25008.0,
          56223.0,
          47850.0,
          91820.0,
          40637.0,
          23295.0,
          84574.0,
          54165.0,
          28510.0,
          67131.0,
          56242.0,
          86580.0,
          76005.0,
          54693.0,
          52750.0,
          36997.0,
          34230.0,
          47916.0,
          60839.0,
          79930.0,
          85485.0,
          75865.0,
          44375.0,
          60504.0,
          65492.0,
          67506.0,
          68805.0,
          61209.0,
          66825.0,
          74637.0,
          86111.0,
          31814.0,
          70116.0,
          40101.0,
          70503.0,
          51766.0,
          62994.0,
          65640.0,
          38361.0,
          38361.0,
          19986.0,
          19986.0,
          45072.0,
          59062.0,
          61794.0,
          45143.0,
          45143.0,
          26877.0,
          36921.0,
          54342.0,
          62772.0,
          75032.0,
          22419.0,
          22419.0,
          36550.0,
          75027.0,
          63159.0,
          54108.0,
          81795.0,
          59594.0,
          18492.0,
          94472.0,
          70337.0,
          34853.0,
          16269.0,
          50272.0,
          22804.0,
          22804.0,
          30631.0,
          78420.0,
          81741.0,
          31907.0,
          37859.0,
          30261.0,
          21282.0,
          32144.0,
          62637.0,
          16626.0,
          54690.0,
          54690.0,
          61284.0,
          23718.0,
          33419.0,
          15056.0,
          67309.0,
          66033.0,
          28769.0,
          6835.0,
          32880.0,
          19419.0,
          34961.0,
          64892.0,
          16248.0,
          43776.0,
          52074.0,
          22123.0,
          35544.0,
          59060.0,
          65665.0,
          29819.0,
          81217.0,
          81217.0,
          26095.0,
          31859.0,
          93027.0,
          58710.0,
          49618.0,
          58308.0,
          40800.0,
          18690.0,
          18690.0,
          18690.0,
          28087.0,
          75702.0,
          32892.0,
          32892.0,
          89120.0,
          27116.0,
          46107.0,
          54466.0,
          59686.0,
          82460.0,
          76045.0,
          32889.0,
          33462.0,
          36627.0,
          28718.0,
          77981.0,
          60230.0,
          74918.0,
          40464.0,
          64857.0,
          64857.0,
          63381.0,
          63381.0,
          66664.0,
          66664.0,
          86358.0,
          41443.0,
          57072.0,
          54178.0,
          48767.0,
          51124.0,
          43020.0,
          49980.0,
          72906.0,
          25176.0,
          31086.0,
          24072.0,
          76773.0,
          72190.0,
          17345.0,
          28249.0,
          28249.0,
          69661.0,
          27922.0,
          45903.0,
          36273.0,
          70777.0,
          17148.0,
          66476.0,
          45057.0,
          41120.0,
          null,
          19485.0,
          21840.0,
          41473.0,
          31395.0,
          47682.0,
          58086.0,
          66565.0,
          23910.0,
          35893.0,
          71128.0,
          38683.0,
          37150.0,
          61064.0,
          51650.0,
          55249.0,
          14421.0,
          54132.0,
          153924.0,
          64813.0,
          61872.0,
          58025.0,
          83790.0,
          34350.0,
          33438.0,
          21955.0,
          60491.0,
          59304.0,
          34421.0,
          34421.0,
          51411.0,
          71964.0,
          49678.0,
          60482.0,
          55260.0,
          68743.0,
          83033.0,
          37697.0,
          37697.0,
          44689.0,
          23162.0,
          63033.0,
          40304.0,
          40059.0,
          80067.0,
          36038.0,
          null,
          40521.0,
          11012.0,
          31615.0,
          null,
          69098.0,
          70792.0,
          17688.0,
          25443.0,
          24336.0,
          51111.0,
          44503.0,
          56850.0,
          66582.0,
          23148.0,
          82224.0,
          61917.0,
          43482.0,
          68274.0,
          42373.0,
          null,
          57537.0,
          80995.0,
          30992.0,
          30992.0,
          78642.0,
          74268.0,
          75072.0,
          56253.0,
          59925.0,
          62807.0,
          62807.0,
          23626.0,
          46106.0,
          81168.0,
          27244.0,
          26091.0,
          26091.0,
          43142.0,
          38232.0,
          92533.0,
          63285.0,
          38946.0,
          38946.0,
          40233.0,
          46831.0,
          67605.0,
          70379.0,
          77297.0,
          55759.0,
          58217.0,
          51369.0,
          51369.0,
          52513.0,
          44159.0,
          76081.0,
          76081.0,
          39996.0,
          55012.0,
          77457.0,
          80695.0,
          71866.0,
          73450.0,
          55614.0,
          156924.0,
          30753.0,
          54603.0,
          22280.0,
          59385.0,
          76998.0,
          80573.0,
          80573.0,
          24711.0,
          38829.0,
          71466.0,
          28839.0,
          53790.0,
          73705.0,
          22448.0,
          12571.0,
          73113.0,
          35765.0,
          46734.0,
          66313.0,
          68148.0,
          44393.0,
          38197.0,
          51012.0,
          51012.0,
          13672.0,
          41452.0,
          42081.0,
          14906.0,
          33812.0,
          46098.0,
          46098.0,
          53230.0,
          88420.0,
          39548.0,
          61278.0,
          81246.0,
          58330.0,
          58330.0,
          65777.0,
          70829.0,
          null,
          59247.0,
          25930.0,
          54753.0,
          28440.0,
          23559.0,
          62335.0,
          63777.0,
          59666.0,
          50965.0,
          71488.0,
          72228.0,
          46231.0,
          75702.0,
          78618.0,
          null,
          29760.0,
          29760.0,
          50127.0,
          29604.0,
          49413.0,
          51876.0,
          45837.0,
          59432.0,
          43185.0,
          60631.0,
          20559.0,
          50898.0,
          73807.0,
          14661.0,
          36807.0,
          46772.0,
          81574.0,
          30772.0,
          46377.0,
          78128.0,
          83443.0,
          50523.0,
          47009.0,
          37054.0,
          32011.0,
          82122.0,
          70300.0,
          21024.0,
          34916.0,
          27943.0,
          39791.0,
          62745.0,
          18589.0,
          85606.0,
          26997.0,
          38853.0,
          27071.0,
          90933.0,
          65814.0,
          74250.0,
          33181.0,
          45006.0,
          42315.0,
          48699.0,
          59111.0,
          48726.0,
          37244.0,
          74854.0,
          67546.0,
          67546.0,
          46923.0,
          38988.0,
          27683.0,
          39190.0,
          56981.0,
          23228.0,
          90000.0,
          55707.0,
          9255.0,
          42997.0,
          71232.0,
          57744.0,
          33585.0,
          46891.0,
          46891.0,
          50387.0,
          76653.0,
          76542.0,
          76995.0,
          38415.0,
          22304.0,
          75127.0,
          75127.0,
          39722.0,
          7144.0,
          39771.0,
          42618.0,
          51518.0,
          74716.0,
          33955.0,
          45736.0,
          31632.0,
          60093.0,
          30822.0,
          41728.0,
          80739.0,
          49767.0,
          34445.0,
          67046.0,
          73538.0,
          80398.0,
          52973.0,
          38998.0,
          38998.0,
          26490.0,
          26490.0,
          23331.0,
          60544.0,
          60544.0,
          49269.0,
          27203.0,
          45204.0,
          67023.0,
          77583.0,
          76630.0,
          47353.0,
          48920.0,
          67472.0,
          64100.0,
          38872.0,
          72217.0,
          15038.0,
          13624.0,
          42554.0,
          71952.0,
          71952.0,
          78041.0,
          63972.0,
          52852.0,
          62010.0,
          83151.0,
          46931.0,
          85072.0,
          73395.0,
          62307.0,
          58293.0,
          47889.0,
          24594.0,
          24594.0,
          69882.0,
          24221.0,
          22327.0,
          61923.0,
          35791.0,
          35791.0,
          35441.0,
          19656.0,
          7500.0,
          71626.0,
          75330.0,
          34529.0,
          48789.0,
          34487.0,
          35688.0,
          35688.0,
          53700.0,
          73454.0,
          71113.0,
          null,
          31535.0,
          80812.0,
          40479.0,
          29440.0,
          38508.0,
          69520.0,
          18701.0,
          18701.0,
          69901.0,
          47703.0,
          71847.0,
          42033.0,
          51983.0,
          68655.0,
          68655.0,
          38285.0,
          79419.0,
          57338.0,
          42523.0,
          42523.0,
          31761.0,
          65747.0,
          17144.0,
          17144.0,
          null,
          84618.0,
          84618.0,
          66375.0,
          42213.0,
          null,
          51141.0,
          15072.0,
          7500.0,
          17117.0,
          65569.0,
          28457.0,
          68142.0,
          48794.0,
          63404.0,
          49669.0,
          55761.0,
          78331.0,
          37971.0,
          30368.0,
          34043.0,
          54111.0,
          69932.0,
          39665.0,
          93404.0,
          38680.0,
          24570.0,
          64961.0,
          23748.0,
          45989.0,
          23331.0,
          70421.0,
          23091.0,
          24683.0,
          157243.0,
          54222.0,
          73455.0,
          84906.0,
          84906.0,
          47025.0,
          44529.0,
          31560.0,
          66973.0,
          41154.0,
          64590.0,
          50611.0,
          83273.0,
          81702.0,
          24401.0,
          42557.0,
          7500.0,
          78416.0,
          44794.0,
          44794.0,
          69719.0,
          62568.0,
          42231.0,
          20130.0,
          20130.0,
          42429.0,
          42429.0,
          36640.0,
          78901.0,
          66476.0,
          31056.0,
          46310.0,
          65819.0
         ]
        }
       ],
       "layout": {
        "paper_bgcolor": "rgb(243,243,243)",
        "plot_bgcolor": "rgb(243,243,243)",
        "template": {
         "data": {
          "bar": [
           {
            "error_x": {
             "color": "#2a3f5f"
            },
            "error_y": {
             "color": "#2a3f5f"
            },
            "marker": {
             "line": {
              "color": "#E5ECF6",
              "width": 0.5
             }
            },
            "type": "bar"
           }
          ],
          "barpolar": [
           {
            "marker": {
             "line": {
              "color": "#E5ECF6",
              "width": 0.5
             }
            },
            "type": "barpolar"
           }
          ],
          "carpet": [
           {
            "aaxis": {
             "endlinecolor": "#2a3f5f",
             "gridcolor": "white",
             "linecolor": "white",
             "minorgridcolor": "white",
             "startlinecolor": "#2a3f5f"
            },
            "baxis": {
             "endlinecolor": "#2a3f5f",
             "gridcolor": "white",
             "linecolor": "white",
             "minorgridcolor": "white",
             "startlinecolor": "#2a3f5f"
            },
            "type": "carpet"
           }
          ],
          "choropleth": [
           {
            "colorbar": {
             "outlinewidth": 0,
             "ticks": ""
            },
            "type": "choropleth"
           }
          ],
          "contour": [
           {
            "colorbar": {
             "outlinewidth": 0,
             "ticks": ""
            },
            "colorscale": [
             [
              0.0,
              "#0d0887"
             ],
             [
              0.1111111111111111,
              "#46039f"
             ],
             [
              0.2222222222222222,
              "#7201a8"
             ],
             [
              0.3333333333333333,
              "#9c179e"
             ],
             [
              0.4444444444444444,
              "#bd3786"
             ],
             [
              0.5555555555555556,
              "#d8576b"
             ],
             [
              0.6666666666666666,
              "#ed7953"
             ],
             [
              0.7777777777777778,
              "#fb9f3a"
             ],
             [
              0.8888888888888888,
              "#fdca26"
             ],
             [
              1.0,
              "#f0f921"
             ]
            ],
            "type": "contour"
           }
          ],
          "contourcarpet": [
           {
            "colorbar": {
             "outlinewidth": 0,
             "ticks": ""
            },
            "type": "contourcarpet"
           }
          ],
          "heatmap": [
           {
            "colorbar": {
             "outlinewidth": 0,
             "ticks": ""
            },
            "colorscale": [
             [
              0.0,
              "#0d0887"
             ],
             [
              0.1111111111111111,
              "#46039f"
             ],
             [
              0.2222222222222222,
              "#7201a8"
             ],
             [
              0.3333333333333333,
              "#9c179e"
             ],
             [
              0.4444444444444444,
              "#bd3786"
             ],
             [
              0.5555555555555556,
              "#d8576b"
             ],
             [
              0.6666666666666666,
              "#ed7953"
             ],
             [
              0.7777777777777778,
              "#fb9f3a"
             ],
             [
              0.8888888888888888,
              "#fdca26"
             ],
             [
              1.0,
              "#f0f921"
             ]
            ],
            "type": "heatmap"
           }
          ],
          "heatmapgl": [
           {
            "colorbar": {
             "outlinewidth": 0,
             "ticks": ""
            },
            "colorscale": [
             [
              0.0,
              "#0d0887"
             ],
             [
              0.1111111111111111,
              "#46039f"
             ],
             [
              0.2222222222222222,
              "#7201a8"
             ],
             [
              0.3333333333333333,
              "#9c179e"
             ],
             [
              0.4444444444444444,
              "#bd3786"
             ],
             [
              0.5555555555555556,
              "#d8576b"
             ],
             [
              0.6666666666666666,
              "#ed7953"
             ],
             [
              0.7777777777777778,
              "#fb9f3a"
             ],
             [
              0.8888888888888888,
              "#fdca26"
             ],
             [
              1.0,
              "#f0f921"
             ]
            ],
            "type": "heatmapgl"
           }
          ],
          "histogram": [
           {
            "marker": {
             "colorbar": {
              "outlinewidth": 0,
              "ticks": ""
             }
            },
            "type": "histogram"
           }
          ],
          "histogram2d": [
           {
            "colorbar": {
             "outlinewidth": 0,
             "ticks": ""
            },
            "colorscale": [
             [
              0.0,
              "#0d0887"
             ],
             [
              0.1111111111111111,
              "#46039f"
             ],
             [
              0.2222222222222222,
              "#7201a8"
             ],
             [
              0.3333333333333333,
              "#9c179e"
             ],
             [
              0.4444444444444444,
              "#bd3786"
             ],
             [
              0.5555555555555556,
              "#d8576b"
             ],
             [
              0.6666666666666666,
              "#ed7953"
             ],
             [
              0.7777777777777778,
              "#fb9f3a"
             ],
             [
              0.8888888888888888,
              "#fdca26"
             ],
             [
              1.0,
              "#f0f921"
             ]
            ],
            "type": "histogram2d"
           }
          ],
          "histogram2dcontour": [
           {
            "colorbar": {
             "outlinewidth": 0,
             "ticks": ""
            },
            "colorscale": [
             [
              0.0,
              "#0d0887"
             ],
             [
              0.1111111111111111,
              "#46039f"
             ],
             [
              0.2222222222222222,
              "#7201a8"
             ],
             [
              0.3333333333333333,
              "#9c179e"
             ],
             [
              0.4444444444444444,
              "#bd3786"
             ],
             [
              0.5555555555555556,
              "#d8576b"
             ],
             [
              0.6666666666666666,
              "#ed7953"
             ],
             [
              0.7777777777777778,
              "#fb9f3a"
             ],
             [
              0.8888888888888888,
              "#fdca26"
             ],
             [
              1.0,
              "#f0f921"
             ]
            ],
            "type": "histogram2dcontour"
           }
          ],
          "mesh3d": [
           {
            "colorbar": {
             "outlinewidth": 0,
             "ticks": ""
            },
            "type": "mesh3d"
           }
          ],
          "parcoords": [
           {
            "line": {
             "colorbar": {
              "outlinewidth": 0,
              "ticks": ""
             }
            },
            "type": "parcoords"
           }
          ],
          "pie": [
           {
            "automargin": true,
            "type": "pie"
           }
          ],
          "scatter": [
           {
            "marker": {
             "colorbar": {
              "outlinewidth": 0,
              "ticks": ""
             }
            },
            "type": "scatter"
           }
          ],
          "scatter3d": [
           {
            "line": {
             "colorbar": {
              "outlinewidth": 0,
              "ticks": ""
             }
            },
            "marker": {
             "colorbar": {
              "outlinewidth": 0,
              "ticks": ""
             }
            },
            "type": "scatter3d"
           }
          ],
          "scattercarpet": [
           {
            "marker": {
             "colorbar": {
              "outlinewidth": 0,
              "ticks": ""
             }
            },
            "type": "scattercarpet"
           }
          ],
          "scattergeo": [
           {
            "marker": {
             "colorbar": {
              "outlinewidth": 0,
              "ticks": ""
             }
            },
            "type": "scattergeo"
           }
          ],
          "scattergl": [
           {
            "marker": {
             "colorbar": {
              "outlinewidth": 0,
              "ticks": ""
             }
            },
            "type": "scattergl"
           }
          ],
          "scattermapbox": [
           {
            "marker": {
             "colorbar": {
              "outlinewidth": 0,
              "ticks": ""
             }
            },
            "type": "scattermapbox"
           }
          ],
          "scatterpolar": [
           {
            "marker": {
             "colorbar": {
              "outlinewidth": 0,
              "ticks": ""
             }
            },
            "type": "scatterpolar"
           }
          ],
          "scatterpolargl": [
           {
            "marker": {
             "colorbar": {
              "outlinewidth": 0,
              "ticks": ""
             }
            },
            "type": "scatterpolargl"
           }
          ],
          "scatterternary": [
           {
            "marker": {
             "colorbar": {
              "outlinewidth": 0,
              "ticks": ""
             }
            },
            "type": "scatterternary"
           }
          ],
          "surface": [
           {
            "colorbar": {
             "outlinewidth": 0,
             "ticks": ""
            },
            "colorscale": [
             [
              0.0,
              "#0d0887"
             ],
             [
              0.1111111111111111,
              "#46039f"
             ],
             [
              0.2222222222222222,
              "#7201a8"
             ],
             [
              0.3333333333333333,
              "#9c179e"
             ],
             [
              0.4444444444444444,
              "#bd3786"
             ],
             [
              0.5555555555555556,
              "#d8576b"
             ],
             [
              0.6666666666666666,
              "#ed7953"
             ],
             [
              0.7777777777777778,
              "#fb9f3a"
             ],
             [
              0.8888888888888888,
              "#fdca26"
             ],
             [
              1.0,
              "#f0f921"
             ]
            ],
            "type": "surface"
           }
          ],
          "table": [
           {
            "cells": {
             "fill": {
              "color": "#EBF0F8"
             },
             "line": {
              "color": "white"
             }
            },
            "header": {
             "fill": {
              "color": "#C8D4E3"
             },
             "line": {
              "color": "white"
             }
            },
            "type": "table"
           }
          ]
         },
         "layout": {
          "annotationdefaults": {
           "arrowcolor": "#2a3f5f",
           "arrowhead": 0,
           "arrowwidth": 1
          },
          "autotypenumbers": "strict",
          "coloraxis": {
           "colorbar": {
            "outlinewidth": 0,
            "ticks": ""
           }
          },
          "colorscale": {
           "diverging": [
            [
             0,
             "#8e0152"
            ],
            [
             0.1,
             "#c51b7d"
            ],
            [
             0.2,
             "#de77ae"
            ],
            [
             0.3,
             "#f1b6da"
            ],
            [
             0.4,
             "#fde0ef"
            ],
            [
             0.5,
             "#f7f7f7"
            ],
            [
             0.6,
             "#e6f5d0"
            ],
            [
             0.7,
             "#b8e186"
            ],
            [
             0.8,
             "#7fbc41"
            ],
            [
             0.9,
             "#4d9221"
            ],
            [
             1,
             "#276419"
            ]
           ],
           "sequential": [
            [
             0.0,
             "#0d0887"
            ],
            [
             0.1111111111111111,
             "#46039f"
            ],
            [
             0.2222222222222222,
             "#7201a8"
            ],
            [
             0.3333333333333333,
             "#9c179e"
            ],
            [
             0.4444444444444444,
             "#bd3786"
            ],
            [
             0.5555555555555556,
             "#d8576b"
            ],
            [
             0.6666666666666666,
             "#ed7953"
            ],
            [
             0.7777777777777778,
             "#fb9f3a"
            ],
            [
             0.8888888888888888,
             "#fdca26"
            ],
            [
             1.0,
             "#f0f921"
            ]
           ],
           "sequentialminus": [
            [
             0.0,
             "#0d0887"
            ],
            [
             0.1111111111111111,
             "#46039f"
            ],
            [
             0.2222222222222222,
             "#7201a8"
            ],
            [
             0.3333333333333333,
             "#9c179e"
            ],
            [
             0.4444444444444444,
             "#bd3786"
            ],
            [
             0.5555555555555556,
             "#d8576b"
            ],
            [
             0.6666666666666666,
             "#ed7953"
            ],
            [
             0.7777777777777778,
             "#fb9f3a"
            ],
            [
             0.8888888888888888,
             "#fdca26"
            ],
            [
             1.0,
             "#f0f921"
            ]
           ]
          },
          "colorway": [
           "#636efa",
           "#EF553B",
           "#00cc96",
           "#ab63fa",
           "#FFA15A",
           "#19d3f3",
           "#FF6692",
           "#B6E880",
           "#FF97FF",
           "#FECB52"
          ],
          "font": {
           "color": "#2a3f5f"
          },
          "geo": {
           "bgcolor": "white",
           "lakecolor": "white",
           "landcolor": "#E5ECF6",
           "showlakes": true,
           "showland": true,
           "subunitcolor": "white"
          },
          "hoverlabel": {
           "align": "left"
          },
          "hovermode": "closest",
          "mapbox": {
           "style": "light"
          },
          "paper_bgcolor": "white",
          "plot_bgcolor": "#E5ECF6",
          "polar": {
           "angularaxis": {
            "gridcolor": "white",
            "linecolor": "white",
            "ticks": ""
           },
           "bgcolor": "#E5ECF6",
           "radialaxis": {
            "gridcolor": "white",
            "linecolor": "white",
            "ticks": ""
           }
          },
          "scene": {
           "xaxis": {
            "backgroundcolor": "#E5ECF6",
            "gridcolor": "white",
            "gridwidth": 2,
            "linecolor": "white",
            "showbackground": true,
            "ticks": "",
            "zerolinecolor": "white"
           },
           "yaxis": {
            "backgroundcolor": "#E5ECF6",
            "gridcolor": "white",
            "gridwidth": 2,
            "linecolor": "white",
            "showbackground": true,
            "ticks": "",
            "zerolinecolor": "white"
           },
           "zaxis": {
            "backgroundcolor": "#E5ECF6",
            "gridcolor": "white",
            "gridwidth": 2,
            "linecolor": "white",
            "showbackground": true,
            "ticks": "",
            "zerolinecolor": "white"
           }
          },
          "shapedefaults": {
           "line": {
            "color": "#2a3f5f"
           }
          },
          "ternary": {
           "aaxis": {
            "gridcolor": "white",
            "linecolor": "white",
            "ticks": ""
           },
           "baxis": {
            "gridcolor": "white",
            "linecolor": "white",
            "ticks": ""
           },
           "bgcolor": "#E5ECF6",
           "caxis": {
            "gridcolor": "white",
            "linecolor": "white",
            "ticks": ""
           }
          },
          "title": {
           "x": 0.05
          },
          "xaxis": {
           "automargin": true,
           "gridcolor": "white",
           "linecolor": "white",
           "ticks": "",
           "title": {
            "standoff": 15
           },
           "zerolinecolor": "white",
           "zerolinewidth": 2
          },
          "yaxis": {
           "automargin": true,
           "gridcolor": "white",
           "linecolor": "white",
           "ticks": "",
           "title": {
            "standoff": 15
           },
           "zerolinecolor": "white",
           "zerolinewidth": 2
          }
         }
        },
        "title": {
         "text": "IncomeDistribution in costumer attrition"
        },
        "xaxis": {
         "gridcolor": "rgb(255,255,255)",
         "gridwidth": 2,
         "ticklen": 5,
         "title": {
          "text": "Income"
         },
         "zerolinewidth": 1
        },
        "yaxis": {
         "gridcolor": "rgb(255,255,255)",
         "gridwidth": 2,
         "ticklen": 5,
         "title": {
          "text": "percent"
         },
         "zerolinewidth": 1
        }
       }
      },
      "text/html": [
       "<div>                            <div id=\"8e64afe8-9835-4aca-a8f2-64f35d721b67\" class=\"plotly-graph-div\" style=\"height:525px; width:100%;\"></div>            <script type=\"text/javascript\">                require([\"plotly\"], function(Plotly) {                    window.PLOTLYENV=window.PLOTLYENV || {};                                    if (document.getElementById(\"8e64afe8-9835-4aca-a8f2-64f35d721b67\")) {                    Plotly.newPlot(                        \"8e64afe8-9835-4aca-a8f2-64f35d721b67\",                        [{\"histnorm\": \"percent\", \"marker\": {\"line\": {\"color\": \"black\", \"width\": 0.3}}, \"name\": \"Target Marketting\", \"opacity\": 0.8, \"type\": \"histogram\", \"x\": [84835.0, 57091.0, 21474.0, 71691.0, 63564.0, 67786.0, 54809.0, 46374.0, 95169.0, 84865.0, 21359.0, 81698.0, 25959.0, 64260.0, 72967.0, 14796.0, 90369.0, 47139.0, 60597.0, 53367.0, 34728.0, 38578.0, 79174.0, 27242.0, 34213.0, 72335.0, 50388.0, 71604.0, 47570.0, 54998.0, 63211.0, 48432.0, 48432.0, 62845.0, 65220.0, 96547.0, 45203.0, 65104.0, 81698.0, 74004.0, 21355.0, 102692.0, 18890.0, 49912.0, 49912.0, 85683.0, 70321.0, 55424.0, 83528.0, 42586.0, 42586.0, 9722.0, 86836.0, 19444.0, 72968.0, 73687.0, 64090.0, 71670.0, 34600.0, 34600.0, 48752.0, 46610.0, 45576.0, 37126.0, 84169.0, 84169.0, 39763.0, 42720.0, 43776.0, 56046.0, 16653.0, 86429.0, 33569.0, 50501.0, 69372.0, 35178.0, 35178.0, 75693.0, 69109.0, 69109.0, 64713.0, 55521.0, 43795.0, 46049.0, 35641.0, 29435.0, 78499.0, 70515.0, 17459.0, 75777.0, 75777.0, 31626.0, 83917.0, 41021.0, 79456.0, 78789.0, 32557.0, 27190.0, 36145.0, 78394.0, 60208.0, 78687.0, 78569.0, 20981.0, 36790.0, 83145.0, 76412.0, 21888.0, 25509.0, 25509.0, 33051.0, 36781.0, 93790.0, 24762.0, 75345.0, 36715.0, 80763.0, 60585.0, 75261.0, 81300.0, 64497.0, 81361.0, 37406.0, 57136.0, 83003.0, 88194.0, 76982.0, 64509.0, 30351.0, 87305.0, 27213.0, 7500.0, 38513.0, 80952.0, 44051.0, 80141.0, 74538.0, 38808.0, 30396.0, 65169.0, 22585.0, 42000.0, 42000.0, 82800.0, 82800.0, 31353.0, 36262.0, 52278.0, 7500.0, 88097.0, 80589.0, 56337.0, 92163.0, 42160.0, 82584.0, 32233.0, 90247.0, 32218.0, 61996.0, 82733.0, 42564.0, 70971.0, 37774.0, 90638.0, 95529.0, 22979.0, 82326.0, 77520.0, 22669.0, 69867.0, 70287.0, 37070.0, 37070.0, 83512.0, 42162.0, 69267.0, 68281.0, 90273.0, 40887.0, 26518.0, 91065.0, 75251.0, 53374.0, 87195.0, 92955.0, 56534.0, 78579.0, 78825.0, 25545.0, 49667.0, 89616.0, 105471.0, 78427.0, 22518.0, 39660.0, 35860.0, 35860.0, 79607.0, 69759.0, 82347.0, 78028.0, 51569.0, 62972.0, 73892.0, 80134.0, 80134.0, 68126.0, 52869.0, 26576.0, 75825.0, 39684.0, 53378.0, 63998.0, 64849.0, 81205.0, 36957.0, 89572.0, 57107.0, 76467.0, 72025.0, 75759.0, 36130.0, 19514.0, 91712.0, 23957.0, 34596.0, 63342.0, 82014.0, 37929.0, 30983.0, 15345.0, 40442.0, 48948.0, 48948.0, 63120.0, 55517.0, 36864.0, 82582.0, 28647.0, 39552.0, 102160.0, 72066.0, 54959.0, 82384.0, 57333.0, 62220.0, 73356.0, 60714.0, 31385.0, 83257.0, 42014.0, 42014.0, 91700.0, 79244.0, 82017.0, 58138.0, 96843.0, 82333.0, 72643.0, 15287.0, 15287.0, 81929.0, 87771.0, 87771.0, 73803.0, 87679.0, 94384.0, 94384.0, 54356.0, 69969.0, 72309.0, 27038.0, 79800.0, 38410.0, 70643.0, 86979.0, 39858.0, 85620.0, 35196.0, 101970.0, 72282.0, 38097.0, 64140.0, 92491.0, 42207.0, 14515.0, 55158.0, 87188.0, 84953.0, 77632.0, 48240.0, 79205.0, 72903.0, null, 25721.0, 21645.0, 82025.0, 48192.0, 23616.0, 65706.0, 83829.0, 83829.0, 96876.0, 83837.0, 75154.0, 68117.0, 83151.0, 84460.0, 46854.0, 64504.0, 67369.0, 47175.0, 56937.0, 66334.0, 57091.0, 91249.0, 46098.0, 43300.0, 85696.0, 85696.0, 82332.0, 60896.0, 49118.0, 77870.0, 91172.0, 86037.0, 59754.0, 86857.0, 86857.0, 77766.0, 77766.0, 90687.0, 50611.0, 94871.0]}, {\"histnorm\": \"percent\", \"marker\": {\"line\": {\"color\": \"black\", \"width\": 0.3}}, \"name\": \"Non Target Marketting\", \"opacity\": 0.8, \"type\": \"histogram\", \"x\": [67267.0, 32474.0, 44931.0, 65324.0, 65324.0, 81044.0, 62499.0, 26872.0, 4428.0, 54809.0, 32173.0, 47823.0, 30523.0, 36634.0, 43456.0, 40662.0, 49544.0, 57731.0, 33168.0, 54450.0, 54450.0, 35340.0, 73170.0, 65808.0, 79529.0, 34578.0, 18351.0, 65370.0, 39228.0, 61314.0, 66465.0, 39146.0, 32300.0, 74806.0, 48904.0, 66991.0, 52195.0, 18393.0, 38576.0, 61905.0, 83715.0, 6560.0, 48330.0, 38236.0, 22701.0, 63915.0, 82504.0, 38578.0, 81975.0, 43263.0, 76445.0, 75276.0, 79143.0, 27469.0, 68695.0, 68695.0, 77622.0, 46102.0, 31859.0, 23830.0, 24639.0, 27255.0, 55375.0, 77037.0, 24163.0, 69476.0, 72063.0, 58646.0, 58646.0, 80011.0, 60200.0, 48432.0, 62845.0, 74214.0, 53863.0, 50447.0, 37716.0, 37368.0, 67225.0, 65104.0, 70566.0, 69096.0, 71434.0, 33039.0, 33039.0, 46610.0, 49967.0, 53359.0, 49505.0, 68657.0, 72071.0, 72071.0, 59235.0, 21994.0, 21994.0, null, 69209.0, 31928.0, 30390.0, 26304.0, 85710.0, 58350.0, 7500.0, 20425.0, 20425.0, 41437.0, 79823.0, 47025.0, 68397.0, 38175.0, 46423.0, 46423.0, 30560.0, 30560.0, 60152.0, 29672.0, 29672.0, 56181.0, 24279.0, 68462.0, 49094.0, 59184.0, 67430.0, 30522.0, 31878.0, 90300.0, 68092.0, 53761.0, 52845.0, 24027.0, 7500.0, 30467.0, 54549.0, 69245.0, 48686.0, 82716.0, 35523.0, 60554.0, 61559.0, 67680.0, 54386.0, 64108.0, 69702.0, 47958.0, 67716.0, 15716.0, 74985.0, 113734.0, 57100.0, 24434.0, 45160.0, 33178.0, 64866.0, 34176.0, 50014.0, 92344.0, 55282.0, 48799.0, 74165.0, 65275.0, 36443.0, 65148.0, 49431.0, 32583.0, 26850.0, 51287.0, 43050.0, 73448.0, 17256.0, 25130.0, 62998.0, 26907.0, 26907.0, 45579.0, 47320.0, 70179.0, 70179.0, 28072.0, 58917.0, 80134.0, 41411.0, null, 22070.0, 36408.0, 34026.0, 34026.0, 32414.0, 59821.0, 34968.0, 56320.0, 70091.0, 46097.0, 41003.0, 44911.0, 33249.0, 33249.0, 42873.0, 51039.0, 78952.0, 79865.0, 34176.0, 34176.0, 65968.0, 86424.0, 67272.0, 77044.0, 80336.0, 15759.0, 26326.0, 62061.0, 5305.0, 71499.0, 42670.0, 50870.0, 35876.0, 23539.0, 62466.0, 62466.0, 54198.0, 82170.0, 61798.0, 15253.0, 78285.0, 62535.0, 48985.0, 72940.0, 157146.0, 81843.0, 41883.0, 45759.0, 45759.0, 30279.0, 30279.0, 31880.0, 37401.0, 37401.0, 75315.0, 69263.0, 57705.0, 74805.0, 66426.0, 51529.0, 18100.0, 59601.0, 74068.0, 18793.0, 27421.0, 30675.0, 34053.0, 31788.0, 45894.0, 41986.0, 42769.0, 58582.0, 49096.0, 18929.0, 18929.0, 18929.0, 41580.0, 31605.0, 28764.0, 32146.0, 22148.0, 54197.0, 30477.0, 11448.0, 70844.0, 30828.0, 62513.0, 27733.0, 39435.0, 20491.0, 71706.0, 69063.0, 24645.0, 35797.0, 44078.0, 26954.0, null, 38887.0, 65463.0, 53537.0, 36230.0, 49166.0, 89891.0, 72828.0, 75278.0, 38557.0, 60161.0, 69389.0, 61014.0, 44319.0, 53233.0, 77972.0, 81361.0, 25707.0, 42403.0, 65704.0, 39767.0, 54210.0, 40794.0, 89058.0, 20193.0, 72099.0, 43824.0, 66653.0, 44359.0, 79410.0, 55842.0, 79946.0, 80184.0, 65295.0, 57100.0, 29009.0, 78931.0, 7500.0, 56939.0, 30093.0, 30351.0, 38201.0, null, 43974.0, 38200.0, 16860.0, 4861.0, 38196.0, 41145.0, 45688.0, 77863.0, 42169.0, 45906.0, 35388.0, 39898.0, 39898.0, 86718.0, 58597.0, 70356.0, 46904.0, 37760.0, 37760.0, 61839.0, 29791.0, 48918.0, 48918.0, 58692.0, 39356.0, 76234.0, 55434.0, 66835.0, 66835.0, 71965.0, 50002.0, 53977.0, 53977.0, 69930.0, 62981.0, 46014.0, 18227.0, 65991.0, 160803.0, 43783.0, 65526.0, 65526.0, 55956.0, 55563.0, 57236.0, 89694.0, 57420.0, 33622.0, 29999.0, 31497.0, 31497.0, 36802.0, 61671.0, 60182.0, 29732.0, 45921.0, 16529.0, 98777.0, 98777.0, 77027.0, 69139.0, 69139.0, 40049.0, 69755.0, null, 54456.0, 666666.0, 60689.0, 26487.0, 28164.0, 64795.0, 70713.0, 30801.0, 83891.0, 38054.0, 14045.0, 44155.0, 57642.0, 31353.0, 41335.0, 41335.0, 40737.0, 19789.0, 35946.0, 44551.0, 71367.0, 71367.0, 57957.0, 50334.0, 48150.0, 56796.0, 56796.0, 52278.0, 33444.0, 20895.0, 37509.0, 59041.0, 43322.0, 46015.0, 46015.0, 34242.0, 65210.0, 50520.0, 90765.0, 49572.0, 75437.0, 44635.0, 58512.0, 62000.0, 54252.0, 45068.0, 60474.0, 60474.0, 22434.0, 61416.0, 58656.0, null, 8940.0, 26751.0, 71427.0, 26646.0, 19346.0, 56243.0, 59892.0, 71613.0, 25252.0, 15862.0, 38360.0, 75283.0, 34941.0, 61823.0, 90226.0, 44989.0, 44989.0, 43586.0, 62882.0, 57288.0, 75774.0, 75774.0, 84219.0, 84219.0, 48877.0, 60905.0, 75236.0, 62551.0, 70123.0, 50785.0, 15315.0, 15315.0, 64413.0, 87171.0, 30081.0, 20180.0, 20180.0, 55686.0, 26887.0, 51537.0, 72025.0, 30538.0, 61618.0, 77343.0, 75433.0, 82571.0, 60033.0, 39062.0, 30023.0, 30015.0, 33228.0, 22574.0, 22574.0, 55267.0, 66886.0, 72258.0, 45146.0, 51250.0, 32871.0, 63855.0, 46344.0, 50437.0, 4023.0, 33279.0, 42693.0, 70545.0, 65486.0, 77882.0, 78468.0, 77226.0, 90638.0, 70666.0, 59052.0, 13084.0, 49160.0, 23272.0, 49476.0, 62694.0, 57906.0, 71853.0, 71853.0, 65031.0, 30507.0, 67419.0, 59462.0, 53653.0, 25965.0, 64950.0, 44322.0, 30096.0, 30096.0, 56628.0, 71163.0, 71022.0, 42607.0, 43057.0, 47808.0, 29236.0, 40590.0, 40590.0, 40211.0, 63516.0, 53034.0, 79908.0, 38179.0, 39922.0, 39922.0, 39922.0, 64191.0, 41658.0, 40780.0, 77568.0, 66503.0, 31686.0, 71322.0, 27938.0, 22263.0, 34633.0, 162397.0, 54162.0, 41769.0, 44953.0, 37717.0, 37717.0, 40548.0, 67893.0, 9548.0, 92556.0, 48526.0, 19414.0, 79761.0, 53312.0, 41039.0, 88347.0, 50150.0, 50150.0, 10245.0, 33454.0, 55914.0, 37292.0, 52914.0, 24884.0, 67384.0, 51651.0, 82497.0, 32632.0, 33562.0, 79146.0, 79146.0, 36143.0, 27159.0, 41275.0, 76800.0, 75794.0, 30833.0, 45183.0, 48070.0, 30372.0, 30372.0, 57036.0, 66731.0, 35682.0, 10979.0, 10979.0, 57912.0, 36026.0, 35788.0, 42243.0, 46086.0, 61346.0, 33316.0, 33316.0, 21063.0, 33697.0, 25804.0, 72117.0, 61286.0, 61286.0, 65196.0, 55635.0, 42021.0, 35322.0, 42395.0, 82427.0, 44602.0, 94642.0, 28359.0, 55801.0, 69627.0, 44964.0, 30899.0, 47111.0, 66000.0, 46910.0, 25224.0, 77382.0, 28420.0, 32952.0, 46149.0, 83532.0, 73059.0, 73059.0, 35701.0, 59809.0, 52203.0, 35860.0, 35860.0, 76842.0, 15033.0, 67353.0, 17003.0, 65735.0, 45684.0, 21918.0, 51267.0, 59868.0, 51373.0, 46692.0, 157733.0, 54432.0, 51813.0, 17487.0, 40706.0, 62859.0, 61074.0, 43638.0, 58116.0, 62187.0, 46344.0, 77353.0, 21846.0, 76532.0, 70053.0, 75342.0, 27590.0, 51148.0, 33378.0, 32644.0, 33581.0, 12393.0, 42710.0, 82347.0, 22554.0, 17323.0, 62204.0, 63887.0, 32727.0, 29103.0, 61482.0, 20587.0, 20587.0, 52190.0, 48186.0, 19329.0, 34109.0, 23477.0, 47472.0, 14849.0, 26224.0, 27238.0, null, 57967.0, 72550.0, 44511.0, 62972.0, 77845.0, 36663.0, 53204.0, 21059.0, 67087.0, 75114.0, 42192.0, 31454.0, 22775.0, 22775.0, 31590.0, 14188.0, 18169.0, 62503.0, 46734.0, 57045.0, 34984.0, 27803.0, 69283.0, 18746.0, 70924.0, 70924.0, 69401.0, 75012.0, 85738.0, 60934.0, 27161.0, 64325.0, 18978.0, 41124.0, 37040.0, 78710.0, 92910.0, 36283.0, 79632.0, 28587.0, 88325.0, 51412.0, 38593.0, 27889.0, 45889.0, 56575.0, 16014.0, 61331.0, 70893.0, 2447.0, 42387.0, 80617.0, 54006.0, 16531.0, 30843.0, 18988.0, 81051.0, 39747.0, 34554.0, 52854.0, 69084.0, 69084.0, 65352.0, 22063.0, 47691.0, 29187.0, 72504.0, 33986.0, 42386.0, 42386.0, 13724.0, 42664.0, 37334.0, 78497.0, 78497.0, 58821.0, 58398.0, 80950.0, 30732.0, null, 51315.0, 43602.0, 38643.0, 49090.0, 70617.0, 67536.0, 27573.0, 13533.0, 50725.0, 25851.0, 57113.0, 62847.0, 68627.0, 25271.0, 63810.0, 63810.0, 65488.0, 36927.0, 22108.0, 33183.0, 23661.0, 25315.0, 45938.0, 66951.0, 77298.0, 77298.0, 43018.0, 33996.0, 33996.0, 54137.0, 61223.0, 69674.0, 49494.0, 51195.0, 37284.0, 37284.0, 42011.0, 70044.0, 46053.0, 24480.0, 54233.0, 56559.0, 92859.0, 44010.0, 80124.0, 80124.0, 50183.0, 64722.0, 37395.0, 29543.0, 19514.0, 59481.0, 80144.0, 59973.0, 68352.0, 81169.0, 61456.0, 22634.0, 22634.0, 33471.0, 52157.0, 30298.0, 56551.0, 56551.0, 65487.0, 65487.0, 44213.0, 40344.0, 57867.0, 25410.0, 13260.0, 42691.0, 36138.0, 57136.0, 58275.0, 54237.0, 34596.0, 74881.0, 74881.0, 44267.0, 68487.0, 68487.0, 80982.0, 69508.0, 63342.0, 76320.0, 64587.0, 74190.0, 32765.0, null, 22212.0, 18358.0, 26067.0, 22390.0, 70440.0, 60199.0, 38547.0, 19107.0, 16813.0, 62187.0, 57811.0, 50943.0, 50943.0, 53201.0, 54414.0, 26290.0, 61250.0, 28389.0, 55250.0, 37758.0, 37758.0, 37633.0, 33629.0, 36947.0, 69142.0, 53154.0, 65695.0, 69805.0, 36975.0, 26228.0, 37787.0, 37087.0, 57247.0, 36930.0, 48721.0, 43641.0, 75903.0, 71391.0, 16927.0, 27215.0, 53858.0, 43462.0, 63943.0, 26816.0, 75484.0, 33564.0, 54348.0, 54984.0, 34738.0, 68118.0, 68118.0, 22682.0, 51948.0, 25293.0, 25293.0, 41551.0, 56067.0, 67433.0, 22010.0, 64831.0, 62820.0, 62820.0, 78353.0, 57183.0, 23478.0, 30168.0, 37155.0, 16581.0, 41850.0, 81380.0, 56386.0, 25818.0, 57954.0, 50300.0, 38725.0, 10404.0, 26868.0, 72298.0, 72905.0, 47025.0, 29938.0, 46681.0, 46681.0, 29548.0, 62058.0, null, 36736.0, 8820.0, 14918.0, 56715.0, 24882.0, 24882.0, 64176.0, 23536.0, 35246.0, 28442.0, 48195.0, 74116.0, 78093.0, 59354.0, 36301.0, 77598.0, 62710.0, 36317.0, 42767.0, 43815.0, 44421.0, null, 79803.0, 52569.0, 82032.0, 82032.0, 65685.0, 65685.0, 40451.0, 31163.0, 31163.0, 35704.0, 7500.0, 36075.0, 70038.0, 70038.0, 71796.0, 47821.0, 45503.0, 37760.0, 85431.0, 72635.0, 72635.0, 77142.0, 53172.0, 36065.0, 73926.0, 35790.0, 68316.0, 51390.0, 21675.0, 48006.0, 65106.0, 58401.0, 29315.0, 49389.0, 51717.0, 46779.0, 28520.0, 34377.0, 46998.0, 58554.0, 58554.0, 80685.0, 52117.0, 64014.0, 64014.0, 46390.0, 75507.0, 75507.0, 59412.0, 50616.0, 35924.0, 57937.0, 21255.0, 58494.0, 72460.0, 68682.0, 68682.0, 36959.0, 46463.0, 61825.0, 61825.0, 28691.0, 28691.0, 54058.0, 84196.0, 38620.0, 38620.0, 3502.0, 47743.0, 80360.0, 66303.0, 52413.0, 80427.0, 38823.0, 76140.0, 41713.0, 62670.0, 70932.0, 78939.0, 44512.0, 63967.0, 90842.0, 25358.0, null, 28567.0, 66373.0, 66373.0, 83844.0, 83844.0, 83844.0, 83664.0, 27450.0, 54880.0, 71322.0, 60000.0, 65176.0, 61010.0, 31089.0, 20518.0, 34469.0, 28332.0, 33456.0, 38443.0, 65333.0, 82623.0, 73691.0, 74485.0, 65748.0, 24367.0, 59354.0, 58482.0, 29478.0, 64474.0, 31160.0, 40321.0, 40321.0, 55239.0, 57513.0, 85693.0, 71855.0, 7500.0, 71969.0, 28973.0, 80872.0, 84117.0, 38741.0, 38961.0, 75922.0, 56962.0, 56962.0, 70165.0, 65308.0, 29298.0, 63246.0, 33402.0, 32313.0, 55284.0, 51563.0, 53593.0, 60432.0, 66726.0, 62450.0, 49514.0, 43269.0, 33762.0, 60894.0, 50737.0, 26150.0, 57304.0, 71107.0, 53253.0, 81320.0, 87000.0, 40049.0, 63684.0, 69016.0, 7500.0, 46094.0, 85844.0, 38452.0, 38452.0, 80395.0, 35416.0, 44124.0, 50729.0, 34412.0, 31158.0, 34838.0, 56775.0, 72159.0, 8028.0, 55951.0, 67911.0, 67911.0, 20427.0, 32303.0, 55954.0, 49187.0, 49854.0, 63693.0, 63693.0, 19510.0, 52332.0, 55593.0, 54591.0, 74859.0, 40851.0, 58607.0, 7500.0, 52614.0, 52614.0, 67445.0, 67445.0, 67445.0, 36778.0, 39453.0, 42731.0, 40760.0, 80317.0, 66636.0, 54730.0, 42835.0, 53843.0, 79530.0, 63841.0, 63841.0, 63841.0, 27100.0, 27100.0, 50664.0, 20194.0, 76618.0, 45207.0, 56721.0, 23763.0, 37085.0, 49605.0, 1730.0, 34824.0, 34824.0, 63206.0, 26759.0, 55412.0, 33590.0, 70886.0, 72679.0, 65073.0, 44300.0, 56129.0, 56129.0, 38590.0, 53083.0, 79689.0, 34704.0, 65316.0, 41014.0, 19740.0, 23724.0, 55212.0, 55212.0, 70647.0, 28071.0, 54803.0, 74293.0, 74293.0, 35684.0, 34320.0, 41967.0, 49681.0, 49681.0, 53187.0, 86610.0, 70951.0, 24206.0, 55357.0, 58113.0, 64355.0, 82576.0, 41644.0, 72570.0, 30630.0, 22944.0, null, 82072.0, 52034.0, 72354.0, 28427.0, 28427.0, 67381.0, 23529.0, 51479.0, 76068.0, 22507.0, 52413.0, 50116.0, 76624.0, 34587.0, 62159.0, 66294.0, 5648.0, 37235.0, 23976.0, 41020.0, 36108.0, 57530.0, 62905.0, 65846.0, 34380.0, 41638.0, 63207.0, 28320.0, 43140.0, 52531.0, 40246.0, 35196.0, 70596.0, 70596.0, 52597.0, 42394.0, 81657.0, 49154.0, 34074.0, null, 70638.0, 38136.0, 67432.0, 40689.0, 40689.0, 44325.0, 61467.0, 48178.0, 16005.0, 79593.0, 79593.0, 61180.0, 64449.0, 77437.0, 17649.0, 53103.0, 71819.0, 74290.0, 47352.0, 47352.0, 46524.0, 50200.0, 18222.0, 77610.0, 44377.0, 58684.0, 66480.0, 49638.0, 50616.0, 26642.0, 33235.0, 23228.0, 36732.0, 82657.0, 44392.0, 16185.0, 38702.0, 54072.0, 61787.0, 34935.0, 34935.0, 59292.0, 59292.0, 57959.0, 46984.0, 23442.0, 46757.0, 80910.0, 30545.0, 44802.0, 79941.0, 79734.0, 50353.0, 77376.0, 78075.0, 42473.0, 25008.0, 56223.0, 47850.0, 91820.0, 40637.0, 23295.0, 84574.0, 54165.0, 28510.0, 67131.0, 56242.0, 86580.0, 76005.0, 54693.0, 52750.0, 36997.0, 34230.0, 47916.0, 60839.0, 79930.0, 85485.0, 75865.0, 44375.0, 60504.0, 65492.0, 67506.0, 68805.0, 61209.0, 66825.0, 74637.0, 86111.0, 31814.0, 70116.0, 40101.0, 70503.0, 51766.0, 62994.0, 65640.0, 38361.0, 38361.0, 19986.0, 19986.0, 45072.0, 59062.0, 61794.0, 45143.0, 45143.0, 26877.0, 36921.0, 54342.0, 62772.0, 75032.0, 22419.0, 22419.0, 36550.0, 75027.0, 63159.0, 54108.0, 81795.0, 59594.0, 18492.0, 94472.0, 70337.0, 34853.0, 16269.0, 50272.0, 22804.0, 22804.0, 30631.0, 78420.0, 81741.0, 31907.0, 37859.0, 30261.0, 21282.0, 32144.0, 62637.0, 16626.0, 54690.0, 54690.0, 61284.0, 23718.0, 33419.0, 15056.0, 67309.0, 66033.0, 28769.0, 6835.0, 32880.0, 19419.0, 34961.0, 64892.0, 16248.0, 43776.0, 52074.0, 22123.0, 35544.0, 59060.0, 65665.0, 29819.0, 81217.0, 81217.0, 26095.0, 31859.0, 93027.0, 58710.0, 49618.0, 58308.0, 40800.0, 18690.0, 18690.0, 18690.0, 28087.0, 75702.0, 32892.0, 32892.0, 89120.0, 27116.0, 46107.0, 54466.0, 59686.0, 82460.0, 76045.0, 32889.0, 33462.0, 36627.0, 28718.0, 77981.0, 60230.0, 74918.0, 40464.0, 64857.0, 64857.0, 63381.0, 63381.0, 66664.0, 66664.0, 86358.0, 41443.0, 57072.0, 54178.0, 48767.0, 51124.0, 43020.0, 49980.0, 72906.0, 25176.0, 31086.0, 24072.0, 76773.0, 72190.0, 17345.0, 28249.0, 28249.0, 69661.0, 27922.0, 45903.0, 36273.0, 70777.0, 17148.0, 66476.0, 45057.0, 41120.0, null, 19485.0, 21840.0, 41473.0, 31395.0, 47682.0, 58086.0, 66565.0, 23910.0, 35893.0, 71128.0, 38683.0, 37150.0, 61064.0, 51650.0, 55249.0, 14421.0, 54132.0, 153924.0, 64813.0, 61872.0, 58025.0, 83790.0, 34350.0, 33438.0, 21955.0, 60491.0, 59304.0, 34421.0, 34421.0, 51411.0, 71964.0, 49678.0, 60482.0, 55260.0, 68743.0, 83033.0, 37697.0, 37697.0, 44689.0, 23162.0, 63033.0, 40304.0, 40059.0, 80067.0, 36038.0, null, 40521.0, 11012.0, 31615.0, null, 69098.0, 70792.0, 17688.0, 25443.0, 24336.0, 51111.0, 44503.0, 56850.0, 66582.0, 23148.0, 82224.0, 61917.0, 43482.0, 68274.0, 42373.0, null, 57537.0, 80995.0, 30992.0, 30992.0, 78642.0, 74268.0, 75072.0, 56253.0, 59925.0, 62807.0, 62807.0, 23626.0, 46106.0, 81168.0, 27244.0, 26091.0, 26091.0, 43142.0, 38232.0, 92533.0, 63285.0, 38946.0, 38946.0, 40233.0, 46831.0, 67605.0, 70379.0, 77297.0, 55759.0, 58217.0, 51369.0, 51369.0, 52513.0, 44159.0, 76081.0, 76081.0, 39996.0, 55012.0, 77457.0, 80695.0, 71866.0, 73450.0, 55614.0, 156924.0, 30753.0, 54603.0, 22280.0, 59385.0, 76998.0, 80573.0, 80573.0, 24711.0, 38829.0, 71466.0, 28839.0, 53790.0, 73705.0, 22448.0, 12571.0, 73113.0, 35765.0, 46734.0, 66313.0, 68148.0, 44393.0, 38197.0, 51012.0, 51012.0, 13672.0, 41452.0, 42081.0, 14906.0, 33812.0, 46098.0, 46098.0, 53230.0, 88420.0, 39548.0, 61278.0, 81246.0, 58330.0, 58330.0, 65777.0, 70829.0, null, 59247.0, 25930.0, 54753.0, 28440.0, 23559.0, 62335.0, 63777.0, 59666.0, 50965.0, 71488.0, 72228.0, 46231.0, 75702.0, 78618.0, null, 29760.0, 29760.0, 50127.0, 29604.0, 49413.0, 51876.0, 45837.0, 59432.0, 43185.0, 60631.0, 20559.0, 50898.0, 73807.0, 14661.0, 36807.0, 46772.0, 81574.0, 30772.0, 46377.0, 78128.0, 83443.0, 50523.0, 47009.0, 37054.0, 32011.0, 82122.0, 70300.0, 21024.0, 34916.0, 27943.0, 39791.0, 62745.0, 18589.0, 85606.0, 26997.0, 38853.0, 27071.0, 90933.0, 65814.0, 74250.0, 33181.0, 45006.0, 42315.0, 48699.0, 59111.0, 48726.0, 37244.0, 74854.0, 67546.0, 67546.0, 46923.0, 38988.0, 27683.0, 39190.0, 56981.0, 23228.0, 90000.0, 55707.0, 9255.0, 42997.0, 71232.0, 57744.0, 33585.0, 46891.0, 46891.0, 50387.0, 76653.0, 76542.0, 76995.0, 38415.0, 22304.0, 75127.0, 75127.0, 39722.0, 7144.0, 39771.0, 42618.0, 51518.0, 74716.0, 33955.0, 45736.0, 31632.0, 60093.0, 30822.0, 41728.0, 80739.0, 49767.0, 34445.0, 67046.0, 73538.0, 80398.0, 52973.0, 38998.0, 38998.0, 26490.0, 26490.0, 23331.0, 60544.0, 60544.0, 49269.0, 27203.0, 45204.0, 67023.0, 77583.0, 76630.0, 47353.0, 48920.0, 67472.0, 64100.0, 38872.0, 72217.0, 15038.0, 13624.0, 42554.0, 71952.0, 71952.0, 78041.0, 63972.0, 52852.0, 62010.0, 83151.0, 46931.0, 85072.0, 73395.0, 62307.0, 58293.0, 47889.0, 24594.0, 24594.0, 69882.0, 24221.0, 22327.0, 61923.0, 35791.0, 35791.0, 35441.0, 19656.0, 7500.0, 71626.0, 75330.0, 34529.0, 48789.0, 34487.0, 35688.0, 35688.0, 53700.0, 73454.0, 71113.0, null, 31535.0, 80812.0, 40479.0, 29440.0, 38508.0, 69520.0, 18701.0, 18701.0, 69901.0, 47703.0, 71847.0, 42033.0, 51983.0, 68655.0, 68655.0, 38285.0, 79419.0, 57338.0, 42523.0, 42523.0, 31761.0, 65747.0, 17144.0, 17144.0, null, 84618.0, 84618.0, 66375.0, 42213.0, null, 51141.0, 15072.0, 7500.0, 17117.0, 65569.0, 28457.0, 68142.0, 48794.0, 63404.0, 49669.0, 55761.0, 78331.0, 37971.0, 30368.0, 34043.0, 54111.0, 69932.0, 39665.0, 93404.0, 38680.0, 24570.0, 64961.0, 23748.0, 45989.0, 23331.0, 70421.0, 23091.0, 24683.0, 157243.0, 54222.0, 73455.0, 84906.0, 84906.0, 47025.0, 44529.0, 31560.0, 66973.0, 41154.0, 64590.0, 50611.0, 83273.0, 81702.0, 24401.0, 42557.0, 7500.0, 78416.0, 44794.0, 44794.0, 69719.0, 62568.0, 42231.0, 20130.0, 20130.0, 42429.0, 42429.0, 36640.0, 78901.0, 66476.0, 31056.0, 46310.0, 65819.0]}],                        {\"paper_bgcolor\": \"rgb(243,243,243)\", \"plot_bgcolor\": \"rgb(243,243,243)\", \"template\": {\"data\": {\"bar\": [{\"error_x\": {\"color\": \"#2a3f5f\"}, \"error_y\": {\"color\": \"#2a3f5f\"}, \"marker\": {\"line\": {\"color\": \"#E5ECF6\", \"width\": 0.5}}, \"type\": \"bar\"}], \"barpolar\": [{\"marker\": {\"line\": {\"color\": \"#E5ECF6\", \"width\": 0.5}}, \"type\": \"barpolar\"}], \"carpet\": [{\"aaxis\": {\"endlinecolor\": \"#2a3f5f\", \"gridcolor\": \"white\", \"linecolor\": \"white\", \"minorgridcolor\": \"white\", \"startlinecolor\": \"#2a3f5f\"}, \"baxis\": {\"endlinecolor\": \"#2a3f5f\", \"gridcolor\": \"white\", \"linecolor\": \"white\", \"minorgridcolor\": \"white\", \"startlinecolor\": \"#2a3f5f\"}, \"type\": \"carpet\"}], \"choropleth\": [{\"colorbar\": {\"outlinewidth\": 0, \"ticks\": \"\"}, \"type\": \"choropleth\"}], \"contour\": [{\"colorbar\": {\"outlinewidth\": 0, \"ticks\": \"\"}, \"colorscale\": [[0.0, \"#0d0887\"], [0.1111111111111111, \"#46039f\"], [0.2222222222222222, \"#7201a8\"], [0.3333333333333333, \"#9c179e\"], [0.4444444444444444, \"#bd3786\"], [0.5555555555555556, \"#d8576b\"], [0.6666666666666666, \"#ed7953\"], [0.7777777777777778, \"#fb9f3a\"], [0.8888888888888888, \"#fdca26\"], [1.0, \"#f0f921\"]], \"type\": \"contour\"}], \"contourcarpet\": [{\"colorbar\": {\"outlinewidth\": 0, \"ticks\": \"\"}, \"type\": \"contourcarpet\"}], \"heatmap\": [{\"colorbar\": {\"outlinewidth\": 0, \"ticks\": \"\"}, \"colorscale\": [[0.0, \"#0d0887\"], [0.1111111111111111, \"#46039f\"], [0.2222222222222222, \"#7201a8\"], [0.3333333333333333, \"#9c179e\"], [0.4444444444444444, \"#bd3786\"], [0.5555555555555556, \"#d8576b\"], [0.6666666666666666, \"#ed7953\"], [0.7777777777777778, \"#fb9f3a\"], [0.8888888888888888, \"#fdca26\"], [1.0, \"#f0f921\"]], \"type\": \"heatmap\"}], \"heatmapgl\": [{\"colorbar\": {\"outlinewidth\": 0, \"ticks\": \"\"}, \"colorscale\": [[0.0, \"#0d0887\"], [0.1111111111111111, \"#46039f\"], [0.2222222222222222, \"#7201a8\"], [0.3333333333333333, \"#9c179e\"], [0.4444444444444444, \"#bd3786\"], [0.5555555555555556, \"#d8576b\"], [0.6666666666666666, \"#ed7953\"], [0.7777777777777778, \"#fb9f3a\"], [0.8888888888888888, \"#fdca26\"], [1.0, \"#f0f921\"]], \"type\": \"heatmapgl\"}], \"histogram\": [{\"marker\": {\"colorbar\": {\"outlinewidth\": 0, \"ticks\": \"\"}}, \"type\": \"histogram\"}], \"histogram2d\": [{\"colorbar\": {\"outlinewidth\": 0, \"ticks\": \"\"}, \"colorscale\": [[0.0, \"#0d0887\"], [0.1111111111111111, \"#46039f\"], [0.2222222222222222, \"#7201a8\"], [0.3333333333333333, \"#9c179e\"], [0.4444444444444444, \"#bd3786\"], [0.5555555555555556, \"#d8576b\"], [0.6666666666666666, \"#ed7953\"], [0.7777777777777778, \"#fb9f3a\"], [0.8888888888888888, \"#fdca26\"], [1.0, \"#f0f921\"]], \"type\": \"histogram2d\"}], \"histogram2dcontour\": [{\"colorbar\": {\"outlinewidth\": 0, \"ticks\": \"\"}, \"colorscale\": [[0.0, \"#0d0887\"], [0.1111111111111111, \"#46039f\"], [0.2222222222222222, \"#7201a8\"], [0.3333333333333333, \"#9c179e\"], [0.4444444444444444, \"#bd3786\"], [0.5555555555555556, \"#d8576b\"], [0.6666666666666666, \"#ed7953\"], [0.7777777777777778, \"#fb9f3a\"], [0.8888888888888888, \"#fdca26\"], [1.0, \"#f0f921\"]], \"type\": \"histogram2dcontour\"}], \"mesh3d\": [{\"colorbar\": {\"outlinewidth\": 0, \"ticks\": \"\"}, \"type\": \"mesh3d\"}], \"parcoords\": [{\"line\": {\"colorbar\": {\"outlinewidth\": 0, \"ticks\": \"\"}}, \"type\": \"parcoords\"}], \"pie\": [{\"automargin\": true, \"type\": \"pie\"}], \"scatter\": [{\"marker\": {\"colorbar\": {\"outlinewidth\": 0, \"ticks\": \"\"}}, \"type\": \"scatter\"}], \"scatter3d\": [{\"line\": {\"colorbar\": {\"outlinewidth\": 0, \"ticks\": \"\"}}, \"marker\": {\"colorbar\": {\"outlinewidth\": 0, \"ticks\": \"\"}}, \"type\": \"scatter3d\"}], \"scattercarpet\": [{\"marker\": {\"colorbar\": {\"outlinewidth\": 0, \"ticks\": \"\"}}, \"type\": \"scattercarpet\"}], \"scattergeo\": [{\"marker\": {\"colorbar\": {\"outlinewidth\": 0, \"ticks\": \"\"}}, \"type\": \"scattergeo\"}], \"scattergl\": [{\"marker\": {\"colorbar\": {\"outlinewidth\": 0, \"ticks\": \"\"}}, \"type\": \"scattergl\"}], \"scattermapbox\": [{\"marker\": {\"colorbar\": {\"outlinewidth\": 0, \"ticks\": \"\"}}, \"type\": \"scattermapbox\"}], \"scatterpolar\": [{\"marker\": {\"colorbar\": {\"outlinewidth\": 0, \"ticks\": \"\"}}, \"type\": \"scatterpolar\"}], \"scatterpolargl\": [{\"marker\": {\"colorbar\": {\"outlinewidth\": 0, \"ticks\": \"\"}}, \"type\": \"scatterpolargl\"}], \"scatterternary\": [{\"marker\": {\"colorbar\": {\"outlinewidth\": 0, \"ticks\": \"\"}}, \"type\": \"scatterternary\"}], \"surface\": [{\"colorbar\": {\"outlinewidth\": 0, \"ticks\": \"\"}, \"colorscale\": [[0.0, \"#0d0887\"], [0.1111111111111111, \"#46039f\"], [0.2222222222222222, \"#7201a8\"], [0.3333333333333333, \"#9c179e\"], [0.4444444444444444, \"#bd3786\"], [0.5555555555555556, \"#d8576b\"], [0.6666666666666666, \"#ed7953\"], [0.7777777777777778, \"#fb9f3a\"], [0.8888888888888888, \"#fdca26\"], [1.0, \"#f0f921\"]], \"type\": \"surface\"}], \"table\": [{\"cells\": {\"fill\": {\"color\": \"#EBF0F8\"}, \"line\": {\"color\": \"white\"}}, \"header\": {\"fill\": {\"color\": \"#C8D4E3\"}, \"line\": {\"color\": \"white\"}}, \"type\": \"table\"}]}, \"layout\": {\"annotationdefaults\": {\"arrowcolor\": \"#2a3f5f\", \"arrowhead\": 0, \"arrowwidth\": 1}, \"autotypenumbers\": \"strict\", \"coloraxis\": {\"colorbar\": {\"outlinewidth\": 0, \"ticks\": \"\"}}, \"colorscale\": {\"diverging\": [[0, \"#8e0152\"], [0.1, \"#c51b7d\"], [0.2, \"#de77ae\"], [0.3, \"#f1b6da\"], [0.4, \"#fde0ef\"], [0.5, \"#f7f7f7\"], [0.6, \"#e6f5d0\"], [0.7, \"#b8e186\"], [0.8, \"#7fbc41\"], [0.9, \"#4d9221\"], [1, \"#276419\"]], \"sequential\": [[0.0, \"#0d0887\"], [0.1111111111111111, \"#46039f\"], [0.2222222222222222, \"#7201a8\"], [0.3333333333333333, \"#9c179e\"], [0.4444444444444444, \"#bd3786\"], [0.5555555555555556, \"#d8576b\"], [0.6666666666666666, \"#ed7953\"], [0.7777777777777778, \"#fb9f3a\"], [0.8888888888888888, \"#fdca26\"], [1.0, \"#f0f921\"]], \"sequentialminus\": [[0.0, \"#0d0887\"], [0.1111111111111111, \"#46039f\"], [0.2222222222222222, \"#7201a8\"], [0.3333333333333333, \"#9c179e\"], [0.4444444444444444, \"#bd3786\"], [0.5555555555555556, \"#d8576b\"], [0.6666666666666666, \"#ed7953\"], [0.7777777777777778, \"#fb9f3a\"], [0.8888888888888888, \"#fdca26\"], [1.0, \"#f0f921\"]]}, \"colorway\": [\"#636efa\", \"#EF553B\", \"#00cc96\", \"#ab63fa\", \"#FFA15A\", \"#19d3f3\", \"#FF6692\", \"#B6E880\", \"#FF97FF\", \"#FECB52\"], \"font\": {\"color\": \"#2a3f5f\"}, \"geo\": {\"bgcolor\": \"white\", \"lakecolor\": \"white\", \"landcolor\": \"#E5ECF6\", \"showlakes\": true, \"showland\": true, \"subunitcolor\": \"white\"}, \"hoverlabel\": {\"align\": \"left\"}, \"hovermode\": \"closest\", \"mapbox\": {\"style\": \"light\"}, \"paper_bgcolor\": \"white\", \"plot_bgcolor\": \"#E5ECF6\", \"polar\": {\"angularaxis\": {\"gridcolor\": \"white\", \"linecolor\": \"white\", \"ticks\": \"\"}, \"bgcolor\": \"#E5ECF6\", \"radialaxis\": {\"gridcolor\": \"white\", \"linecolor\": \"white\", \"ticks\": \"\"}}, \"scene\": {\"xaxis\": {\"backgroundcolor\": \"#E5ECF6\", \"gridcolor\": \"white\", \"gridwidth\": 2, \"linecolor\": \"white\", \"showbackground\": true, \"ticks\": \"\", \"zerolinecolor\": \"white\"}, \"yaxis\": {\"backgroundcolor\": \"#E5ECF6\", \"gridcolor\": \"white\", \"gridwidth\": 2, \"linecolor\": \"white\", \"showbackground\": true, \"ticks\": \"\", \"zerolinecolor\": \"white\"}, \"zaxis\": {\"backgroundcolor\": \"#E5ECF6\", \"gridcolor\": \"white\", \"gridwidth\": 2, \"linecolor\": \"white\", \"showbackground\": true, \"ticks\": \"\", \"zerolinecolor\": \"white\"}}, \"shapedefaults\": {\"line\": {\"color\": \"#2a3f5f\"}}, \"ternary\": {\"aaxis\": {\"gridcolor\": \"white\", \"linecolor\": \"white\", \"ticks\": \"\"}, \"baxis\": {\"gridcolor\": \"white\", \"linecolor\": \"white\", \"ticks\": \"\"}, \"bgcolor\": \"#E5ECF6\", \"caxis\": {\"gridcolor\": \"white\", \"linecolor\": \"white\", \"ticks\": \"\"}}, \"title\": {\"x\": 0.05}, \"xaxis\": {\"automargin\": true, \"gridcolor\": \"white\", \"linecolor\": \"white\", \"ticks\": \"\", \"title\": {\"standoff\": 15}, \"zerolinecolor\": \"white\", \"zerolinewidth\": 2}, \"yaxis\": {\"automargin\": true, \"gridcolor\": \"white\", \"linecolor\": \"white\", \"ticks\": \"\", \"title\": {\"standoff\": 15}, \"zerolinecolor\": \"white\", \"zerolinewidth\": 2}}}, \"title\": {\"text\": \"IncomeDistribution in costumer attrition\"}, \"xaxis\": {\"gridcolor\": \"rgb(255,255,255)\", \"gridwidth\": 2, \"ticklen\": 5, \"title\": {\"text\": \"Income\"}, \"zerolinewidth\": 1}, \"yaxis\": {\"gridcolor\": \"rgb(255,255,255)\", \"gridwidth\": 2, \"ticklen\": 5, \"title\": {\"text\": \"percent\"}, \"zerolinewidth\": 1}},                        {\"responsive\": true}                    ).then(function(){\n",
       "                            \n",
       "var gd = document.getElementById('8e64afe8-9835-4aca-a8f2-64f35d721b67');\n",
       "var x = new MutationObserver(function (mutations, observer) {{\n",
       "        var display = window.getComputedStyle(gd).display;\n",
       "        if (!display || display === 'none') {{\n",
       "            console.log([gd, 'removed!']);\n",
       "            Plotly.purge(gd);\n",
       "            observer.disconnect();\n",
       "        }}\n",
       "}});\n",
       "\n",
       "// Listen for the removal of the full notebook cells\n",
       "var notebookContainer = gd.closest('#notebook-container');\n",
       "if (notebookContainer) {{\n",
       "    x.observe(notebookContainer, {childList: true});\n",
       "}}\n",
       "\n",
       "// Listen for the clearing of the current output cell\n",
       "var outputEl = gd.closest('.output');\n",
       "if (outputEl) {{\n",
       "    x.observe(outputEl, {childList: true});\n",
       "}}\n",
       "\n",
       "                        })                };                });            </script>        </div>"
      ]
     },
     "metadata": {},
     "output_type": "display_data"
    }
   ],
   "source": [
    "#it shows that the costumers with the age 46 has the highest percet and churn.\n",
    "histogram(num_col[1])"
   ]
  },
  {
   "cell_type": "markdown",
   "id": "working-poland",
   "metadata": {
    "papermill": {
     "duration": 0.073552,
     "end_time": "2021-06-01T20:49:56.371989",
     "exception": false,
     "start_time": "2021-06-01T20:49:56.298437",
     "status": "completed"
    },
    "tags": []
   },
   "source": [
    "* for this part, the highest portion for taregt marketting for salary is 80_85k"
   ]
  },
  {
   "cell_type": "code",
   "execution_count": 43,
   "id": "editorial-pricing",
   "metadata": {
    "execution": {
     "iopub.execute_input": "2021-06-01T20:49:56.526381Z",
     "iopub.status.busy": "2021-06-01T20:49:56.525728Z",
     "iopub.status.idle": "2021-06-01T20:49:56.559267Z",
     "shell.execute_reply": "2021-06-01T20:49:56.559754Z",
     "shell.execute_reply.started": "2021-06-01T20:16:18.987051Z"
    },
    "papermill": {
     "duration": 0.11389,
     "end_time": "2021-06-01T20:49:56.559939",
     "exception": false,
     "start_time": "2021-06-01T20:49:56.446049",
     "status": "completed"
    },
    "tags": []
   },
   "outputs": [
    {
     "data": {
      "application/vnd.plotly.v1+json": {
       "config": {
        "linkText": "Export to plot.ly",
        "plotlyServerURL": "https://plot.ly",
        "showLink": false
       },
       "data": [
        {
         "histnorm": "percent",
         "marker": {
          "line": {
           "color": "black",
           "width": 0.3
          }
         },
         "name": "Target Marketting",
         "opacity": 0.8,
         "type": "histogram",
         "x": [
          189,
          464,
          6,
          336,
          769,
          431,
          63,
          408,
          1285,
          1248,
          12,
          709,
          4,
          539,
          158,
          13,
          292,
          46,
          522,
          229,
          14,
          38,
          1074,
          3,
          50,
          1285,
          292,
          345,
          67,
          154,
          145,
          322,
          322,
          1099,
          890,
          448,
          35,
          738,
          179,
          784,
          5,
          168,
          6,
          520,
          520,
          1296,
          303,
          462,
          530,
          194,
          194,
          6,
          179,
          16,
          1092,
          559,
          316,
          1462,
          199,
          199,
          73,
          96,
          56,
          45,
          1478,
          1478,
          80,
          392,
          177,
          577,
          5,
          464,
          16,
          297,
          997,
          23,
          23,
          797,
          823,
          823,
          180,
          416,
          314,
          342,
          63,
          70,
          912,
          420,
          6,
          712,
          712,
          39,
          514,
          14,
          565,
          667,
          34,
          1,
          56,
          298,
          488,
          817,
          558,
          2,
          3,
          777,
          840,
          88,
          40,
          40,
          100,
          29,
          1302,
          6,
          918,
          172,
          674,
          267,
          1239,
          1004,
          1170,
          163,
          2,
          267,
          856,
          688,
          464,
          836,
          14,
          345,
          19,
          7,
          172,
          778,
          79,
          1184,
          380,
          125,
          15,
          1074,
          3,
          124,
          124,
          1006,
          1006,
          10,
          88,
          953,
          3,
          163,
          507,
          349,
          817,
          48,
          1076,
          138,
          1184,
          10,
          1050,
          712,
          324,
          1001,
          173,
          1156,
          770,
          16,
          938,
          940,
          16,
          196,
          295,
          231,
          231,
          1060,
          46,
          778,
          995,
          704,
          50,
          20,
          822,
          721,
          896,
          217,
          693,
          691,
          816,
          483,
          32,
          1181,
          671,
          1009,
          972,
          11,
          139,
          15,
          15,
          450,
          452,
          556,
          158,
          380,
          313,
          703,
          1218,
          1218,
          1332,
          84,
          10,
          1032,
          19,
          489,
          176,
          652,
          724,
          100,
          606,
          159,
          676,
          967,
          1394,
          157,
          14,
          1276,
          2,
          14,
          918,
          980,
          202,
          51,
          5,
          45,
          437,
          437,
          965,
          483,
          204,
          510,
          19,
          165,
          763,
          1003,
          1148,
          984,
          941,
          799,
          1050,
          216,
          3,
          536,
          244,
          244,
          576,
          471,
          184,
          635,
          448,
          1311,
          526,
          1,
          1,
          1486,
          1492,
          1492,
          833,
          1259,
          1111,
          1111,
          710,
          882,
          960,
          1,
          1060,
          153,
          1218,
          584,
          15,
          416,
          75,
          722,
          503,
          77,
          1459,
          979,
          116,
          6,
          293,
          910,
          167,
          1200,
          389,
          504,
          1067,
          532,
          1,
          14,
          267,
          1039,
          4,
          918,
          897,
          897,
          908,
          847,
          543,
          618,
          968,
          152,
          96,
          986,
          1298,
          167,
          746,
          909,
          462,
          1324,
          57,
          91,
          714,
          714,
          830,
          1013,
          620,
          1017,
          162,
          490,
          115,
          899,
          899,
          1004,
          1004,
          982,
          459,
          169
         ]
        },
        {
         "histnorm": "percent",
         "marker": {
          "line": {
           "color": "black",
           "width": 0.3
          }
         },
         "name": "Non Target Marketting",
         "opacity": 0.8,
         "type": "histogram",
         "x": [
          134,
          10,
          78,
          384,
          384,
          450,
          140,
          3,
          16,
          63,
          18,
          53,
          5,
          213,
          275,
          40,
          308,
          266,
          80,
          454,
          454,
          27,
          184,
          155,
          423,
          7,
          1,
          71,
          7,
          378,
          1200,
          94,
          13,
          670,
          283,
          496,
          12,
          7,
          34,
          167,
          318,
          67,
          28,
          58,
          2,
          622,
          362,
          38,
          983,
          262,
          739,
          610,
          650,
          9,
          458,
          458,
          520,
          14,
          3,
          1,
          20,
          22,
          42,
          463,
          4,
          260,
          180,
          62,
          62,
          421,
          502,
          322,
          1099,
          863,
          399,
          85,
          97,
          3,
          315,
          738,
          381,
          247,
          711,
          30,
          30,
          288,
          212,
          173,
          604,
          482,
          531,
          531,
          448,
          9,
          9,
          230,
          496,
          33,
          10,
          4,
          600,
          493,
          6,
          4,
          4,
          29,
          835,
          16,
          760,
          70,
          68,
          68,
          9,
          9,
          325,
          9,
          9,
          121,
          16,
          561,
          376,
          341,
          595,
          179,
          23,
          594,
          852,
          158,
          384,
          14,
          2,
          1,
          216,
          428,
          10,
          606,
          11,
          588,
          279,
          546,
          277,
          948,
          664,
          268,
          530,
          16,
          587,
          6,
          158,
          3,
          8,
          12,
          508,
          11,
          234,
          992,
          125,
          174,
          1001,
          388,
          65,
          460,
          219,
          5,
          31,
          117,
          30,
          236,
          6,
          2,
          120,
          9,
          9,
          145,
          200,
          532,
          532,
          30,
          151,
          966,
          37,
          5,
          10,
          9,
          18,
          18,
          20,
          629,
          158,
          201,
          964,
          72,
          123,
          159,
          6,
          6,
          209,
          100,
          1170,
          71,
          5,
          5,
          376,
          387,
          357,
          625,
          209,
          1,
          1,
          641,
          12,
          465,
          154,
          53,
          66,
          4,
          129,
          129,
          185,
          1023,
          338,
          1,
          647,
          163,
          19,
          182,
          1,
          779,
          32,
          42,
          42,
          10,
          10,
          4,
          19,
          19,
          459,
          492,
          383,
          209,
          1043,
          400,
          3,
          691,
          783,
          4,
          43,
          10,
          63,
          16,
          27,
          27,
          71,
          402,
          144,
          32,
          32,
          32,
          56,
          74,
          8,
          26,
          15,
          162,
          47,
          0,
          129,
          16,
          520,
          0,
          71,
          5,
          931,
          666,
          5,
          27,
          24,
          4,
          25,
          25,
          391,
          81,
          14,
          224,
          412,
          1205,
          304,
          76,
          584,
          422,
          269,
          26,
          28,
          613,
          163,
          1,
          22,
          279,
          113,
          70,
          261,
          454,
          8,
          546,
          96,
          452,
          20,
          658,
          451,
          395,
          1035,
          365,
          181,
          6,
          331,
          3,
          256,
          2,
          14,
          233,
          5,
          378,
          12,
          10,
          2,
          30,
          9,
          279,
          881,
          19,
          305,
          6,
          69,
          69,
          344,
          490,
          1349,
          153,
          84,
          84,
          1000,
          14,
          52,
          52,
          301,
          15,
          519,
          238,
          620,
          620,
          572,
          443,
          620,
          620,
          252,
          796,
          410,
          1,
          507,
          55,
          327,
          397,
          397,
          760,
          29,
          105,
          1126,
          280,
          39,
          68,
          108,
          108,
          16,
          641,
          8,
          25,
          102,
          3,
          1000,
          1000,
          820,
          86,
          86,
          13,
          217,
          352,
          352,
          9,
          240,
          2,
          3,
          412,
          736,
          8,
          217,
          23,
          11,
          22,
          580,
          10,
          112,
          112,
          11,
          2,
          8,
          182,
          227,
          227,
          290,
          284,
          173,
          656,
          656,
          953,
          8,
          18,
          37,
          69,
          56,
          38,
          38,
          8,
          626,
          112,
          547,
          35,
          795,
          56,
          895,
          899,
          178,
          14,
          265,
          265,
          4,
          848,
          962,
          25,
          1,
          1,
          212,
          11,
          2,
          347,
          73,
          426,
          1,
          1,
          36,
          733,
          39,
          523,
          1083,
          98,
          98,
          99,
          509,
          527,
          340,
          340,
          434,
          434,
          102,
          208,
          438,
          125,
          1308,
          64,
          7,
          7,
          200,
          1001,
          36,
          18,
          18,
          673,
          6,
          787,
          833,
          284,
          605,
          227,
          800,
          861,
          62,
          23,
          11,
          25,
          22,
          25,
          25,
          161,
          315,
          522,
          33,
          342,
          22,
          359,
          233,
          370,
          5,
          10,
          8,
          138,
          245,
          68,
          434,
          631,
          1156,
          398,
          230,
          2,
          122,
          19,
          386,
          379,
          243,
          358,
          358,
          258,
          65,
          846,
          724,
          815,
          2,
          819,
          46,
          5,
          5,
          479,
          283,
          909,
          156,
          213,
          123,
          37,
          154,
          154,
          51,
          141,
          160,
          557,
          38,
          29,
          29,
          29,
          420,
          8,
          229,
          1230,
          91,
          11,
          121,
          13,
          17,
          8,
          85,
          5,
          302,
          728,
          9,
          9,
          110,
          711,
          0,
          493,
          23,
          2,
          415,
          241,
          34,
          1050,
          135,
          135,
          4,
          76,
          384,
          275,
          254,
          3,
          957,
          293,
          777,
          63,
          21,
          245,
          245,
          12,
          17,
          24,
          173,
          754,
          11,
          219,
          373,
          15,
          15,
          1171,
          371,
          23,
          8,
          8,
          801,
          20,
          23,
          48,
          244,
          562,
          79,
          79,
          1,
          4,
          8,
          707,
          356,
          356,
          743,
          235,
          393,
          28,
          48,
          482,
          167,
          879,
          6,
          367,
          231,
          19,
          24,
          595,
          244,
          48,
          4,
          491,
          4,
          38,
          254,
          755,
          410,
          410,
          21,
          598,
          488,
          15,
          15,
          605,
          0,
          702,
          2,
          239,
          5,
          1,
          183,
          771,
          83,
          170,
          39,
          33,
          51,
          0,
          59,
          1063,
          789,
          63,
          228,
          512,
          11,
          275,
          7,
          355,
          512,
          204,
          6,
          235,
          33,
          239,
          11,
          5,
          252,
          556,
          27,
          3,
          317,
          897,
          167,
          16,
          48,
          2,
          2,
          42,
          97,
          24,
          9,
          38,
          56,
          21,
          4,
          37,
          187,
          229,
          826,
          513,
          313,
          760,
          18,
          29,
          8,
          329,
          571,
          40,
          28,
          5,
          5,
          6,
          2,
          9,
          478,
          110,
          296,
          8,
          8,
          674,
          2,
          635,
          635,
          399,
          294,
          913,
          224,
          7,
          731,
          2,
          281,
          86,
          721,
          551,
          6,
          471,
          22,
          519,
          140,
          51,
          14,
          31,
          421,
          3,
          534,
          768,
          1,
          235,
          594,
          174,
          2,
          24,
          6,
          1142,
          80,
          41,
          105,
          1181,
          1181,
          284,
          7,
          14,
          26,
          604,
          16,
          65,
          65,
          2,
          21,
          26,
          207,
          207,
          513,
          299,
          525,
          155,
          7,
          68,
          19,
          22,
          494,
          353,
          1253,
          50,
          12,
          443,
          9,
          182,
          521,
          395,
          10,
          977,
          977,
          603,
          51,
          5,
          7,
          18,
          1,
          273,
          277,
          425,
          425,
          35,
          40,
          40,
          171,
          709,
          554,
          191,
          230,
          11,
          11,
          131,
          1073,
          56,
          4,
          652,
          226,
          962,
          186,
          483,
          483,
          97,
          303,
          18,
          17,
          14,
          178,
          240,
          130,
          614,
          1288,
          563,
          2,
          2,
          43,
          189,
          6,
          67,
          67,
          240,
          240,
          95,
          210,
          344,
          2,
          9,
          179,
          130,
          306,
          189,
          267,
          14,
          505,
          505,
          183,
          758,
          758,
          505,
          824,
          918,
          526,
          66,
          151,
          13,
          5,
          5,
          6,
          22,
          0,
          690,
          8,
          6,
          2,
          4,
          792,
          545,
          31,
          31,
          280,
          109,
          15,
          382,
          1,
          664,
          27,
          27,
          13,
          132,
          88,
          448,
          129,
          371,
          750,
          10,
          2,
          40,
          194,
          99,
          223,
          81,
          57,
          340,
          336,
          20,
          30,
          407,
          90,
          423,
          5,
          378,
          61,
          70,
          173,
          3,
          595,
          595,
          10,
          82,
          15,
          15,
          220,
          517,
          615,
          11,
          480,
          398,
          398,
          752,
          464,
          28,
          154,
          23,
          1,
          53,
          741,
          230,
          5,
          456,
          143,
          31,
          2,
          0,
          625,
          407,
          254,
          3,
          269,
          269,
          7,
          301,
          375,
          10,
          12,
          3,
          258,
          1,
          1,
          1215,
          6,
          36,
          19,
          106,
          871,
          368,
          233,
          11,
          1193,
          441,
          87,
          20,
          14,
          110,
          32,
          574,
          85,
          332,
          332,
          642,
          642,
          35,
          2,
          2,
          30,
          5,
          46,
          587,
          587,
          354,
          9,
          97,
          26,
          376,
          390,
          390,
          476,
          121,
          18,
          627,
          12,
          806,
          205,
          4,
          23,
          790,
          10,
          13,
          40,
          98,
          12,
          11,
          62,
          172,
          368,
          368,
          241,
          112,
          406,
          406,
          95,
          709,
          709,
          90,
          128,
          8,
          261,
          29,
          298,
          377,
          919,
          919,
          25,
          163,
          162,
          162,
          5,
          5,
          198,
          215,
          112,
          112,
          2,
          198,
          1493,
          1090,
          295,
          1149,
          70,
          586,
          77,
          539,
          200,
          794,
          23,
          387,
          774,
          19,
          11,
          11,
          328,
          328,
          901,
          901,
          901,
          866,
          37,
          308,
          753,
          1048,
          960,
          888,
          31,
          4,
          19,
          14,
          7,
          32,
          654,
          204,
          707,
          499,
          172,
          2,
          295,
          576,
          8,
          381,
          16,
          44,
          44,
          371,
          735,
          386,
          548,
          6,
          1000,
          206,
          483,
          611,
          7,
          19,
          265,
          292,
          292,
          161,
          713,
          6,
          593,
          26,
          86,
          547,
          1166,
          349,
          365,
          349,
          515,
          88,
          10,
          53,
          606,
          78,
          5,
          356,
          533,
          216,
          183,
          196,
          91,
          575,
          726,
          5,
          12,
          938,
          56,
          56,
          445,
          248,
          284,
          239,
          52,
          25,
          28,
          614,
          322,
          73,
          1241,
          529,
          529,
          5,
          35,
          447,
          81,
          123,
          587,
          587,
          9,
          212,
          293,
          376,
          570,
          23,
          867,
          10,
          789,
          789,
          757,
          757,
          757,
          29,
          46,
          159,
          70,
          536,
          291,
          318,
          379,
          378,
          333,
          635,
          635,
          635,
          12,
          12,
          313,
          0,
          749,
          203,
          157,
          22,
          39,
          42,
          1,
          4,
          4,
          750,
          25,
          10,
          4,
          407,
          619,
          629,
          30,
          320,
          320,
          3,
          215,
          311,
          29,
          112,
          7,
          7,
          5,
          1103,
          1103,
          561,
          39,
          404,
          375,
          375,
          10,
          4,
          23,
          411,
          411,
          211,
          446,
          239,
          7,
          374,
          221,
          1047,
          1206,
          20,
          274,
          27,
          19,
          738,
          889,
          146,
          315,
          18,
          18,
          815,
          9,
          247,
          1115,
          68,
          185,
          54,
          411,
          7,
          182,
          251,
          28,
          20,
          14,
          112,
          141,
          50,
          166,
          562,
          72,
          315,
          438,
          19,
          134,
          283,
          2,
          75,
          347,
          347,
          492,
          15,
          364,
          206,
          135,
          861,
          1016,
          8,
          432,
          270,
          270,
          516,
          410,
          159,
          1,
          350,
          350,
          403,
          218,
          560,
          15,
          729,
          1224,
          1121,
          172,
          172,
          31,
          266,
          12,
          1245,
          224,
          479,
          199,
          18,
          30,
          13,
          45,
          13,
          21,
          966,
          87,
          5,
          13,
          35,
          621,
          34,
          34,
          378,
          378,
          430,
          19,
          2,
          777,
          160,
          4,
          853,
          123,
          572,
          141,
          492,
          572,
          93,
          2,
          77,
          42,
          410,
          22,
          0,
          387,
          127,
          44,
          465,
          689,
          532,
          983,
          686,
          393,
          43,
          15,
          505,
          600,
          792,
          630,
          483,
          213,
          458,
          247,
          90,
          182,
          466,
          243,
          960,
          399,
          35,
          707,
          171,
          1379,
          60,
          224,
          204,
          39,
          39,
          3,
          3,
          144,
          46,
          264,
          202,
          202,
          101,
          17,
          84,
          581,
          952,
          30,
          30,
          47,
          925,
          965,
          539,
          324,
          457,
          2,
          1017,
          187,
          9,
          19,
          99,
          14,
          14,
          15,
          604,
          249,
          33,
          22,
          8,
          1,
          41,
          104,
          8,
          111,
          111,
          618,
          6,
          56,
          6,
          515,
          293,
          41,
          107,
          8,
          2,
          45,
          527,
          12,
          8,
          59,
          3,
          30,
          35,
          225,
          9,
          493,
          493,
          11,
          3,
          1285,
          440,
          80,
          691,
          24,
          6,
          6,
          6,
          53,
          650,
          26,
          26,
          1168,
          12,
          31,
          12,
          89,
          255,
          760,
          28,
          22,
          9,
          12,
          138,
          520,
          972,
          424,
          556,
          556,
          571,
          571,
          398,
          398,
          957,
          171,
          944,
          135,
          28,
          26,
          45,
          104,
          400,
          4,
          16,
          9,
          516,
          597,
          4,
          1,
          1,
          656,
          11,
          33,
          29,
          554,
          9,
          742,
          37,
          24,
          81,
          6,
          17,
          21,
          23,
          162,
          708,
          747,
          16,
          158,
          958,
          46,
          167,
          387,
          152,
          97,
          0,
          30,
          1,
          293,
          330,
          270,
          1076,
          16,
          62,
          5,
          637,
          418,
          3,
          3,
          14,
          587,
          229,
          255,
          825,
          1132,
          812,
          34,
          34,
          18,
          8,
          194,
          37,
          110,
          519,
          23,
          23,
          12,
          24,
          2,
          71,
          1315,
          344,
          2,
          1,
          1,
          22,
          31,
          34,
          789,
          4,
          307,
          46,
          18,
          135,
          67,
          161,
          191,
          860,
          17,
          17,
          1396,
          199,
          583,
          509,
          473,
          526,
          526,
          27,
          30,
          410,
          6,
          15,
          15,
          5,
          43,
          693,
          508,
          116,
          116,
          80,
          22,
          336,
          553,
          408,
          675,
          68,
          297,
          297,
          367,
          167,
          292,
          292,
          11,
          582,
          675,
          557,
          184,
          1142,
          504,
          2,
          12,
          145,
          2,
          135,
          1449,
          829,
          829,
          10,
          76,
          412,
          24,
          335,
          612,
          3,
          3,
          741,
          22,
          100,
          625,
          389,
          24,
          23,
          102,
          102,
          6,
          13,
          175,
          7,
          4,
          57,
          57,
          176,
          957,
          15,
          111,
          398,
          445,
          445,
          565,
          141,
          445,
          327,
          6,
          197,
          38,
          25,
          243,
          457,
          623,
          544,
          162,
          631,
          189,
          1073,
          736,
          19,
          64,
          64,
          274,
          7,
          205,
          99,
          215,
          317,
          537,
          565,
          13,
          285,
          366,
          4,
          4,
          350,
          1252,
          7,
          37,
          934,
          518,
          51,
          171,
          12,
          99,
          734,
          1045,
          36,
          51,
          12,
          85,
          562,
          6,
          717,
          7,
          29,
          8,
          1020,
          561,
          680,
          9,
          162,
          67,
          26,
          524,
          138,
          18,
          856,
          864,
          864,
          85,
          164,
          152,
          68,
          908,
          53,
          675,
          208,
          9,
          4,
          653,
          350,
          30,
          43,
          43,
          369,
          736,
          794,
          1012,
          22,
          3,
          203,
          203,
          32,
          81,
          6,
          76,
          350,
          133,
          100,
          188,
          17,
          502,
          3,
          13,
          674,
          202,
          228,
          544,
          811,
          342,
          856,
          34,
          34,
          45,
          45,
          5,
          201,
          201,
          639,
          13,
          30,
          444,
          372,
          255,
          184,
          238,
          162,
          509,
          23,
          816,
          4,
          10,
          29,
          656,
          656,
          482,
          928,
          714,
          371,
          407,
          41,
          494,
          272,
          87,
          173,
          29,
          1,
          1,
          292,
          8,
          5,
          92,
          27,
          27,
          25,
          25,
          0,
          546,
          555,
          68,
          351,
          19,
          73,
          73,
          263,
          982,
          495,
          264,
          15,
          769,
          5,
          17,
          120,
          627,
          12,
          12,
          312,
          359,
          737,
          11,
          631,
          456,
          456,
          2,
          751,
          143,
          14,
          14,
          19,
          346,
          18,
          18,
          48,
          684,
          684,
          712,
          309,
          231,
          144,
          8,
          1,
          12,
          397,
          24,
          897,
          25,
          734,
          166,
          136,
          756,
          5,
          35,
          20,
          267,
          412,
          127,
          1279,
          11,
          28,
          382,
          6,
          138,
          104,
          479,
          35,
          8,
          20,
          199,
          901,
          997,
          997,
          508,
          538,
          62,
          466,
          44,
          920,
          459,
          433,
          563,
          73,
          192,
          5,
          453,
          54,
          54,
          273,
          362,
          24,
          0,
          0,
          55,
          55,
          15,
          321,
          372,
          5,
          185,
          267
         ]
        }
       ],
       "layout": {
        "paper_bgcolor": "rgb(243,243,243)",
        "plot_bgcolor": "rgb(243,243,243)",
        "template": {
         "data": {
          "bar": [
           {
            "error_x": {
             "color": "#2a3f5f"
            },
            "error_y": {
             "color": "#2a3f5f"
            },
            "marker": {
             "line": {
              "color": "#E5ECF6",
              "width": 0.5
             }
            },
            "type": "bar"
           }
          ],
          "barpolar": [
           {
            "marker": {
             "line": {
              "color": "#E5ECF6",
              "width": 0.5
             }
            },
            "type": "barpolar"
           }
          ],
          "carpet": [
           {
            "aaxis": {
             "endlinecolor": "#2a3f5f",
             "gridcolor": "white",
             "linecolor": "white",
             "minorgridcolor": "white",
             "startlinecolor": "#2a3f5f"
            },
            "baxis": {
             "endlinecolor": "#2a3f5f",
             "gridcolor": "white",
             "linecolor": "white",
             "minorgridcolor": "white",
             "startlinecolor": "#2a3f5f"
            },
            "type": "carpet"
           }
          ],
          "choropleth": [
           {
            "colorbar": {
             "outlinewidth": 0,
             "ticks": ""
            },
            "type": "choropleth"
           }
          ],
          "contour": [
           {
            "colorbar": {
             "outlinewidth": 0,
             "ticks": ""
            },
            "colorscale": [
             [
              0.0,
              "#0d0887"
             ],
             [
              0.1111111111111111,
              "#46039f"
             ],
             [
              0.2222222222222222,
              "#7201a8"
             ],
             [
              0.3333333333333333,
              "#9c179e"
             ],
             [
              0.4444444444444444,
              "#bd3786"
             ],
             [
              0.5555555555555556,
              "#d8576b"
             ],
             [
              0.6666666666666666,
              "#ed7953"
             ],
             [
              0.7777777777777778,
              "#fb9f3a"
             ],
             [
              0.8888888888888888,
              "#fdca26"
             ],
             [
              1.0,
              "#f0f921"
             ]
            ],
            "type": "contour"
           }
          ],
          "contourcarpet": [
           {
            "colorbar": {
             "outlinewidth": 0,
             "ticks": ""
            },
            "type": "contourcarpet"
           }
          ],
          "heatmap": [
           {
            "colorbar": {
             "outlinewidth": 0,
             "ticks": ""
            },
            "colorscale": [
             [
              0.0,
              "#0d0887"
             ],
             [
              0.1111111111111111,
              "#46039f"
             ],
             [
              0.2222222222222222,
              "#7201a8"
             ],
             [
              0.3333333333333333,
              "#9c179e"
             ],
             [
              0.4444444444444444,
              "#bd3786"
             ],
             [
              0.5555555555555556,
              "#d8576b"
             ],
             [
              0.6666666666666666,
              "#ed7953"
             ],
             [
              0.7777777777777778,
              "#fb9f3a"
             ],
             [
              0.8888888888888888,
              "#fdca26"
             ],
             [
              1.0,
              "#f0f921"
             ]
            ],
            "type": "heatmap"
           }
          ],
          "heatmapgl": [
           {
            "colorbar": {
             "outlinewidth": 0,
             "ticks": ""
            },
            "colorscale": [
             [
              0.0,
              "#0d0887"
             ],
             [
              0.1111111111111111,
              "#46039f"
             ],
             [
              0.2222222222222222,
              "#7201a8"
             ],
             [
              0.3333333333333333,
              "#9c179e"
             ],
             [
              0.4444444444444444,
              "#bd3786"
             ],
             [
              0.5555555555555556,
              "#d8576b"
             ],
             [
              0.6666666666666666,
              "#ed7953"
             ],
             [
              0.7777777777777778,
              "#fb9f3a"
             ],
             [
              0.8888888888888888,
              "#fdca26"
             ],
             [
              1.0,
              "#f0f921"
             ]
            ],
            "type": "heatmapgl"
           }
          ],
          "histogram": [
           {
            "marker": {
             "colorbar": {
              "outlinewidth": 0,
              "ticks": ""
             }
            },
            "type": "histogram"
           }
          ],
          "histogram2d": [
           {
            "colorbar": {
             "outlinewidth": 0,
             "ticks": ""
            },
            "colorscale": [
             [
              0.0,
              "#0d0887"
             ],
             [
              0.1111111111111111,
              "#46039f"
             ],
             [
              0.2222222222222222,
              "#7201a8"
             ],
             [
              0.3333333333333333,
              "#9c179e"
             ],
             [
              0.4444444444444444,
              "#bd3786"
             ],
             [
              0.5555555555555556,
              "#d8576b"
             ],
             [
              0.6666666666666666,
              "#ed7953"
             ],
             [
              0.7777777777777778,
              "#fb9f3a"
             ],
             [
              0.8888888888888888,
              "#fdca26"
             ],
             [
              1.0,
              "#f0f921"
             ]
            ],
            "type": "histogram2d"
           }
          ],
          "histogram2dcontour": [
           {
            "colorbar": {
             "outlinewidth": 0,
             "ticks": ""
            },
            "colorscale": [
             [
              0.0,
              "#0d0887"
             ],
             [
              0.1111111111111111,
              "#46039f"
             ],
             [
              0.2222222222222222,
              "#7201a8"
             ],
             [
              0.3333333333333333,
              "#9c179e"
             ],
             [
              0.4444444444444444,
              "#bd3786"
             ],
             [
              0.5555555555555556,
              "#d8576b"
             ],
             [
              0.6666666666666666,
              "#ed7953"
             ],
             [
              0.7777777777777778,
              "#fb9f3a"
             ],
             [
              0.8888888888888888,
              "#fdca26"
             ],
             [
              1.0,
              "#f0f921"
             ]
            ],
            "type": "histogram2dcontour"
           }
          ],
          "mesh3d": [
           {
            "colorbar": {
             "outlinewidth": 0,
             "ticks": ""
            },
            "type": "mesh3d"
           }
          ],
          "parcoords": [
           {
            "line": {
             "colorbar": {
              "outlinewidth": 0,
              "ticks": ""
             }
            },
            "type": "parcoords"
           }
          ],
          "pie": [
           {
            "automargin": true,
            "type": "pie"
           }
          ],
          "scatter": [
           {
            "marker": {
             "colorbar": {
              "outlinewidth": 0,
              "ticks": ""
             }
            },
            "type": "scatter"
           }
          ],
          "scatter3d": [
           {
            "line": {
             "colorbar": {
              "outlinewidth": 0,
              "ticks": ""
             }
            },
            "marker": {
             "colorbar": {
              "outlinewidth": 0,
              "ticks": ""
             }
            },
            "type": "scatter3d"
           }
          ],
          "scattercarpet": [
           {
            "marker": {
             "colorbar": {
              "outlinewidth": 0,
              "ticks": ""
             }
            },
            "type": "scattercarpet"
           }
          ],
          "scattergeo": [
           {
            "marker": {
             "colorbar": {
              "outlinewidth": 0,
              "ticks": ""
             }
            },
            "type": "scattergeo"
           }
          ],
          "scattergl": [
           {
            "marker": {
             "colorbar": {
              "outlinewidth": 0,
              "ticks": ""
             }
            },
            "type": "scattergl"
           }
          ],
          "scattermapbox": [
           {
            "marker": {
             "colorbar": {
              "outlinewidth": 0,
              "ticks": ""
             }
            },
            "type": "scattermapbox"
           }
          ],
          "scatterpolar": [
           {
            "marker": {
             "colorbar": {
              "outlinewidth": 0,
              "ticks": ""
             }
            },
            "type": "scatterpolar"
           }
          ],
          "scatterpolargl": [
           {
            "marker": {
             "colorbar": {
              "outlinewidth": 0,
              "ticks": ""
             }
            },
            "type": "scatterpolargl"
           }
          ],
          "scatterternary": [
           {
            "marker": {
             "colorbar": {
              "outlinewidth": 0,
              "ticks": ""
             }
            },
            "type": "scatterternary"
           }
          ],
          "surface": [
           {
            "colorbar": {
             "outlinewidth": 0,
             "ticks": ""
            },
            "colorscale": [
             [
              0.0,
              "#0d0887"
             ],
             [
              0.1111111111111111,
              "#46039f"
             ],
             [
              0.2222222222222222,
              "#7201a8"
             ],
             [
              0.3333333333333333,
              "#9c179e"
             ],
             [
              0.4444444444444444,
              "#bd3786"
             ],
             [
              0.5555555555555556,
              "#d8576b"
             ],
             [
              0.6666666666666666,
              "#ed7953"
             ],
             [
              0.7777777777777778,
              "#fb9f3a"
             ],
             [
              0.8888888888888888,
              "#fdca26"
             ],
             [
              1.0,
              "#f0f921"
             ]
            ],
            "type": "surface"
           }
          ],
          "table": [
           {
            "cells": {
             "fill": {
              "color": "#EBF0F8"
             },
             "line": {
              "color": "white"
             }
            },
            "header": {
             "fill": {
              "color": "#C8D4E3"
             },
             "line": {
              "color": "white"
             }
            },
            "type": "table"
           }
          ]
         },
         "layout": {
          "annotationdefaults": {
           "arrowcolor": "#2a3f5f",
           "arrowhead": 0,
           "arrowwidth": 1
          },
          "autotypenumbers": "strict",
          "coloraxis": {
           "colorbar": {
            "outlinewidth": 0,
            "ticks": ""
           }
          },
          "colorscale": {
           "diverging": [
            [
             0,
             "#8e0152"
            ],
            [
             0.1,
             "#c51b7d"
            ],
            [
             0.2,
             "#de77ae"
            ],
            [
             0.3,
             "#f1b6da"
            ],
            [
             0.4,
             "#fde0ef"
            ],
            [
             0.5,
             "#f7f7f7"
            ],
            [
             0.6,
             "#e6f5d0"
            ],
            [
             0.7,
             "#b8e186"
            ],
            [
             0.8,
             "#7fbc41"
            ],
            [
             0.9,
             "#4d9221"
            ],
            [
             1,
             "#276419"
            ]
           ],
           "sequential": [
            [
             0.0,
             "#0d0887"
            ],
            [
             0.1111111111111111,
             "#46039f"
            ],
            [
             0.2222222222222222,
             "#7201a8"
            ],
            [
             0.3333333333333333,
             "#9c179e"
            ],
            [
             0.4444444444444444,
             "#bd3786"
            ],
            [
             0.5555555555555556,
             "#d8576b"
            ],
            [
             0.6666666666666666,
             "#ed7953"
            ],
            [
             0.7777777777777778,
             "#fb9f3a"
            ],
            [
             0.8888888888888888,
             "#fdca26"
            ],
            [
             1.0,
             "#f0f921"
            ]
           ],
           "sequentialminus": [
            [
             0.0,
             "#0d0887"
            ],
            [
             0.1111111111111111,
             "#46039f"
            ],
            [
             0.2222222222222222,
             "#7201a8"
            ],
            [
             0.3333333333333333,
             "#9c179e"
            ],
            [
             0.4444444444444444,
             "#bd3786"
            ],
            [
             0.5555555555555556,
             "#d8576b"
            ],
            [
             0.6666666666666666,
             "#ed7953"
            ],
            [
             0.7777777777777778,
             "#fb9f3a"
            ],
            [
             0.8888888888888888,
             "#fdca26"
            ],
            [
             1.0,
             "#f0f921"
            ]
           ]
          },
          "colorway": [
           "#636efa",
           "#EF553B",
           "#00cc96",
           "#ab63fa",
           "#FFA15A",
           "#19d3f3",
           "#FF6692",
           "#B6E880",
           "#FF97FF",
           "#FECB52"
          ],
          "font": {
           "color": "#2a3f5f"
          },
          "geo": {
           "bgcolor": "white",
           "lakecolor": "white",
           "landcolor": "#E5ECF6",
           "showlakes": true,
           "showland": true,
           "subunitcolor": "white"
          },
          "hoverlabel": {
           "align": "left"
          },
          "hovermode": "closest",
          "mapbox": {
           "style": "light"
          },
          "paper_bgcolor": "white",
          "plot_bgcolor": "#E5ECF6",
          "polar": {
           "angularaxis": {
            "gridcolor": "white",
            "linecolor": "white",
            "ticks": ""
           },
           "bgcolor": "#E5ECF6",
           "radialaxis": {
            "gridcolor": "white",
            "linecolor": "white",
            "ticks": ""
           }
          },
          "scene": {
           "xaxis": {
            "backgroundcolor": "#E5ECF6",
            "gridcolor": "white",
            "gridwidth": 2,
            "linecolor": "white",
            "showbackground": true,
            "ticks": "",
            "zerolinecolor": "white"
           },
           "yaxis": {
            "backgroundcolor": "#E5ECF6",
            "gridcolor": "white",
            "gridwidth": 2,
            "linecolor": "white",
            "showbackground": true,
            "ticks": "",
            "zerolinecolor": "white"
           },
           "zaxis": {
            "backgroundcolor": "#E5ECF6",
            "gridcolor": "white",
            "gridwidth": 2,
            "linecolor": "white",
            "showbackground": true,
            "ticks": "",
            "zerolinecolor": "white"
           }
          },
          "shapedefaults": {
           "line": {
            "color": "#2a3f5f"
           }
          },
          "ternary": {
           "aaxis": {
            "gridcolor": "white",
            "linecolor": "white",
            "ticks": ""
           },
           "baxis": {
            "gridcolor": "white",
            "linecolor": "white",
            "ticks": ""
           },
           "bgcolor": "#E5ECF6",
           "caxis": {
            "gridcolor": "white",
            "linecolor": "white",
            "ticks": ""
           }
          },
          "title": {
           "x": 0.05
          },
          "xaxis": {
           "automargin": true,
           "gridcolor": "white",
           "linecolor": "white",
           "ticks": "",
           "title": {
            "standoff": 15
           },
           "zerolinecolor": "white",
           "zerolinewidth": 2
          },
          "yaxis": {
           "automargin": true,
           "gridcolor": "white",
           "linecolor": "white",
           "ticks": "",
           "title": {
            "standoff": 15
           },
           "zerolinecolor": "white",
           "zerolinewidth": 2
          }
         }
        },
        "title": {
         "text": "MntWinesDistribution in costumer attrition"
        },
        "xaxis": {
         "gridcolor": "rgb(255,255,255)",
         "gridwidth": 2,
         "ticklen": 5,
         "title": {
          "text": "MntWines"
         },
         "zerolinewidth": 1
        },
        "yaxis": {
         "gridcolor": "rgb(255,255,255)",
         "gridwidth": 2,
         "ticklen": 5,
         "title": {
          "text": "percent"
         },
         "zerolinewidth": 1
        }
       }
      },
      "text/html": [
       "<div>                            <div id=\"634d07e0-bdcb-4f84-bf1c-6813bcbd4b49\" class=\"plotly-graph-div\" style=\"height:525px; width:100%;\"></div>            <script type=\"text/javascript\">                require([\"plotly\"], function(Plotly) {                    window.PLOTLYENV=window.PLOTLYENV || {};                                    if (document.getElementById(\"634d07e0-bdcb-4f84-bf1c-6813bcbd4b49\")) {                    Plotly.newPlot(                        \"634d07e0-bdcb-4f84-bf1c-6813bcbd4b49\",                        [{\"histnorm\": \"percent\", \"marker\": {\"line\": {\"color\": \"black\", \"width\": 0.3}}, \"name\": \"Target Marketting\", \"opacity\": 0.8, \"type\": \"histogram\", \"x\": [189, 464, 6, 336, 769, 431, 63, 408, 1285, 1248, 12, 709, 4, 539, 158, 13, 292, 46, 522, 229, 14, 38, 1074, 3, 50, 1285, 292, 345, 67, 154, 145, 322, 322, 1099, 890, 448, 35, 738, 179, 784, 5, 168, 6, 520, 520, 1296, 303, 462, 530, 194, 194, 6, 179, 16, 1092, 559, 316, 1462, 199, 199, 73, 96, 56, 45, 1478, 1478, 80, 392, 177, 577, 5, 464, 16, 297, 997, 23, 23, 797, 823, 823, 180, 416, 314, 342, 63, 70, 912, 420, 6, 712, 712, 39, 514, 14, 565, 667, 34, 1, 56, 298, 488, 817, 558, 2, 3, 777, 840, 88, 40, 40, 100, 29, 1302, 6, 918, 172, 674, 267, 1239, 1004, 1170, 163, 2, 267, 856, 688, 464, 836, 14, 345, 19, 7, 172, 778, 79, 1184, 380, 125, 15, 1074, 3, 124, 124, 1006, 1006, 10, 88, 953, 3, 163, 507, 349, 817, 48, 1076, 138, 1184, 10, 1050, 712, 324, 1001, 173, 1156, 770, 16, 938, 940, 16, 196, 295, 231, 231, 1060, 46, 778, 995, 704, 50, 20, 822, 721, 896, 217, 693, 691, 816, 483, 32, 1181, 671, 1009, 972, 11, 139, 15, 15, 450, 452, 556, 158, 380, 313, 703, 1218, 1218, 1332, 84, 10, 1032, 19, 489, 176, 652, 724, 100, 606, 159, 676, 967, 1394, 157, 14, 1276, 2, 14, 918, 980, 202, 51, 5, 45, 437, 437, 965, 483, 204, 510, 19, 165, 763, 1003, 1148, 984, 941, 799, 1050, 216, 3, 536, 244, 244, 576, 471, 184, 635, 448, 1311, 526, 1, 1, 1486, 1492, 1492, 833, 1259, 1111, 1111, 710, 882, 960, 1, 1060, 153, 1218, 584, 15, 416, 75, 722, 503, 77, 1459, 979, 116, 6, 293, 910, 167, 1200, 389, 504, 1067, 532, 1, 14, 267, 1039, 4, 918, 897, 897, 908, 847, 543, 618, 968, 152, 96, 986, 1298, 167, 746, 909, 462, 1324, 57, 91, 714, 714, 830, 1013, 620, 1017, 162, 490, 115, 899, 899, 1004, 1004, 982, 459, 169]}, {\"histnorm\": \"percent\", \"marker\": {\"line\": {\"color\": \"black\", \"width\": 0.3}}, \"name\": \"Non Target Marketting\", \"opacity\": 0.8, \"type\": \"histogram\", \"x\": [134, 10, 78, 384, 384, 450, 140, 3, 16, 63, 18, 53, 5, 213, 275, 40, 308, 266, 80, 454, 454, 27, 184, 155, 423, 7, 1, 71, 7, 378, 1200, 94, 13, 670, 283, 496, 12, 7, 34, 167, 318, 67, 28, 58, 2, 622, 362, 38, 983, 262, 739, 610, 650, 9, 458, 458, 520, 14, 3, 1, 20, 22, 42, 463, 4, 260, 180, 62, 62, 421, 502, 322, 1099, 863, 399, 85, 97, 3, 315, 738, 381, 247, 711, 30, 30, 288, 212, 173, 604, 482, 531, 531, 448, 9, 9, 230, 496, 33, 10, 4, 600, 493, 6, 4, 4, 29, 835, 16, 760, 70, 68, 68, 9, 9, 325, 9, 9, 121, 16, 561, 376, 341, 595, 179, 23, 594, 852, 158, 384, 14, 2, 1, 216, 428, 10, 606, 11, 588, 279, 546, 277, 948, 664, 268, 530, 16, 587, 6, 158, 3, 8, 12, 508, 11, 234, 992, 125, 174, 1001, 388, 65, 460, 219, 5, 31, 117, 30, 236, 6, 2, 120, 9, 9, 145, 200, 532, 532, 30, 151, 966, 37, 5, 10, 9, 18, 18, 20, 629, 158, 201, 964, 72, 123, 159, 6, 6, 209, 100, 1170, 71, 5, 5, 376, 387, 357, 625, 209, 1, 1, 641, 12, 465, 154, 53, 66, 4, 129, 129, 185, 1023, 338, 1, 647, 163, 19, 182, 1, 779, 32, 42, 42, 10, 10, 4, 19, 19, 459, 492, 383, 209, 1043, 400, 3, 691, 783, 4, 43, 10, 63, 16, 27, 27, 71, 402, 144, 32, 32, 32, 56, 74, 8, 26, 15, 162, 47, 0, 129, 16, 520, 0, 71, 5, 931, 666, 5, 27, 24, 4, 25, 25, 391, 81, 14, 224, 412, 1205, 304, 76, 584, 422, 269, 26, 28, 613, 163, 1, 22, 279, 113, 70, 261, 454, 8, 546, 96, 452, 20, 658, 451, 395, 1035, 365, 181, 6, 331, 3, 256, 2, 14, 233, 5, 378, 12, 10, 2, 30, 9, 279, 881, 19, 305, 6, 69, 69, 344, 490, 1349, 153, 84, 84, 1000, 14, 52, 52, 301, 15, 519, 238, 620, 620, 572, 443, 620, 620, 252, 796, 410, 1, 507, 55, 327, 397, 397, 760, 29, 105, 1126, 280, 39, 68, 108, 108, 16, 641, 8, 25, 102, 3, 1000, 1000, 820, 86, 86, 13, 217, 352, 352, 9, 240, 2, 3, 412, 736, 8, 217, 23, 11, 22, 580, 10, 112, 112, 11, 2, 8, 182, 227, 227, 290, 284, 173, 656, 656, 953, 8, 18, 37, 69, 56, 38, 38, 8, 626, 112, 547, 35, 795, 56, 895, 899, 178, 14, 265, 265, 4, 848, 962, 25, 1, 1, 212, 11, 2, 347, 73, 426, 1, 1, 36, 733, 39, 523, 1083, 98, 98, 99, 509, 527, 340, 340, 434, 434, 102, 208, 438, 125, 1308, 64, 7, 7, 200, 1001, 36, 18, 18, 673, 6, 787, 833, 284, 605, 227, 800, 861, 62, 23, 11, 25, 22, 25, 25, 161, 315, 522, 33, 342, 22, 359, 233, 370, 5, 10, 8, 138, 245, 68, 434, 631, 1156, 398, 230, 2, 122, 19, 386, 379, 243, 358, 358, 258, 65, 846, 724, 815, 2, 819, 46, 5, 5, 479, 283, 909, 156, 213, 123, 37, 154, 154, 51, 141, 160, 557, 38, 29, 29, 29, 420, 8, 229, 1230, 91, 11, 121, 13, 17, 8, 85, 5, 302, 728, 9, 9, 110, 711, 0, 493, 23, 2, 415, 241, 34, 1050, 135, 135, 4, 76, 384, 275, 254, 3, 957, 293, 777, 63, 21, 245, 245, 12, 17, 24, 173, 754, 11, 219, 373, 15, 15, 1171, 371, 23, 8, 8, 801, 20, 23, 48, 244, 562, 79, 79, 1, 4, 8, 707, 356, 356, 743, 235, 393, 28, 48, 482, 167, 879, 6, 367, 231, 19, 24, 595, 244, 48, 4, 491, 4, 38, 254, 755, 410, 410, 21, 598, 488, 15, 15, 605, 0, 702, 2, 239, 5, 1, 183, 771, 83, 170, 39, 33, 51, 0, 59, 1063, 789, 63, 228, 512, 11, 275, 7, 355, 512, 204, 6, 235, 33, 239, 11, 5, 252, 556, 27, 3, 317, 897, 167, 16, 48, 2, 2, 42, 97, 24, 9, 38, 56, 21, 4, 37, 187, 229, 826, 513, 313, 760, 18, 29, 8, 329, 571, 40, 28, 5, 5, 6, 2, 9, 478, 110, 296, 8, 8, 674, 2, 635, 635, 399, 294, 913, 224, 7, 731, 2, 281, 86, 721, 551, 6, 471, 22, 519, 140, 51, 14, 31, 421, 3, 534, 768, 1, 235, 594, 174, 2, 24, 6, 1142, 80, 41, 105, 1181, 1181, 284, 7, 14, 26, 604, 16, 65, 65, 2, 21, 26, 207, 207, 513, 299, 525, 155, 7, 68, 19, 22, 494, 353, 1253, 50, 12, 443, 9, 182, 521, 395, 10, 977, 977, 603, 51, 5, 7, 18, 1, 273, 277, 425, 425, 35, 40, 40, 171, 709, 554, 191, 230, 11, 11, 131, 1073, 56, 4, 652, 226, 962, 186, 483, 483, 97, 303, 18, 17, 14, 178, 240, 130, 614, 1288, 563, 2, 2, 43, 189, 6, 67, 67, 240, 240, 95, 210, 344, 2, 9, 179, 130, 306, 189, 267, 14, 505, 505, 183, 758, 758, 505, 824, 918, 526, 66, 151, 13, 5, 5, 6, 22, 0, 690, 8, 6, 2, 4, 792, 545, 31, 31, 280, 109, 15, 382, 1, 664, 27, 27, 13, 132, 88, 448, 129, 371, 750, 10, 2, 40, 194, 99, 223, 81, 57, 340, 336, 20, 30, 407, 90, 423, 5, 378, 61, 70, 173, 3, 595, 595, 10, 82, 15, 15, 220, 517, 615, 11, 480, 398, 398, 752, 464, 28, 154, 23, 1, 53, 741, 230, 5, 456, 143, 31, 2, 0, 625, 407, 254, 3, 269, 269, 7, 301, 375, 10, 12, 3, 258, 1, 1, 1215, 6, 36, 19, 106, 871, 368, 233, 11, 1193, 441, 87, 20, 14, 110, 32, 574, 85, 332, 332, 642, 642, 35, 2, 2, 30, 5, 46, 587, 587, 354, 9, 97, 26, 376, 390, 390, 476, 121, 18, 627, 12, 806, 205, 4, 23, 790, 10, 13, 40, 98, 12, 11, 62, 172, 368, 368, 241, 112, 406, 406, 95, 709, 709, 90, 128, 8, 261, 29, 298, 377, 919, 919, 25, 163, 162, 162, 5, 5, 198, 215, 112, 112, 2, 198, 1493, 1090, 295, 1149, 70, 586, 77, 539, 200, 794, 23, 387, 774, 19, 11, 11, 328, 328, 901, 901, 901, 866, 37, 308, 753, 1048, 960, 888, 31, 4, 19, 14, 7, 32, 654, 204, 707, 499, 172, 2, 295, 576, 8, 381, 16, 44, 44, 371, 735, 386, 548, 6, 1000, 206, 483, 611, 7, 19, 265, 292, 292, 161, 713, 6, 593, 26, 86, 547, 1166, 349, 365, 349, 515, 88, 10, 53, 606, 78, 5, 356, 533, 216, 183, 196, 91, 575, 726, 5, 12, 938, 56, 56, 445, 248, 284, 239, 52, 25, 28, 614, 322, 73, 1241, 529, 529, 5, 35, 447, 81, 123, 587, 587, 9, 212, 293, 376, 570, 23, 867, 10, 789, 789, 757, 757, 757, 29, 46, 159, 70, 536, 291, 318, 379, 378, 333, 635, 635, 635, 12, 12, 313, 0, 749, 203, 157, 22, 39, 42, 1, 4, 4, 750, 25, 10, 4, 407, 619, 629, 30, 320, 320, 3, 215, 311, 29, 112, 7, 7, 5, 1103, 1103, 561, 39, 404, 375, 375, 10, 4, 23, 411, 411, 211, 446, 239, 7, 374, 221, 1047, 1206, 20, 274, 27, 19, 738, 889, 146, 315, 18, 18, 815, 9, 247, 1115, 68, 185, 54, 411, 7, 182, 251, 28, 20, 14, 112, 141, 50, 166, 562, 72, 315, 438, 19, 134, 283, 2, 75, 347, 347, 492, 15, 364, 206, 135, 861, 1016, 8, 432, 270, 270, 516, 410, 159, 1, 350, 350, 403, 218, 560, 15, 729, 1224, 1121, 172, 172, 31, 266, 12, 1245, 224, 479, 199, 18, 30, 13, 45, 13, 21, 966, 87, 5, 13, 35, 621, 34, 34, 378, 378, 430, 19, 2, 777, 160, 4, 853, 123, 572, 141, 492, 572, 93, 2, 77, 42, 410, 22, 0, 387, 127, 44, 465, 689, 532, 983, 686, 393, 43, 15, 505, 600, 792, 630, 483, 213, 458, 247, 90, 182, 466, 243, 960, 399, 35, 707, 171, 1379, 60, 224, 204, 39, 39, 3, 3, 144, 46, 264, 202, 202, 101, 17, 84, 581, 952, 30, 30, 47, 925, 965, 539, 324, 457, 2, 1017, 187, 9, 19, 99, 14, 14, 15, 604, 249, 33, 22, 8, 1, 41, 104, 8, 111, 111, 618, 6, 56, 6, 515, 293, 41, 107, 8, 2, 45, 527, 12, 8, 59, 3, 30, 35, 225, 9, 493, 493, 11, 3, 1285, 440, 80, 691, 24, 6, 6, 6, 53, 650, 26, 26, 1168, 12, 31, 12, 89, 255, 760, 28, 22, 9, 12, 138, 520, 972, 424, 556, 556, 571, 571, 398, 398, 957, 171, 944, 135, 28, 26, 45, 104, 400, 4, 16, 9, 516, 597, 4, 1, 1, 656, 11, 33, 29, 554, 9, 742, 37, 24, 81, 6, 17, 21, 23, 162, 708, 747, 16, 158, 958, 46, 167, 387, 152, 97, 0, 30, 1, 293, 330, 270, 1076, 16, 62, 5, 637, 418, 3, 3, 14, 587, 229, 255, 825, 1132, 812, 34, 34, 18, 8, 194, 37, 110, 519, 23, 23, 12, 24, 2, 71, 1315, 344, 2, 1, 1, 22, 31, 34, 789, 4, 307, 46, 18, 135, 67, 161, 191, 860, 17, 17, 1396, 199, 583, 509, 473, 526, 526, 27, 30, 410, 6, 15, 15, 5, 43, 693, 508, 116, 116, 80, 22, 336, 553, 408, 675, 68, 297, 297, 367, 167, 292, 292, 11, 582, 675, 557, 184, 1142, 504, 2, 12, 145, 2, 135, 1449, 829, 829, 10, 76, 412, 24, 335, 612, 3, 3, 741, 22, 100, 625, 389, 24, 23, 102, 102, 6, 13, 175, 7, 4, 57, 57, 176, 957, 15, 111, 398, 445, 445, 565, 141, 445, 327, 6, 197, 38, 25, 243, 457, 623, 544, 162, 631, 189, 1073, 736, 19, 64, 64, 274, 7, 205, 99, 215, 317, 537, 565, 13, 285, 366, 4, 4, 350, 1252, 7, 37, 934, 518, 51, 171, 12, 99, 734, 1045, 36, 51, 12, 85, 562, 6, 717, 7, 29, 8, 1020, 561, 680, 9, 162, 67, 26, 524, 138, 18, 856, 864, 864, 85, 164, 152, 68, 908, 53, 675, 208, 9, 4, 653, 350, 30, 43, 43, 369, 736, 794, 1012, 22, 3, 203, 203, 32, 81, 6, 76, 350, 133, 100, 188, 17, 502, 3, 13, 674, 202, 228, 544, 811, 342, 856, 34, 34, 45, 45, 5, 201, 201, 639, 13, 30, 444, 372, 255, 184, 238, 162, 509, 23, 816, 4, 10, 29, 656, 656, 482, 928, 714, 371, 407, 41, 494, 272, 87, 173, 29, 1, 1, 292, 8, 5, 92, 27, 27, 25, 25, 0, 546, 555, 68, 351, 19, 73, 73, 263, 982, 495, 264, 15, 769, 5, 17, 120, 627, 12, 12, 312, 359, 737, 11, 631, 456, 456, 2, 751, 143, 14, 14, 19, 346, 18, 18, 48, 684, 684, 712, 309, 231, 144, 8, 1, 12, 397, 24, 897, 25, 734, 166, 136, 756, 5, 35, 20, 267, 412, 127, 1279, 11, 28, 382, 6, 138, 104, 479, 35, 8, 20, 199, 901, 997, 997, 508, 538, 62, 466, 44, 920, 459, 433, 563, 73, 192, 5, 453, 54, 54, 273, 362, 24, 0, 0, 55, 55, 15, 321, 372, 5, 185, 267]}],                        {\"paper_bgcolor\": \"rgb(243,243,243)\", \"plot_bgcolor\": \"rgb(243,243,243)\", \"template\": {\"data\": {\"bar\": [{\"error_x\": {\"color\": \"#2a3f5f\"}, \"error_y\": {\"color\": \"#2a3f5f\"}, \"marker\": {\"line\": {\"color\": \"#E5ECF6\", \"width\": 0.5}}, \"type\": \"bar\"}], \"barpolar\": [{\"marker\": {\"line\": {\"color\": \"#E5ECF6\", \"width\": 0.5}}, \"type\": \"barpolar\"}], \"carpet\": [{\"aaxis\": {\"endlinecolor\": \"#2a3f5f\", \"gridcolor\": \"white\", \"linecolor\": \"white\", \"minorgridcolor\": \"white\", \"startlinecolor\": \"#2a3f5f\"}, \"baxis\": {\"endlinecolor\": \"#2a3f5f\", \"gridcolor\": \"white\", \"linecolor\": \"white\", \"minorgridcolor\": \"white\", \"startlinecolor\": \"#2a3f5f\"}, \"type\": \"carpet\"}], \"choropleth\": [{\"colorbar\": {\"outlinewidth\": 0, \"ticks\": \"\"}, \"type\": \"choropleth\"}], \"contour\": [{\"colorbar\": {\"outlinewidth\": 0, \"ticks\": \"\"}, \"colorscale\": [[0.0, \"#0d0887\"], [0.1111111111111111, \"#46039f\"], [0.2222222222222222, \"#7201a8\"], [0.3333333333333333, \"#9c179e\"], [0.4444444444444444, \"#bd3786\"], [0.5555555555555556, \"#d8576b\"], [0.6666666666666666, \"#ed7953\"], [0.7777777777777778, \"#fb9f3a\"], [0.8888888888888888, \"#fdca26\"], [1.0, \"#f0f921\"]], \"type\": \"contour\"}], \"contourcarpet\": [{\"colorbar\": {\"outlinewidth\": 0, \"ticks\": \"\"}, \"type\": \"contourcarpet\"}], \"heatmap\": [{\"colorbar\": {\"outlinewidth\": 0, \"ticks\": \"\"}, \"colorscale\": [[0.0, \"#0d0887\"], [0.1111111111111111, \"#46039f\"], [0.2222222222222222, \"#7201a8\"], [0.3333333333333333, \"#9c179e\"], [0.4444444444444444, \"#bd3786\"], [0.5555555555555556, \"#d8576b\"], [0.6666666666666666, \"#ed7953\"], [0.7777777777777778, \"#fb9f3a\"], [0.8888888888888888, \"#fdca26\"], [1.0, \"#f0f921\"]], \"type\": \"heatmap\"}], \"heatmapgl\": [{\"colorbar\": {\"outlinewidth\": 0, \"ticks\": \"\"}, \"colorscale\": [[0.0, \"#0d0887\"], [0.1111111111111111, \"#46039f\"], [0.2222222222222222, \"#7201a8\"], [0.3333333333333333, \"#9c179e\"], [0.4444444444444444, \"#bd3786\"], [0.5555555555555556, \"#d8576b\"], [0.6666666666666666, \"#ed7953\"], [0.7777777777777778, \"#fb9f3a\"], [0.8888888888888888, \"#fdca26\"], [1.0, \"#f0f921\"]], \"type\": \"heatmapgl\"}], \"histogram\": [{\"marker\": {\"colorbar\": {\"outlinewidth\": 0, \"ticks\": \"\"}}, \"type\": \"histogram\"}], \"histogram2d\": [{\"colorbar\": {\"outlinewidth\": 0, \"ticks\": \"\"}, \"colorscale\": [[0.0, \"#0d0887\"], [0.1111111111111111, \"#46039f\"], [0.2222222222222222, \"#7201a8\"], [0.3333333333333333, \"#9c179e\"], [0.4444444444444444, \"#bd3786\"], [0.5555555555555556, \"#d8576b\"], [0.6666666666666666, \"#ed7953\"], [0.7777777777777778, \"#fb9f3a\"], [0.8888888888888888, \"#fdca26\"], [1.0, \"#f0f921\"]], \"type\": \"histogram2d\"}], \"histogram2dcontour\": [{\"colorbar\": {\"outlinewidth\": 0, \"ticks\": \"\"}, \"colorscale\": [[0.0, \"#0d0887\"], [0.1111111111111111, \"#46039f\"], [0.2222222222222222, \"#7201a8\"], [0.3333333333333333, \"#9c179e\"], [0.4444444444444444, \"#bd3786\"], [0.5555555555555556, \"#d8576b\"], [0.6666666666666666, \"#ed7953\"], [0.7777777777777778, \"#fb9f3a\"], [0.8888888888888888, \"#fdca26\"], [1.0, \"#f0f921\"]], \"type\": \"histogram2dcontour\"}], \"mesh3d\": [{\"colorbar\": {\"outlinewidth\": 0, \"ticks\": \"\"}, \"type\": \"mesh3d\"}], \"parcoords\": [{\"line\": {\"colorbar\": {\"outlinewidth\": 0, \"ticks\": \"\"}}, \"type\": \"parcoords\"}], \"pie\": [{\"automargin\": true, \"type\": \"pie\"}], \"scatter\": [{\"marker\": {\"colorbar\": {\"outlinewidth\": 0, \"ticks\": \"\"}}, \"type\": \"scatter\"}], \"scatter3d\": [{\"line\": {\"colorbar\": {\"outlinewidth\": 0, \"ticks\": \"\"}}, \"marker\": {\"colorbar\": {\"outlinewidth\": 0, \"ticks\": \"\"}}, \"type\": \"scatter3d\"}], \"scattercarpet\": [{\"marker\": {\"colorbar\": {\"outlinewidth\": 0, \"ticks\": \"\"}}, \"type\": \"scattercarpet\"}], \"scattergeo\": [{\"marker\": {\"colorbar\": {\"outlinewidth\": 0, \"ticks\": \"\"}}, \"type\": \"scattergeo\"}], \"scattergl\": [{\"marker\": {\"colorbar\": {\"outlinewidth\": 0, \"ticks\": \"\"}}, \"type\": \"scattergl\"}], \"scattermapbox\": [{\"marker\": {\"colorbar\": {\"outlinewidth\": 0, \"ticks\": \"\"}}, \"type\": \"scattermapbox\"}], \"scatterpolar\": [{\"marker\": {\"colorbar\": {\"outlinewidth\": 0, \"ticks\": \"\"}}, \"type\": \"scatterpolar\"}], \"scatterpolargl\": [{\"marker\": {\"colorbar\": {\"outlinewidth\": 0, \"ticks\": \"\"}}, \"type\": \"scatterpolargl\"}], \"scatterternary\": [{\"marker\": {\"colorbar\": {\"outlinewidth\": 0, \"ticks\": \"\"}}, \"type\": \"scatterternary\"}], \"surface\": [{\"colorbar\": {\"outlinewidth\": 0, \"ticks\": \"\"}, \"colorscale\": [[0.0, \"#0d0887\"], [0.1111111111111111, \"#46039f\"], [0.2222222222222222, \"#7201a8\"], [0.3333333333333333, \"#9c179e\"], [0.4444444444444444, \"#bd3786\"], [0.5555555555555556, \"#d8576b\"], [0.6666666666666666, \"#ed7953\"], [0.7777777777777778, \"#fb9f3a\"], [0.8888888888888888, \"#fdca26\"], [1.0, \"#f0f921\"]], \"type\": \"surface\"}], \"table\": [{\"cells\": {\"fill\": {\"color\": \"#EBF0F8\"}, \"line\": {\"color\": \"white\"}}, \"header\": {\"fill\": {\"color\": \"#C8D4E3\"}, \"line\": {\"color\": \"white\"}}, \"type\": \"table\"}]}, \"layout\": {\"annotationdefaults\": {\"arrowcolor\": \"#2a3f5f\", \"arrowhead\": 0, \"arrowwidth\": 1}, \"autotypenumbers\": \"strict\", \"coloraxis\": {\"colorbar\": {\"outlinewidth\": 0, \"ticks\": \"\"}}, \"colorscale\": {\"diverging\": [[0, \"#8e0152\"], [0.1, \"#c51b7d\"], [0.2, \"#de77ae\"], [0.3, \"#f1b6da\"], [0.4, \"#fde0ef\"], [0.5, \"#f7f7f7\"], [0.6, \"#e6f5d0\"], [0.7, \"#b8e186\"], [0.8, \"#7fbc41\"], [0.9, \"#4d9221\"], [1, \"#276419\"]], \"sequential\": [[0.0, \"#0d0887\"], [0.1111111111111111, \"#46039f\"], [0.2222222222222222, \"#7201a8\"], [0.3333333333333333, \"#9c179e\"], [0.4444444444444444, \"#bd3786\"], [0.5555555555555556, \"#d8576b\"], [0.6666666666666666, \"#ed7953\"], [0.7777777777777778, \"#fb9f3a\"], [0.8888888888888888, \"#fdca26\"], [1.0, \"#f0f921\"]], \"sequentialminus\": [[0.0, \"#0d0887\"], [0.1111111111111111, \"#46039f\"], [0.2222222222222222, \"#7201a8\"], [0.3333333333333333, \"#9c179e\"], [0.4444444444444444, \"#bd3786\"], [0.5555555555555556, \"#d8576b\"], [0.6666666666666666, \"#ed7953\"], [0.7777777777777778, \"#fb9f3a\"], [0.8888888888888888, \"#fdca26\"], [1.0, \"#f0f921\"]]}, \"colorway\": [\"#636efa\", \"#EF553B\", \"#00cc96\", \"#ab63fa\", \"#FFA15A\", \"#19d3f3\", \"#FF6692\", \"#B6E880\", \"#FF97FF\", \"#FECB52\"], \"font\": {\"color\": \"#2a3f5f\"}, \"geo\": {\"bgcolor\": \"white\", \"lakecolor\": \"white\", \"landcolor\": \"#E5ECF6\", \"showlakes\": true, \"showland\": true, \"subunitcolor\": \"white\"}, \"hoverlabel\": {\"align\": \"left\"}, \"hovermode\": \"closest\", \"mapbox\": {\"style\": \"light\"}, \"paper_bgcolor\": \"white\", \"plot_bgcolor\": \"#E5ECF6\", \"polar\": {\"angularaxis\": {\"gridcolor\": \"white\", \"linecolor\": \"white\", \"ticks\": \"\"}, \"bgcolor\": \"#E5ECF6\", \"radialaxis\": {\"gridcolor\": \"white\", \"linecolor\": \"white\", \"ticks\": \"\"}}, \"scene\": {\"xaxis\": {\"backgroundcolor\": \"#E5ECF6\", \"gridcolor\": \"white\", \"gridwidth\": 2, \"linecolor\": \"white\", \"showbackground\": true, \"ticks\": \"\", \"zerolinecolor\": \"white\"}, \"yaxis\": {\"backgroundcolor\": \"#E5ECF6\", \"gridcolor\": \"white\", \"gridwidth\": 2, \"linecolor\": \"white\", \"showbackground\": true, \"ticks\": \"\", \"zerolinecolor\": \"white\"}, \"zaxis\": {\"backgroundcolor\": \"#E5ECF6\", \"gridcolor\": \"white\", \"gridwidth\": 2, \"linecolor\": \"white\", \"showbackground\": true, \"ticks\": \"\", \"zerolinecolor\": \"white\"}}, \"shapedefaults\": {\"line\": {\"color\": \"#2a3f5f\"}}, \"ternary\": {\"aaxis\": {\"gridcolor\": \"white\", \"linecolor\": \"white\", \"ticks\": \"\"}, \"baxis\": {\"gridcolor\": \"white\", \"linecolor\": \"white\", \"ticks\": \"\"}, \"bgcolor\": \"#E5ECF6\", \"caxis\": {\"gridcolor\": \"white\", \"linecolor\": \"white\", \"ticks\": \"\"}}, \"title\": {\"x\": 0.05}, \"xaxis\": {\"automargin\": true, \"gridcolor\": \"white\", \"linecolor\": \"white\", \"ticks\": \"\", \"title\": {\"standoff\": 15}, \"zerolinecolor\": \"white\", \"zerolinewidth\": 2}, \"yaxis\": {\"automargin\": true, \"gridcolor\": \"white\", \"linecolor\": \"white\", \"ticks\": \"\", \"title\": {\"standoff\": 15}, \"zerolinecolor\": \"white\", \"zerolinewidth\": 2}}}, \"title\": {\"text\": \"MntWinesDistribution in costumer attrition\"}, \"xaxis\": {\"gridcolor\": \"rgb(255,255,255)\", \"gridwidth\": 2, \"ticklen\": 5, \"title\": {\"text\": \"MntWines\"}, \"zerolinewidth\": 1}, \"yaxis\": {\"gridcolor\": \"rgb(255,255,255)\", \"gridwidth\": 2, \"ticklen\": 5, \"title\": {\"text\": \"percent\"}, \"zerolinewidth\": 1}},                        {\"responsive\": true}                    ).then(function(){\n",
       "                            \n",
       "var gd = document.getElementById('634d07e0-bdcb-4f84-bf1c-6813bcbd4b49');\n",
       "var x = new MutationObserver(function (mutations, observer) {{\n",
       "        var display = window.getComputedStyle(gd).display;\n",
       "        if (!display || display === 'none') {{\n",
       "            console.log([gd, 'removed!']);\n",
       "            Plotly.purge(gd);\n",
       "            observer.disconnect();\n",
       "        }}\n",
       "}});\n",
       "\n",
       "// Listen for the removal of the full notebook cells\n",
       "var notebookContainer = gd.closest('#notebook-container');\n",
       "if (notebookContainer) {{\n",
       "    x.observe(notebookContainer, {childList: true});\n",
       "}}\n",
       "\n",
       "// Listen for the clearing of the current output cell\n",
       "var outputEl = gd.closest('.output');\n",
       "if (outputEl) {{\n",
       "    x.observe(outputEl, {childList: true});\n",
       "}}\n",
       "\n",
       "                        })                };                });            </script>        </div>"
      ]
     },
     "metadata": {},
     "output_type": "display_data"
    }
   ],
   "source": [
    "histogram(num_col[3])"
   ]
  },
  {
   "cell_type": "markdown",
   "id": "voluntary-might",
   "metadata": {
    "papermill": {
     "duration": 0.081951,
     "end_time": "2021-06-01T20:49:56.725083",
     "exception": false,
     "start_time": "2021-06-01T20:49:56.643132",
     "status": "completed"
    },
    "tags": []
   },
   "source": [
    "* As you see, the highest portion for recency is 0-4 and include 11% for target marketting and for non target is 45-49"
   ]
  },
  {
   "cell_type": "markdown",
   "id": "infinite-lexington",
   "metadata": {
    "papermill": {
     "duration": 0.081256,
     "end_time": "2021-06-01T20:49:56.889645",
     "exception": false,
     "start_time": "2021-06-01T20:49:56.808389",
     "status": "completed"
    },
    "tags": []
   },
   "source": []
  },
  {
   "cell_type": "markdown",
   "id": "lucky-beach",
   "metadata": {
    "papermill": {
     "duration": 0.133639,
     "end_time": "2021-06-01T20:49:57.105462",
     "exception": false,
     "start_time": "2021-06-01T20:49:56.971823",
     "status": "completed"
    },
    "tags": []
   },
   "source": [
    "# we want to make a model with different algorithms and first we have to prepare the data"
   ]
  },
  {
   "cell_type": "code",
   "execution_count": 44,
   "id": "arctic-scale",
   "metadata": {
    "execution": {
     "iopub.execute_input": "2021-06-01T20:49:57.275893Z",
     "iopub.status.busy": "2021-06-01T20:49:57.275328Z",
     "iopub.status.idle": "2021-06-01T20:49:57.282713Z",
     "shell.execute_reply": "2021-06-01T20:49:57.283155Z",
     "shell.execute_reply.started": "2021-06-01T20:16:19.038863Z"
    },
    "papermill": {
     "duration": 0.09431,
     "end_time": "2021-06-01T20:49:57.283328",
     "exception": false,
     "start_time": "2021-06-01T20:49:57.189018",
     "status": "completed"
    },
    "tags": []
   },
   "outputs": [],
   "source": [
    "list=['Education','Marital_Status','Country']\n",
    "df=pd.get_dummies(df,columns=list,prefix=list)"
   ]
  },
  {
   "cell_type": "code",
   "execution_count": 45,
   "id": "tight-questionnaire",
   "metadata": {
    "execution": {
     "iopub.execute_input": "2021-06-01T20:49:57.453993Z",
     "iopub.status.busy": "2021-06-01T20:49:57.453357Z",
     "iopub.status.idle": "2021-06-01T20:49:57.470483Z",
     "shell.execute_reply": "2021-06-01T20:49:57.469959Z",
     "shell.execute_reply.started": "2021-06-01T20:16:19.050270Z"
    },
    "papermill": {
     "duration": 0.105406,
     "end_time": "2021-06-01T20:49:57.470614",
     "exception": false,
     "start_time": "2021-06-01T20:49:57.365208",
     "status": "completed"
    },
    "tags": []
   },
   "outputs": [
    {
     "data": {
      "text/html": [
       "<div>\n",
       "<style scoped>\n",
       "    .dataframe tbody tr th:only-of-type {\n",
       "        vertical-align: middle;\n",
       "    }\n",
       "\n",
       "    .dataframe tbody tr th {\n",
       "        vertical-align: top;\n",
       "    }\n",
       "\n",
       "    .dataframe thead th {\n",
       "        text-align: right;\n",
       "    }\n",
       "</style>\n",
       "<table border=\"1\" class=\"dataframe\">\n",
       "  <thead>\n",
       "    <tr style=\"text-align: right;\">\n",
       "      <th></th>\n",
       "      <th>Income</th>\n",
       "      <th>Kidhome</th>\n",
       "      <th>Teenhome</th>\n",
       "      <th>Recency</th>\n",
       "      <th>MntWines</th>\n",
       "      <th>MntFruits</th>\n",
       "      <th>MntMeatProducts</th>\n",
       "      <th>MntFishProducts</th>\n",
       "      <th>MntSweetProducts</th>\n",
       "      <th>MntGoldProds</th>\n",
       "      <th>...</th>\n",
       "      <th>Marital_Status_Widow</th>\n",
       "      <th>Marital_Status_YOLO</th>\n",
       "      <th>Country_AUS</th>\n",
       "      <th>Country_CA</th>\n",
       "      <th>Country_GER</th>\n",
       "      <th>Country_IND</th>\n",
       "      <th>Country_ME</th>\n",
       "      <th>Country_SA</th>\n",
       "      <th>Country_SP</th>\n",
       "      <th>Country_US</th>\n",
       "    </tr>\n",
       "  </thead>\n",
       "  <tbody>\n",
       "    <tr>\n",
       "      <th>0</th>\n",
       "      <td>84835.0</td>\n",
       "      <td>0</td>\n",
       "      <td>0</td>\n",
       "      <td>0</td>\n",
       "      <td>189</td>\n",
       "      <td>104</td>\n",
       "      <td>379</td>\n",
       "      <td>111</td>\n",
       "      <td>189</td>\n",
       "      <td>218</td>\n",
       "      <td>...</td>\n",
       "      <td>0</td>\n",
       "      <td>0</td>\n",
       "      <td>0</td>\n",
       "      <td>0</td>\n",
       "      <td>0</td>\n",
       "      <td>0</td>\n",
       "      <td>0</td>\n",
       "      <td>0</td>\n",
       "      <td>1</td>\n",
       "      <td>0</td>\n",
       "    </tr>\n",
       "    <tr>\n",
       "      <th>1</th>\n",
       "      <td>57091.0</td>\n",
       "      <td>0</td>\n",
       "      <td>0</td>\n",
       "      <td>0</td>\n",
       "      <td>464</td>\n",
       "      <td>5</td>\n",
       "      <td>64</td>\n",
       "      <td>7</td>\n",
       "      <td>0</td>\n",
       "      <td>37</td>\n",
       "      <td>...</td>\n",
       "      <td>0</td>\n",
       "      <td>0</td>\n",
       "      <td>0</td>\n",
       "      <td>1</td>\n",
       "      <td>0</td>\n",
       "      <td>0</td>\n",
       "      <td>0</td>\n",
       "      <td>0</td>\n",
       "      <td>0</td>\n",
       "      <td>0</td>\n",
       "    </tr>\n",
       "    <tr>\n",
       "      <th>2</th>\n",
       "      <td>67267.0</td>\n",
       "      <td>0</td>\n",
       "      <td>1</td>\n",
       "      <td>0</td>\n",
       "      <td>134</td>\n",
       "      <td>11</td>\n",
       "      <td>59</td>\n",
       "      <td>15</td>\n",
       "      <td>2</td>\n",
       "      <td>30</td>\n",
       "      <td>...</td>\n",
       "      <td>0</td>\n",
       "      <td>0</td>\n",
       "      <td>0</td>\n",
       "      <td>0</td>\n",
       "      <td>0</td>\n",
       "      <td>0</td>\n",
       "      <td>0</td>\n",
       "      <td>0</td>\n",
       "      <td>0</td>\n",
       "      <td>1</td>\n",
       "    </tr>\n",
       "    <tr>\n",
       "      <th>3</th>\n",
       "      <td>32474.0</td>\n",
       "      <td>1</td>\n",
       "      <td>1</td>\n",
       "      <td>0</td>\n",
       "      <td>10</td>\n",
       "      <td>0</td>\n",
       "      <td>1</td>\n",
       "      <td>0</td>\n",
       "      <td>0</td>\n",
       "      <td>0</td>\n",
       "      <td>...</td>\n",
       "      <td>0</td>\n",
       "      <td>0</td>\n",
       "      <td>1</td>\n",
       "      <td>0</td>\n",
       "      <td>0</td>\n",
       "      <td>0</td>\n",
       "      <td>0</td>\n",
       "      <td>0</td>\n",
       "      <td>0</td>\n",
       "      <td>0</td>\n",
       "    </tr>\n",
       "    <tr>\n",
       "      <th>4</th>\n",
       "      <td>21474.0</td>\n",
       "      <td>1</td>\n",
       "      <td>0</td>\n",
       "      <td>0</td>\n",
       "      <td>6</td>\n",
       "      <td>16</td>\n",
       "      <td>24</td>\n",
       "      <td>11</td>\n",
       "      <td>0</td>\n",
       "      <td>34</td>\n",
       "      <td>...</td>\n",
       "      <td>0</td>\n",
       "      <td>0</td>\n",
       "      <td>0</td>\n",
       "      <td>0</td>\n",
       "      <td>0</td>\n",
       "      <td>0</td>\n",
       "      <td>0</td>\n",
       "      <td>0</td>\n",
       "      <td>1</td>\n",
       "      <td>0</td>\n",
       "    </tr>\n",
       "  </tbody>\n",
       "</table>\n",
       "<p>5 rows × 45 columns</p>\n",
       "</div>"
      ],
      "text/plain": [
       "    Income  Kidhome  Teenhome  Recency  MntWines  MntFruits  MntMeatProducts  \\\n",
       "0  84835.0        0         0        0       189        104              379   \n",
       "1  57091.0        0         0        0       464          5               64   \n",
       "2  67267.0        0         1        0       134         11               59   \n",
       "3  32474.0        1         1        0        10          0                1   \n",
       "4  21474.0        1         0        0         6         16               24   \n",
       "\n",
       "   MntFishProducts  MntSweetProducts  MntGoldProds  ...  Marital_Status_Widow  \\\n",
       "0              111               189           218  ...                     0   \n",
       "1                7                 0            37  ...                     0   \n",
       "2               15                 2            30  ...                     0   \n",
       "3                0                 0             0  ...                     0   \n",
       "4               11                 0            34  ...                     0   \n",
       "\n",
       "   Marital_Status_YOLO  Country_AUS  Country_CA  Country_GER  Country_IND  \\\n",
       "0                    0            0           0            0            0   \n",
       "1                    0            0           1            0            0   \n",
       "2                    0            0           0            0            0   \n",
       "3                    0            1           0            0            0   \n",
       "4                    0            0           0            0            0   \n",
       "\n",
       "   Country_ME  Country_SA  Country_SP  Country_US  \n",
       "0           0           0           1           0  \n",
       "1           0           0           0           0  \n",
       "2           0           0           0           1  \n",
       "3           0           0           0           0  \n",
       "4           0           0           1           0  \n",
       "\n",
       "[5 rows x 45 columns]"
      ]
     },
     "execution_count": 45,
     "metadata": {},
     "output_type": "execute_result"
    }
   ],
   "source": [
    "df.head()"
   ]
  },
  {
   "cell_type": "code",
   "execution_count": 46,
   "id": "weekly-petroleum",
   "metadata": {
    "execution": {
     "iopub.execute_input": "2021-06-01T20:49:57.640318Z",
     "iopub.status.busy": "2021-06-01T20:49:57.639503Z",
     "iopub.status.idle": "2021-06-01T20:49:58.112750Z",
     "shell.execute_reply": "2021-06-01T20:49:58.111895Z",
     "shell.execute_reply.started": "2021-06-01T20:19:42.447680Z"
    },
    "papermill": {
     "duration": 0.559997,
     "end_time": "2021-06-01T20:49:58.112908",
     "exception": false,
     "start_time": "2021-06-01T20:49:57.552911",
     "status": "completed"
    },
    "tags": []
   },
   "outputs": [],
   "source": [
    "from sklearn import metrics\n",
    "from sklearn.metrics import accuracy_score\n",
    "from sklearn.metrics import classification_report, confusion_matrix\n",
    "from sklearn import preprocessing\n",
    "from sklearn.preprocessing import LabelEncoder\n",
    "from sklearn.model_selection import train_test_split\n",
    "from sklearn.tree import DecisionTreeClassifier\n",
    "from sklearn.ensemble import RandomForestClassifier,GradientBoostingClassifier\n",
    "from sklearn.linear_model import LogisticRegression\n",
    "from sklearn.svm import SVC \n",
    "from sklearn.neural_network import MLPClassifier\n",
    "from sklearn.neighbors import KNeighborsClassifier"
   ]
  },
  {
   "cell_type": "code",
   "execution_count": 47,
   "id": "reverse-writer",
   "metadata": {
    "execution": {
     "iopub.execute_input": "2021-06-01T20:49:58.283294Z",
     "iopub.status.busy": "2021-06-01T20:49:58.282454Z",
     "iopub.status.idle": "2021-06-01T20:49:58.287286Z",
     "shell.execute_reply": "2021-06-01T20:49:58.286734Z",
     "shell.execute_reply.started": "2021-06-01T20:16:19.184764Z"
    },
    "papermill": {
     "duration": 0.092015,
     "end_time": "2021-06-01T20:49:58.287412",
     "exception": false,
     "start_time": "2021-06-01T20:49:58.195397",
     "status": "completed"
    },
    "tags": []
   },
   "outputs": [],
   "source": [
    "y = df[\"Response\"]\n",
    "x = df.drop([\"Response\",\"Income\",\"Total Spent\",\"Total Purchase\",\"Recency\",\"Complain\",\"Teenhome\"], axis = 1)"
   ]
  },
  {
   "cell_type": "code",
   "execution_count": 48,
   "id": "graphic-bargain",
   "metadata": {
    "execution": {
     "iopub.execute_input": "2021-06-01T20:49:58.456870Z",
     "iopub.status.busy": "2021-06-01T20:49:58.456234Z",
     "iopub.status.idle": "2021-06-01T20:49:58.460590Z",
     "shell.execute_reply": "2021-06-01T20:49:58.461064Z",
     "shell.execute_reply.started": "2021-06-01T20:16:19.192356Z"
    },
    "papermill": {
     "duration": 0.091794,
     "end_time": "2021-06-01T20:49:58.461231",
     "exception": false,
     "start_time": "2021-06-01T20:49:58.369437",
     "status": "completed"
    },
    "tags": []
   },
   "outputs": [],
   "source": [
    "#Train and Test the model\n",
    "x_train,x_test,y_train,y_test=train_test_split(x,y,test_size=0.30,random_state=12345)"
   ]
  },
  {
   "cell_type": "code",
   "execution_count": 49,
   "id": "public-carrier",
   "metadata": {
    "execution": {
     "iopub.execute_input": "2021-06-01T20:49:58.630532Z",
     "iopub.status.busy": "2021-06-01T20:49:58.629957Z",
     "iopub.status.idle": "2021-06-01T20:49:58.794994Z",
     "shell.execute_reply": "2021-06-01T20:49:58.794427Z",
     "shell.execute_reply.started": "2021-06-01T20:19:54.044242Z"
    },
    "papermill": {
     "duration": 0.251369,
     "end_time": "2021-06-01T20:49:58.795133",
     "exception": false,
     "start_time": "2021-06-01T20:49:58.543764",
     "status": "completed"
    },
    "tags": []
   },
   "outputs": [
    {
     "data": {
      "text/plain": [
       "SMOTETomek()"
      ]
     },
     "execution_count": 49,
     "metadata": {},
     "output_type": "execute_result"
    }
   ],
   "source": [
    "from imblearn.combine import SMOTETomek\n",
    "#we make the model\n",
    "model=SMOTETomek()\n",
    "model.fit(x_train,y_train)\n",
    "#test the data\n",
    "model.fit(x_test,y_test)"
   ]
  },
  {
   "cell_type": "code",
   "execution_count": 50,
   "id": "peripheral-wales",
   "metadata": {
    "execution": {
     "iopub.execute_input": "2021-06-01T20:49:58.964193Z",
     "iopub.status.busy": "2021-06-01T20:49:58.963489Z",
     "iopub.status.idle": "2021-06-01T20:49:58.966652Z",
     "shell.execute_reply": "2021-06-01T20:49:58.967121Z",
     "shell.execute_reply.started": "2021-06-01T20:19:56.299683Z"
    },
    "papermill": {
     "duration": 0.089943,
     "end_time": "2021-06-01T20:49:58.967295",
     "exception": false,
     "start_time": "2021-06-01T20:49:58.877352",
     "status": "completed"
    },
    "tags": []
   },
   "outputs": [
    {
     "name": "stdout",
     "output_type": "stream",
     "text": [
      "(1568, 38) (1568,) (672, 38) (1568,)\n"
     ]
    }
   ],
   "source": [
    "print(x_train.shape,y_train.shape,x_test.shape,y_train.shape)"
   ]
  },
  {
   "cell_type": "code",
   "execution_count": 51,
   "id": "vulnerable-cruise",
   "metadata": {
    "execution": {
     "iopub.execute_input": "2021-06-01T20:49:59.143108Z",
     "iopub.status.busy": "2021-06-01T20:49:59.142529Z",
     "iopub.status.idle": "2021-06-01T20:49:59.144906Z",
     "shell.execute_reply": "2021-06-01T20:49:59.144382Z",
     "shell.execute_reply.started": "2021-06-01T20:25:04.713349Z"
    },
    "papermill": {
     "duration": 0.09234,
     "end_time": "2021-06-01T20:49:59.145036",
     "exception": false,
     "start_time": "2021-06-01T20:49:59.052696",
     "status": "completed"
    },
    "tags": []
   },
   "outputs": [],
   "source": [
    "models=[]\n",
    "models.append(('LR',LogisticRegression(random_state=12345)))\n",
    "models.append(('DT',DecisionTreeClassifier(random_state=12345)))\n",
    "models.append(('GB',GradientBoostingClassifier(random_state=12345)))\n",
    "models.append(('NN',MLPClassifier(random_state=(12345))))\n",
    "models.append(('SVM',SVC(random_state=(12345))))\n",
    "models.append(('RF',RandomForestClassifier(random_state=(12345))))\n",
    "models.append(('KN', KNeighborsClassifier()))\n",
    "#valute\n",
    "result=[]\n",
    "name=[]"
   ]
  },
  {
   "cell_type": "code",
   "execution_count": 52,
   "id": "peaceful-macro",
   "metadata": {
    "execution": {
     "iopub.execute_input": "2021-06-01T20:49:59.316145Z",
     "iopub.status.busy": "2021-06-01T20:49:59.315542Z",
     "iopub.status.idle": "2021-06-01T20:50:01.643321Z",
     "shell.execute_reply": "2021-06-01T20:50:01.642209Z",
     "shell.execute_reply.started": "2021-06-01T20:34:13.504600Z"
    },
    "papermill": {
     "duration": 2.416453,
     "end_time": "2021-06-01T20:50:01.643573",
     "exception": false,
     "start_time": "2021-06-01T20:49:59.227120",
     "status": "completed"
    },
    "tags": []
   },
   "outputs": [
    {
     "name": "stderr",
     "output_type": "stream",
     "text": [
      "/opt/conda/lib/python3.7/site-packages/sklearn/linear_model/_logistic.py:765: ConvergenceWarning:\n",
      "\n",
      "lbfgs failed to converge (status=1):\n",
      "STOP: TOTAL NO. of ITERATIONS REACHED LIMIT.\n",
      "\n",
      "Increase the number of iterations (max_iter) or scale the data as shown in:\n",
      "    https://scikit-learn.org/stable/modules/preprocessing.html\n",
      "Please also refer to the documentation for alternative solver options:\n",
      "    https://scikit-learn.org/stable/modules/linear_model.html#logistic-regression\n",
      "\n"
     ]
    },
    {
     "name": "stdout",
     "output_type": "stream",
     "text": [
      "LR: (0.840774)\n",
      "DT: (0.794643)\n",
      "GB: (0.846726)\n",
      "NN: (0.854167)\n",
      "SVM: (0.831845)\n",
      "RF: (0.846726)\n",
      "KN: (0.833333)\n"
     ]
    }
   ],
   "source": [
    "#we compare the models with each other\n",
    "for name , model in models:\n",
    "    model.fit(x_train,y_train)\n",
    "    predictions=model.predict(x_test)\n",
    "    accuracy=accuracy_score(y_test,predictions)\n",
    "    msg = \"%s: (%f)\" % (name, accuracy)\n",
    "    print(msg)"
   ]
  },
  {
   "cell_type": "markdown",
   "id": "protected-vampire",
   "metadata": {
    "papermill": {
     "duration": 0.084725,
     "end_time": "2021-06-01T20:50:01.842276",
     "exception": false,
     "start_time": "2021-06-01T20:50:01.757551",
     "status": "completed"
    },
    "tags": []
   },
   "source": [
    "# Result\n",
    "* As you see, we use different visualization part with different attributes and also we divided the dta to num columns and cat columns with target and non target marketting and at the end of the part, we train and test the model with 7 different algorithms and we can see the percentage which one has the best one ."
   ]
  }
 ],
 "metadata": {
  "kernelspec": {
   "display_name": "Python 3",
   "language": "python",
   "name": "python3"
  },
  "language_info": {
   "codemirror_mode": {
    "name": "ipython",
    "version": 3
   },
   "file_extension": ".py",
   "mimetype": "text/x-python",
   "name": "python",
   "nbconvert_exporter": "python",
   "pygments_lexer": "ipython3",
   "version": "3.7.10"
  },
  "papermill": {
   "default_parameters": {},
   "duration": 29.960661,
   "end_time": "2021-06-01T20:50:03.797060",
   "environment_variables": {},
   "exception": null,
   "input_path": "__notebook__.ipynb",
   "output_path": "__notebook__.ipynb",
   "parameters": {},
   "start_time": "2021-06-01T20:49:33.836399",
   "version": "2.3.3"
  }
 },
 "nbformat": 4,
 "nbformat_minor": 5
}
